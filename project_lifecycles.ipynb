{
 "cells": [
  {
   "cell_type": "code",
   "execution_count": 1,
   "id": "8b7ed1df-7314-4770-a83a-9eb2d54cdca4",
   "metadata": {
    "tags": []
   },
   "outputs": [],
   "source": [
    "export PATH=/work/.local/bin:$PATH\n",
    "export PYTHONUSERBASE=/work/.local\n",
    "export ANSIBLE_CONFIG=/work/MLSysEngOps-NYU25Spring/ansible/ansible.cfg\n",
    "export ANSIBLE_ROLES_PATH=roles"
   ]
  },
  {
   "cell_type": "code",
   "execution_count": 2,
   "id": "0380d0fb-3afb-40e6-8bcc-0585688de436",
   "metadata": {
    "tags": []
   },
   "outputs": [
    {
     "name": "stdout",
     "output_type": "stream",
     "text": [
      "\n",
      "PLAY [Clone repo and apply specific Argo WorkflowTemplates] ********************\n",
      "\n",
      "TASK [Gathering Facts] *********************************************************\n",
      "ok: [node1]\n",
      "\n",
      "TASK [Clone or update MLSysEngOps-NYU25Spring repo] ****************************\n",
      "changed: [node1]\n",
      "\n",
      "TASK [Apply selected WorkflowTemplates to Argo namespace] **********************\n",
      "changed: [node1] => (item=build-container-image.yaml)\n",
      "changed: [node1] => (item=deploy-container-image.yaml)\n",
      "changed: [node1] => (item=promote-model.yaml)\n",
      "changed: [node1] => (item=train-model.yaml)\n",
      "\n",
      "TASK [Verify applied WorkflowTemplates] ****************************************\n",
      "changed: [node1]\n",
      "\n",
      "TASK [Show WorkflowTemplates] **************************************************\n",
      "ok: [node1] => \n",
      "  wft_list.stdout: |-\n",
      "    NAME                     AGE\n",
      "    build-container-image    6h5m\n",
      "    deploy-container-image   6h5m\n",
      "    promote-model            6h5m\n",
      "    train-model              6h5m\n",
      "\n",
      "PLAY RECAP *********************************************************************\n",
      "node1                      : ok=5    changed=3    unreachable=0    failed=0    skipped=0    rescued=0    ignored=0   \n",
      "\n"
     ]
    }
   ],
   "source": [
    "cd /work/MLSysEngOps-NYU25Spring/ansible\n",
    "ansible-playbook -i inventory.yml argocd/workflow_templates_apply.yml"
   ]
  },
  {
   "cell_type": "code",
   "execution_count": null,
   "id": "cc639540-d95b-413f-aba2-09270e0d509a",
   "metadata": {},
   "outputs": [],
   "source": []
  },
  {
   "cell_type": "code",
   "execution_count": null,
   "id": "b3b046c2-5bb3-4a4b-a803-6c2841e2c929",
   "metadata": {},
   "outputs": [],
   "source": []
  },
  {
   "cell_type": "code",
   "execution_count": null,
   "id": "011ed177-f5e5-4c52-9de0-53999b37b0be",
   "metadata": {},
   "outputs": [],
   "source": []
  },
  {
   "cell_type": "code",
   "execution_count": null,
   "id": "d3590dde-eaa2-4449-acb7-384196feaf44",
   "metadata": {},
   "outputs": [],
   "source": []
  },
  {
   "cell_type": "code",
   "execution_count": null,
   "id": "cd37b677-bcb4-44ff-804b-83c43954b4c4",
   "metadata": {},
   "outputs": [],
   "source": []
  },
  {
   "cell_type": "code",
   "execution_count": null,
   "id": "d00bfde5-6192-46fb-9454-bf045b0cd03f",
   "metadata": {},
   "outputs": [],
   "source": []
  },
  {
   "cell_type": "code",
   "execution_count": null,
   "id": "3ae0ed20-c35f-4a0c-a320-64b002fe5ee1",
   "metadata": {},
   "outputs": [],
   "source": []
  },
  {
   "cell_type": "code",
   "execution_count": null,
   "id": "3e6e0e06-fd28-418b-8a2e-519597537625",
   "metadata": {},
   "outputs": [],
   "source": []
  },
  {
   "cell_type": "code",
   "execution_count": null,
   "id": "474439dc-fc0d-4117-b091-c34dd74202cb",
   "metadata": {},
   "outputs": [],
   "source": []
  },
  {
   "cell_type": "code",
   "execution_count": null,
   "id": "6f59ea75-b2e5-42d0-bdfb-a29aff09be02",
   "metadata": {},
   "outputs": [],
   "source": []
  },
  {
   "cell_type": "code",
   "execution_count": null,
   "id": "f6612780-d247-4416-a9f2-57331aefecd9",
   "metadata": {},
   "outputs": [],
   "source": []
  },
  {
   "cell_type": "code",
   "execution_count": null,
   "id": "1f72eb18-97cc-4daa-944e-7d4ed1a6459f",
   "metadata": {},
   "outputs": [],
   "source": []
  },
  {
   "cell_type": "code",
   "execution_count": null,
   "id": "84c5b47c-13fd-4835-b8d6-853ae9ad8b7c",
   "metadata": {},
   "outputs": [],
   "source": []
  },
  {
   "cell_type": "code",
   "execution_count": null,
   "id": "7151587c-a04d-49a4-8e75-b06b1ad62853",
   "metadata": {},
   "outputs": [],
   "source": []
  },
  {
   "cell_type": "code",
   "execution_count": null,
   "id": "4f4486dc-70e7-4996-8cbb-0642bae0a32c",
   "metadata": {},
   "outputs": [],
   "source": []
  },
  {
   "cell_type": "code",
   "execution_count": null,
   "id": "6887d249-57c0-4e2b-bb42-6060453b9ad6",
   "metadata": {},
   "outputs": [],
   "source": []
  },
  {
   "cell_type": "code",
   "execution_count": null,
   "id": "b2193463-ba0c-434e-a556-2ac286e5f763",
   "metadata": {},
   "outputs": [],
   "source": []
  },
  {
   "cell_type": "code",
   "execution_count": null,
   "id": "97f30423-1f96-4919-a4cb-2aee39f8db03",
   "metadata": {},
   "outputs": [],
   "source": []
  }
 ],
 "metadata": {
  "kernelspec": {
   "display_name": "Bash",
   "language": "bash",
   "name": "bash"
  },
  "language_info": {
   "codemirror_mode": "shell",
   "file_extension": ".sh",
   "mimetype": "text/x-sh",
   "name": "bash"
  }
 },
 "nbformat": 4,
 "nbformat_minor": 5
}
