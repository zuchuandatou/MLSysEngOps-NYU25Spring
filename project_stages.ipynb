{
 "cells": [
  {
   "cell_type": "code",
   "execution_count": 48,
   "id": "410fe09a-26b8-4ed6-9b51-97dbecefc9b6",
   "metadata": {
    "tags": []
   },
   "outputs": [],
   "source": [
    "# use ansible to let argocd setup platform (minio, postgres, mlflow)"
   ]
  },
  {
   "cell_type": "code",
   "execution_count": 32,
   "id": "128de50b-434e-4b46-86f8-3fe1c91cf472",
   "metadata": {
    "tags": []
   },
   "outputs": [],
   "source": [
    "export PATH=/work/.local/bin:$PATH\n",
    "export PYTHONUSERBASE=/work/.local\n",
    "export ANSIBLE_CONFIG=/work/MLSysEngOps-NYU25Spring/ansible/ansible.cfg\n",
    "export ANSIBLE_ROLES_PATH=roles"
   ]
  },
  {
   "cell_type": "code",
   "execution_count": 29,
   "id": "5312372f-e1a2-41d4-960b-e38447f35edc",
   "metadata": {
    "tags": []
   },
   "outputs": [
    {
     "name": "stdout",
     "output_type": "stream",
     "text": [
      "\n",
      "PLAY [Mount persistent volume and deploy MLflow platform with MinIO] ***********\n",
      "\n",
      "TASK [Gathering Facts] *********************************************************\n",
      "ok: [node1]\n",
      "\n",
      "TASK [Detect filesystem on /dev/vdb] *******************************************\n",
      "ok: [node1]\n",
      "\n",
      "TASK [Format /dev/vdb as ext4 on first use] ************************************\n",
      "skipping: [node1]\n",
      "\n",
      "TASK [Make root mount directory] ***********************************************\n",
      "ok: [node1]\n",
      "\n",
      "TASK [Mount volume & ensure /etc/fstab] ****************************************\n",
      "ok: [node1]\n",
      "\n",
      "TASK [Make MinIO data dir] *****************************************************\n",
      "ok: [node1]\n",
      "\n",
      "TASK [Make Postgres data dir] **************************************************\n",
      "ok: [node1]\n",
      "\n",
      "PLAY [Deploy MLflow platform via ArgoCD & Helm with MinIO secret handling] *****\n",
      "\n",
      "TASK [Gathering Facts] *********************************************************\n",
      "ok: [node1]\n",
      "\n",
      "TASK [Get ArgoCD admin password from Kubernetes secret] ************************\n",
      "changed: [node1]\n",
      "\n",
      "TASK [Decode ArgoCD admin password] ********************************************\n",
      "changed: [node1]\n",
      "\n",
      "TASK [Log in to ArgoCD] ********************************************************\n",
      "ok: [node1]\n",
      "\n",
      "TASK [Add repository to ArgoCD] ************************************************\n",
      "changed: [node1]\n",
      "\n",
      "TASK [Detect external IP starting with 10.56] **********************************\n",
      "ok: [node1]\n",
      "\n",
      "TASK [Ensure project37-platform namespace exists] ******************************\n",
      "ok: [node1]\n",
      "\n",
      "TASK [Create project37-platform namespace if missing] **************************\n",
      "skipping: [node1]\n",
      "\n",
      "TASK [Check if MinIO secret already exists] ************************************\n",
      "ok: [node1]\n",
      "\n",
      "TASK [Generate MinIO secret key] ***********************************************\n",
      "skipping: [node1]\n",
      "\n",
      "TASK [Create MinIO credentials secret] *****************************************\n",
      "skipping: [node1]\n",
      "\n",
      "TASK [Get existing MinIO secret key if already exists] *************************\n",
      "changed: [node1]\n",
      "\n",
      "TASK [Decode existing MinIO secret key] ****************************************\n",
      "ok: [node1]\n",
      "\n",
      "TASK [Check if ArgoCD application exists] **************************************\n",
      "ok: [node1]\n",
      "\n",
      "TASK [Create ArgoCD Helm application if it does not exist] *********************\n",
      "skipping: [node1]\n",
      "\n",
      "TASK [Update ArgoCD Helm application if it exists] *****************************\n",
      "changed: [node1]\n",
      "\n",
      "TASK [Display MinIO credentials] ***********************************************\n",
      "ok: [node1] => \n",
      "  msg: |-\n",
      "    MinIO Access Key: your-access-key\n",
      "    MinIO Secret Key: tydlYBTrYA4anhs6DFIB\n",
      "\n",
      "PLAY RECAP *********************************************************************\n",
      "node1                      : ok=19   changed=5    unreachable=0    failed=0    skipped=5    rescued=0    ignored=0   \n",
      "\n"
     ]
    }
   ],
   "source": [
    "cd /work/MLSysEngOps-NYU25Spring/ansible\n",
    "ansible-playbook -i inventory.yml argocd/argocd_add_platform.yml"
   ]
  },
  {
   "cell_type": "code",
   "execution_count": 40,
   "id": "ec4cefca-5220-4fac-9649-8fa30b378666",
   "metadata": {
    "tags": []
   },
   "outputs": [
    {
     "name": "stdout",
     "output_type": "stream",
     "text": [
      "\n",
      "PLAY [Run Argo Workflow from GitHub Repo] **************************************\n",
      "\n",
      "TASK [Gathering Facts] *********************************************************\n",
      "ok: [node1]\n",
      "\n",
      "TASK [Clone or update gourmetgram-iac repo] ************************************\n",
      "changed: [node1]\n",
      "\n",
      "TASK [Submit Argo Workflow] ****************************************************\n",
      "changed: [node1]\n",
      "\n",
      "TASK [Extract Workflow Name] ***************************************************\n",
      "ok: [node1]\n",
      "\n",
      "TASK [Wait for workflow to complete (success or fail)] *************************\n",
      "changed: [node1]\n",
      "\n",
      "TASK [Get final workflow result] ***********************************************\n",
      "changed: [node1]\n",
      "\n",
      "TASK [Display workflow phase] **************************************************\n",
      "ok: [node1] => \n",
      "  msg: 'Workflow kaniko-pvc-build-9xghg finished with status: Succeeded'\n",
      "\n",
      "TASK [Fail if workflow did not succeed] ****************************************\n",
      "skipping: [node1]\n",
      "\n",
      "PLAY RECAP *********************************************************************\n",
      "node1                      : ok=7    changed=4    unreachable=0    failed=0    skipped=1    rescued=0    ignored=0   \n",
      "\n"
     ]
    }
   ],
   "source": [
    "cd /work/MLSysEngOps-NYU25Spring/ansible\n",
    "ansible-playbook -i inventory.yml argocd/workflow_build_init.yml"
   ]
  },
  {
   "cell_type": "code",
   "execution_count": 42,
   "id": "19f6cfa3-bd14-43c2-bd2d-50e14c2422d4",
   "metadata": {
    "tags": []
   },
   "outputs": [
    {
     "name": "stdout",
     "output_type": "stream",
     "text": [
      "\n",
      "PLAY [Deploy Project37 Staging via ArgoCD & Helm] ******************************\n",
      "\n",
      "TASK [Gathering Facts] *********************************************************\n",
      "ok: [node1]\n",
      "\n",
      "TASK [Get ArgoCD admin password] ***********************************************\n",
      "changed: [node1]\n",
      "\n",
      "TASK [Decode ArgoCD password] **************************************************\n",
      "changed: [node1]\n",
      "\n",
      "TASK [Login to ArgoCD] *********************************************************\n",
      "ok: [node1]\n",
      "\n",
      "TASK [Detect external IP starting with 10.56] **********************************\n",
      "ok: [node1]\n",
      "\n",
      "TASK [Create project37-staging namespace if missing] ***************************\n",
      "ok: [node1]\n",
      "\n",
      "TASK [Check if ArgoCD app exists] **********************************************\n",
      "ok: [node1]\n",
      "\n",
      "TASK [Create ArgoCD Helm app if not exists] ************************************\n",
      "skipping: [node1]\n",
      "\n",
      "TASK [Update ArgoCD Helm app if exists] ****************************************\n",
      "changed: [node1]\n",
      "\n",
      "TASK [Display ArgoCD app status] ***********************************************\n",
      "changed: [node1]\n",
      "\n",
      "TASK [Show final status] *******************************************************\n",
      "ok: [node1] => \n",
      "  final_status.stdout: |-\n",
      "    Name:               argocd/project37-staging\n",
      "    Project:            default\n",
      "    Server:             https://kubernetes.default.svc\n",
      "    Namespace:          project37-staging\n",
      "    URL:                https://127.0.0.1:33071/applications/project37-staging\n",
      "    Source:\n",
      "    - Repo:             https://github.com/zuchuandatou/MLSysEngOps-NYU25Spring.git\n",
      "      Target:           zehao-li/cicd\n",
      "      Path:             k8s/staging\n",
      "    SyncWindow:         Sync Allowed\n",
      "    Sync Policy:        Automated\n",
      "    Sync Status:        Synced to zehao-li/cicd (20c6c1c)\n",
      "    Health Status:      Healthy\n",
      "  \n",
      "    GROUP  KIND        NAMESPACE          NAME           STATUS  HEALTH   HOOK  MESSAGE\n",
      "           Service     project37-staging  project37-app  Synced  Healthy        service/project37-app unchanged\n",
      "    apps   Deployment  project37-staging  project37-app  Synced  Healthy        deployment.apps/project37-app configured\n",
      "\n",
      "PLAY RECAP *********************************************************************\n",
      "node1                      : ok=10   changed=4    unreachable=0    failed=0    skipped=1    rescued=0    ignored=0   \n",
      "\n"
     ]
    }
   ],
   "source": [
    "cd /work/MLSysEngOps-NYU25Spring/ansible\n",
    "ansible-playbook -i inventory.yml argocd/argocd_add_staging.yml"
   ]
  },
  {
   "cell_type": "code",
   "execution_count": null,
   "id": "17f01e1f",
   "metadata": {
    "vscode": {
     "languageId": "plaintext"
    }
   },
   "outputs": [],
   "source": []
  },
  {
   "cell_type": "code",
   "execution_count": null,
   "id": "a54f255d",
   "metadata": {
    "vscode": {
     "languageId": "plaintext"
    }
   },
   "outputs": [],
   "source": []
  },
  {
   "cell_type": "code",
   "execution_count": null,
   "id": "eb05a319-d157-49f7-9e2f-88ec6bf92710",
   "metadata": {},
   "outputs": [],
   "source": []
  },
  {
   "cell_type": "code",
   "execution_count": null,
   "id": "f4d3d159-c886-4e2f-9c60-9194762a66b4",
   "metadata": {},
   "outputs": [],
   "source": []
  },
  {
   "cell_type": "code",
   "execution_count": null,
   "id": "eedd49e5-0e1d-4185-9467-f6e66f94d409",
   "metadata": {},
   "outputs": [],
   "source": []
  },
  {
   "cell_type": "code",
   "execution_count": null,
   "id": "207a6c9f-543e-4732-a2c5-dfde6fdcf844",
   "metadata": {},
   "outputs": [],
   "source": []
  },
  {
   "cell_type": "code",
   "execution_count": null,
   "id": "d2c5d8cd-454c-4fd3-b59f-857562b90748",
   "metadata": {},
   "outputs": [],
   "source": []
  },
  {
   "cell_type": "code",
   "execution_count": 59,
   "id": "f30022ef-7347-448b-8cee-e47e1ee82cf3",
   "metadata": {
    "tags": []
   },
   "outputs": [
    {
     "name": "stdout",
     "output_type": "stream",
     "text": [
      "---\n",
      "- name: Deploy Project37 Canary via ArgoCD & Helm\n",
      "  hosts: node1\n",
      "  become: yes\n",
      "  vars:\n",
      "    app_name: project37-canary\n",
      "    repo_url: https://github.com/zuchuandatou/MLSysEngOps-NYU25Spring.git\n",
      "    target_rev: zehao-li/cicd\n",
      "    app_path: k8s/canary\n",
      "    argocd_namespace: argocd\n",
      "    dest_namespace: project37-canary\n",
      "\n",
      "  tasks:\n",
      "\n",
      "    - name: Get ArgoCD admin password\n",
      "      command: >\n",
      "        kubectl get secret -n {{ argocd_namespace }} argocd-initial-admin-secret \\\n",
      "        -o jsonpath=\"{.data.password}\"\n",
      "      register: argocd_password_b64\n",
      "\n",
      "    - name: Decode ArgoCD password\n",
      "      shell: echo {{ argocd_password_b64.stdout }} | base64 --decode\n",
      "      register: argocd_password\n",
      "\n",
      "    - name: Login to ArgoCD\n",
      "      command: >\n",
      "        argocd login localhost --username admin \\\n",
      "        --password \"{{ argocd_password.stdout }}\" \\\n",
      "        --grpc-web --port-forward --port-forward-namespace={{ argocd_namespace }}\n",
      "      changed_when: false\n",
      "\n",
      "    - name: Detect external IP starting with 10.56\n",
      "      set_fact:\n",
      "        external_ip: \"{{ ansible_all_ipv4_addresses | select('match', '^10\\\\.56\\\\..*') | list | first }}\"\n",
      "\n",
      "    - name: Create project37-canary namespace if missing\n",
      "      command: kubectl create namespace project37-canary\n",
      "      register: ns_create\n",
      "      failed_when: ns_create.rc != 0 and \"AlreadyExists\" not in ns_create.stderr\n",
      "      changed_when: \"'created' in ns_create.stdout\"\n",
      "\n",
      "    - name: Check if ArgoCD app exists\n",
      "      command: argocd app get {{ app_name }} --port-forward --port-forward-namespace={{ argocd_namespace }}\n",
      "      register: app_check\n",
      "      failed_when: false\n",
      "      changed_when: false\n",
      "\n",
      "    - name: Create ArgoCD Helm app if not exists\n",
      "      when: app_check.rc != 0\n",
      "      command: >\n",
      "        argocd app create {{ app_name }} \\\n",
      "        --repo {{ repo_url }} \\\n",
      "        --path {{ app_path }} \\\n",
      "        --revision {{ target_rev }} \\ \n",
      "        --dest-server https://kubernetes.default.svc \\\n",
      "        --dest-namespace {{ dest_namespace }} \\\n",
      "        --helm-set-string service.externalIP={{ external_ip }} \\\n",
      "        --sync-policy automated --self-heal \\\n",
      "        --port-forward --port-forward-namespace={{ argocd_namespace }}\n",
      "\n",
      "    - name: Update ArgoCD Helm app if exists\n",
      "      when: app_check.rc == 0\n",
      "      command: >\n",
      "        argocd app set {{ app_name }} \\\n",
      "        --revision {{ target_rev }} \\ \n",
      "        --helm-set-string service.externalIP={{ external_ip }} \\\n",
      "        --port-forward --port-forward-namespace={{ argocd_namespace }}\n",
      "\n",
      "    - name: Display ArgoCD app status\n",
      "      command: argocd app get {{ app_name }} --port-forward --port-forward-namespace={{ argocd_namespace }}\n",
      "      register: final_status\n",
      "\n",
      "    - name: Show final status\n",
      "      debug:\n",
      "        var: final_status.stdout\n"
     ]
    }
   ],
   "source": [
    "cd /work/MLSysEngOps-NYU25Spring/ansible\n",
    "cat argocd/argocd_add_canary2.yml"
   ]
  },
  {
   "cell_type": "code",
   "execution_count": 60,
   "id": "7764fbde-7967-49a1-a61e-29f87b17435e",
   "metadata": {
    "tags": []
   },
   "outputs": [
    {
     "name": "stdout",
     "output_type": "stream",
     "text": [
      "\n",
      "PLAY [Deploy Project37 Canary via ArgoCD & Helm] *******************************\n",
      "\n",
      "TASK [Gathering Facts] *********************************************************\n",
      "ok: [node1]\n",
      "\n",
      "TASK [Get ArgoCD admin password] ***********************************************\n",
      "changed: [node1]\n",
      "\n",
      "TASK [Decode ArgoCD password] **************************************************\n",
      "changed: [node1]\n",
      "\n",
      "TASK [Login to ArgoCD] *********************************************************\n",
      "ok: [node1]\n",
      "\n",
      "TASK [Detect external IP starting with 10.56] **********************************\n",
      "ok: [node1]\n",
      "\n",
      "TASK [Create project37-canary namespace if missing] ****************************\n",
      "ok: [node1]\n",
      "\n",
      "TASK [Check if ArgoCD app exists] **********************************************\n",
      "ok: [node1]\n",
      "\n",
      "TASK [Create ArgoCD Helm app if not exists] ************************************\n",
      "changed: [node1]\n",
      "\n",
      "TASK [Update ArgoCD Helm app if exists] ****************************************\n",
      "skipping: [node1]\n",
      "\n",
      "TASK [Display ArgoCD app status] ***********************************************\n",
      "changed: [node1]\n",
      "\n",
      "TASK [Show final status] *******************************************************\n",
      "ok: [node1] => \n",
      "  final_status.stdout: |-\n",
      "    Name:               argocd/project37-canary\n",
      "    Project:            default\n",
      "    Server:             https://kubernetes.default.svc\n",
      "    Namespace:          project37-canary\n",
      "    URL:                https://127.0.0.1:44535/applications/project37-canary\n",
      "    Source:\n",
      "    - Repo:             https://github.com/zuchuandatou/MLSysEngOps-NYU25Spring.git\n",
      "      Target:           zehao-li/cicd\n",
      "      Path:             k8s/canary\n",
      "    SyncWindow:         Sync Allowed\n",
      "    Sync Policy:        Automated\n",
      "    Sync Status:        Synced to zehao-li/cicd (8dbe36b)\n",
      "    Health Status:      Progressing\n",
      "  \n",
      "    GROUP  KIND        NAMESPACE         NAME           STATUS  HEALTH       HOOK  MESSAGE\n",
      "           Service     project37-canary  project37-app  Synced  Healthy            service/project37-app created\n",
      "    apps   Deployment  project37-canary  project37-app  Synced  Progressing        deployment.apps/project37-app created\n",
      "\n",
      "PLAY RECAP *********************************************************************\n",
      "node1                      : ok=10   changed=4    unreachable=0    failed=0    skipped=1    rescued=0    ignored=0   \n",
      "\n"
     ]
    }
   ],
   "source": [
    "cd /work/MLSysEngOps-NYU25Spring/ansible\n",
    "ansible-playbook -i inventory.yml argocd/argocd_add_canary2.yml"
   ]
  },
  {
   "cell_type": "code",
   "execution_count": null,
   "id": "f001df24-e3fd-4121-99c9-529ae40c418b",
   "metadata": {},
   "outputs": [],
   "source": []
  },
  {
   "cell_type": "code",
   "execution_count": null,
   "id": "a0289aa5-4255-4991-9bf3-23bd6a7be8a5",
   "metadata": {},
   "outputs": [],
   "source": []
  },
  {
   "cell_type": "code",
   "execution_count": null,
   "id": "6277b260-40e5-4424-bc77-98d88a2b350c",
   "metadata": {},
   "outputs": [],
   "source": []
  },
  {
   "cell_type": "code",
   "execution_count": null,
   "id": "b399d0ce-4a42-4d70-8438-ede8e2936ed7",
   "metadata": {},
   "outputs": [],
   "source": []
  },
  {
   "cell_type": "code",
   "execution_count": null,
   "id": "805f8fea-7e9a-47ca-9d7f-80a98f66503b",
   "metadata": {},
   "outputs": [],
   "source": []
  },
  {
   "cell_type": "code",
   "execution_count": null,
   "id": "1c62d966-9412-4235-83e5-8100b9bf133b",
   "metadata": {},
   "outputs": [],
   "source": []
  },
  {
   "cell_type": "code",
   "execution_count": null,
   "id": "a45cf3ce-6d2b-4718-a48a-4ec881787cc9",
   "metadata": {},
   "outputs": [],
   "source": []
  },
  {
   "cell_type": "code",
   "execution_count": 44,
   "id": "b453397e-b5a0-4c62-a71d-43c57f4eb456",
   "metadata": {
    "tags": []
   },
   "outputs": [
    {
     "name": "stdout",
     "output_type": "stream",
     "text": [
      "\n",
      "PLAY [Deploy Project37 Production via ArgoCD & Helm] ***************************\n",
      "\n",
      "TASK [Gathering Facts] *********************************************************\n",
      "ok: [node1]\n",
      "\n",
      "TASK [Get ArgoCD admin password] ***********************************************\n",
      "changed: [node1]\n",
      "\n",
      "TASK [Decode ArgoCD password] **************************************************\n",
      "changed: [node1]\n",
      "\n",
      "TASK [Login to ArgoCD] *********************************************************\n",
      "ok: [node1]\n",
      "\n",
      "TASK [Detect external IP starting with 10.56] **********************************\n",
      "ok: [node1]\n",
      "\n",
      "TASK [Create gourmetgram-production namespace if missing] **********************\n",
      "changed: [node1]\n",
      "\n",
      "TASK [Check if ArgoCD app exists] **********************************************\n",
      "ok: [node1]\n",
      "\n",
      "TASK [Create ArgoCD Helm app if not exists] ************************************\n",
      "changed: [node1]\n",
      "\n",
      "TASK [Update ArgoCD Helm app if exists] ****************************************\n",
      "skipping: [node1]\n",
      "\n",
      "TASK [Display ArgoCD app status] ***********************************************\n",
      "changed: [node1]\n",
      "\n",
      "TASK [Show final status] *******************************************************\n",
      "ok: [node1] => \n",
      "  final_status.stdout: |-\n",
      "    Name:               argocd/project37-production\n",
      "    Project:            default\n",
      "    Server:             https://kubernetes.default.svc\n",
      "    Namespace:\n",
      "    URL:                https://127.0.0.1:45865/applications/project37-production\n",
      "    Source:\n",
      "    - Repo:             https://github.com/zuchuandatou/MLSysEngOps-NYU25Spring.git\n",
      "      Target:\n",
      "      Path:             k8s/production\n",
      "    SyncWindow:         Sync Allowed\n",
      "    Sync Policy:        Automated\n",
      "    Sync Status:        Synced to  (20a7456)\n",
      "    Health Status:      Progressing\n",
      "  \n",
      "    GROUP  KIND        NAMESPACE               NAME             STATUS  HEALTH       HOOK  MESSAGE\n",
      "           Service     gourmetgram-production  gourmetgram-app  Synced  Healthy            service/gourmetgram-app created\n",
      "    apps   Deployment  gourmetgram-production  gourmetgram-app  Synced  Progressing        deployment.apps/gourmetgram-app created\n",
      "\n",
      "PLAY RECAP *********************************************************************\n",
      "node1                      : ok=10   changed=5    unreachable=0    failed=0    skipped=1    rescued=0    ignored=0   \n",
      "\n"
     ]
    }
   ],
   "source": [
    "cd /work/MLSysEngOps-NYU25Spring/ansible\n",
    "ansible-playbook -i inventory.yml argocd/argocd_add_prod.yml"
   ]
  },
  {
   "cell_type": "code",
   "execution_count": null,
   "id": "f1c9d34c-d24d-40d5-8d53-60bd417718b5",
   "metadata": {},
   "outputs": [],
   "source": []
  },
  {
   "cell_type": "code",
   "execution_count": null,
   "id": "627167e1-f350-4655-b12b-1d773cb71c20",
   "metadata": {},
   "outputs": [],
   "source": []
  },
  {
   "cell_type": "code",
   "execution_count": null,
   "id": "43e2e0e8-4695-4082-85ae-8ba4bd7435be",
   "metadata": {},
   "outputs": [],
   "source": []
  },
  {
   "cell_type": "code",
   "execution_count": null,
   "id": "1dd455e5-a13a-4167-a5fd-cd1348cc4f8e",
   "metadata": {},
   "outputs": [],
   "source": []
  },
  {
   "cell_type": "code",
   "execution_count": null,
   "id": "ac72a79a-00a8-473a-9f76-f450038c9fb8",
   "metadata": {},
   "outputs": [],
   "source": []
  },
  {
   "cell_type": "code",
   "execution_count": null,
   "id": "8b8567af-714b-4621-95e6-73d9238f7850",
   "metadata": {},
   "outputs": [],
   "source": []
  }
 ],
 "metadata": {
  "kernelspec": {
   "display_name": "Bash",
   "language": "bash",
   "name": "bash"
  },
  "language_info": {
   "codemirror_mode": "shell",
   "file_extension": ".sh",
   "mimetype": "text/x-sh",
   "name": "bash"
  }
 },
 "nbformat": 4,
 "nbformat_minor": 5
}
