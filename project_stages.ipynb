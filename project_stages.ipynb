{
 "cells": [
  {
   "cell_type": "code",
   "execution_count": 48,
   "id": "410fe09a-26b8-4ed6-9b51-97dbecefc9b6",
   "metadata": {
    "tags": []
   },
   "outputs": [],
   "source": [
    "# use ansible to let argocd setup platform (minio, postgres, mlflow)"
   ]
  },
  {
   "cell_type": "code",
   "execution_count": 1,
   "id": "128de50b-434e-4b46-86f8-3fe1c91cf472",
   "metadata": {
    "tags": []
   },
   "outputs": [],
   "source": [
    "export PATH=/work/.local/bin:$PATH\n",
    "export PYTHONUSERBASE=/work/.local\n",
    "export ANSIBLE_CONFIG=/work/MLSysEngOps-NYU25Spring/ansible/ansible.cfg\n",
    "export ANSIBLE_ROLES_PATH=roles"
   ]
  },
  {
   "cell_type": "code",
   "execution_count": 83,
   "id": "5312372f-e1a2-41d4-960b-e38447f35edc",
   "metadata": {
    "collapsed": true,
    "jupyter": {
     "outputs_hidden": true
    },
    "tags": []
   },
   "outputs": [
    {
     "name": "stdout",
     "output_type": "stream",
     "text": [
      "\n",
      "PLAY [Mount persistent volume and deploy MLflow platform with MinIO] ***********\n",
      "\n",
      "TASK [Gathering Facts] *********************************************************\n",
      "ok: [node1]\n",
      "\n",
      "TASK [Detect filesystem on /dev/vdb] *******************************************\n",
      "ok: [node1]\n",
      "\n",
      "TASK [Format /dev/vdb as ext4 on first use] ************************************\n",
      "skipping: [node1]\n",
      "\n",
      "TASK [Make root mount directory] ***********************************************\n",
      "ok: [node1]\n",
      "\n",
      "TASK [Mount volume & ensure /etc/fstab] ****************************************\n",
      "ok: [node1]\n",
      "\n",
      "TASK [Make MinIO data dir] *****************************************************\n",
      "ok: [node1]\n",
      "\n",
      "TASK [Make Postgres data dir] **************************************************\n",
      "ok: [node1]\n",
      "\n",
      "PLAY [Deploy MLflow platform via ArgoCD & Helm with MinIO secret handling] *****\n",
      "\n",
      "TASK [Gathering Facts] *********************************************************\n",
      "ok: [node1]\n",
      "\n",
      "TASK [Get ArgoCD admin password from Kubernetes secret] ************************\n",
      "changed: [node1]\n",
      "\n",
      "TASK [Decode ArgoCD admin password] ********************************************\n",
      "changed: [node1]\n",
      "\n",
      "TASK [Log in to ArgoCD] ********************************************************\n",
      "ok: [node1]\n",
      "\n",
      "TASK [Add repository to ArgoCD] ************************************************\n",
      "changed: [node1]\n",
      "\n",
      "TASK [Detect external IP starting with 10.56] **********************************\n",
      "ok: [node1]\n",
      "\n",
      "TASK [Ensure project37-platform namespace exists] ******************************\n",
      "ok: [node1]\n",
      "\n",
      "TASK [Create project37-platform namespace if missing] **************************\n",
      "skipping: [node1]\n",
      "\n",
      "TASK [Check if MinIO secret already exists] ************************************\n",
      "ok: [node1]\n",
      "\n",
      "TASK [Generate MinIO secret key] ***********************************************\n",
      "skipping: [node1]\n",
      "\n",
      "TASK [Create MinIO credentials secret] *****************************************\n",
      "skipping: [node1]\n",
      "\n",
      "TASK [Get existing MinIO secret key if already exists] *************************\n",
      "changed: [node1]\n",
      "\n",
      "TASK [Decode existing MinIO secret key] ****************************************\n",
      "ok: [node1]\n",
      "\n",
      "TASK [Check if ArgoCD application exists] **************************************\n",
      "ok: [node1]\n",
      "\n",
      "TASK [Create ArgoCD Helm application if it does not exist] *********************\n",
      "changed: [node1]\n",
      "\n",
      "TASK [Update ArgoCD Helm application if it exists] *****************************\n",
      "skipping: [node1]\n",
      "\n",
      "TASK [Display MinIO credentials] ***********************************************\n",
      "ok: [node1] => \n",
      "  msg: |-\n",
      "    MinIO Access Key: your-access-key\n",
      "    MinIO Secret Key: eOBx966zpvvM5gfs8cdD\n",
      "\n",
      "PLAY RECAP *********************************************************************\n",
      "node1                      : ok=19   changed=5    unreachable=0    failed=0    skipped=5    rescued=0    ignored=0   \n",
      "\n"
     ]
    }
   ],
   "source": [
    "cd /work/MLSysEngOps-NYU25Spring/ansible\n",
    "ansible-playbook -i inventory.yml argocd/argocd_add_platform2.yml"
   ]
  },
  {
   "cell_type": "code",
   "execution_count": 14,
   "id": "634c43c3-8994-44e0-b2e8-80166573fc51",
   "metadata": {
    "tags": []
   },
   "outputs": [
    {
     "name": "stdout",
     "output_type": "stream",
     "text": [
      "apiVersion: argoproj.io/v1alpha1\n",
      "kind: Workflow\n",
      "metadata:\n",
      "  generateName: kaniko-pvc-build-\n",
      "spec:\n",
      "  entrypoint: kaniko-build-flow\n",
      "  volumeClaimTemplates:\n",
      "  - metadata:\n",
      "      name: workdir\n",
      "    spec:\n",
      "      accessModes: [ \"ReadWriteOnce\" ]\n",
      "      resources:\n",
      "        requests:\n",
      "          storage: 1Gi\n",
      "\n",
      "  templates:\n",
      "  - name: kaniko-build-flow\n",
      "    steps:\n",
      "      - - name: clone-repo\n",
      "          template: git-clone\n",
      "      - - name: kaniko-build\n",
      "          template: kaniko\n",
      "\n",
      "  - name: git-clone\n",
      "    container:\n",
      "      image: alpine/git\n",
      "      command: [sh, -c]\n",
      "      args:\n",
      "        - |\n",
      "          MAX_RETRIES=5\n",
      "          i=1\n",
      "\n",
      "          echo \"Cleaning existing workspace if any...\"\n",
      "          rm -rf /mnt/workspace/*\n",
      "\n",
      "          while [ $i -le $MAX_RETRIES ]; do\n",
      "            echo \"Attempt $i of $MAX_RETRIES: Cloning repo...\"\n",
      "            git clone --branch app-staging https://github.com/zuchuandatou/MLSysEngOps-NYU25Spring.git /mnt/workspace && break\n",
      "            echo \"Git clone failed. Retrying in 5 seconds...\"\n",
      "            i=$((i + 1))\n",
      "            sleep 5\n",
      "          done\n",
      "\n",
      "          if [ ! -d /mnt/workspace/.git ]; then\n",
      "            echo \"Git clone failed after $MAX_RETRIES attempts.\"\n",
      "            exit 1\n",
      "          fi\n",
      "      volumeMounts:\n",
      "      - name: workdir\n",
      "        mountPath: /mnt/workspace\n",
      "\n",
      "  - name: kaniko\n",
      "    container:\n",
      "      image: gcr.io/kaniko-project/executor:latest\n",
      "      env:\n",
      "        - name: DOCKER_CONFIG\n",
      "          value: /kaniko/.docker/\n",
      "        - name: GODEBUG\n",
      "          value: \"netdns=go+1\"\n",
      "      args:\n",
      "        - --dockerfile=/mnt/workspace/Dockerfile\n",
      "        - --context=/mnt/workspace\n",
      "        - --destination=registry.kube-system.svc.cluster.local:5000/project37-app:staging-2.0.0\n",
      "        - --destination=registry.kube-system.svc.cluster.local:5000/project37-app:canary-1.0.0\n",
      "        - --destination=registry.kube-system.svc.cluster.local:5000/project37-app:production-1.0.0\n",
      "        - --insecure\n",
      "      volumeMounts:\n",
      "        - name: workdir\n",
      "          mountPath: /mnt/workspace\n",
      "\n"
     ]
    }
   ],
   "source": [
    "cd /work/MLSysEngOps-NYU25Spring\n",
    "cat workflows/build-initial2.yaml"
   ]
  },
  {
   "cell_type": "code",
   "execution_count": 19,
   "id": "ec4cefca-5220-4fac-9649-8fa30b378666",
   "metadata": {
    "tags": []
   },
   "outputs": [
    {
     "name": "stdout",
     "output_type": "stream",
     "text": [
      "\n",
      "PLAY [Run Argo Workflow from GitHub Repo] **************************************\n",
      "\n",
      "TASK [Gathering Facts] *********************************************************\n",
      "ok: [node1]\n",
      "\n",
      "TASK [Clone or update project37 repo] ******************************************\n",
      "ok: [node1]\n",
      "\n",
      "TASK [Submit Argo Workflow] ****************************************************\n",
      "changed: [node1]\n",
      "\n",
      "TASK [Extract Workflow Name] ***************************************************\n",
      "ok: [node1]\n",
      "\n",
      "TASK [Wait for workflow to complete (success or fail)] *************************\n",
      "changed: [node1]\n",
      "\n",
      "TASK [Get final workflow result] ***********************************************\n",
      "changed: [node1]\n",
      "\n",
      "TASK [Display workflow phase] **************************************************\n",
      "ok: [node1] => \n",
      "  msg: 'Workflow kaniko-pvc-build-ltqff finished with status: Failed'\n",
      "\n",
      "TASK [Fail if workflow did not succeed] ****************************************\n",
      "fatal: [node1]: FAILED! => changed=false \n",
      "  msg: 'Workflow kaniko-pvc-build-ltqff failed with status: Failed'\n",
      "\n",
      "PLAY RECAP *********************************************************************\n",
      "node1                      : ok=7    changed=3    unreachable=0    failed=1    skipped=0    rescued=0    ignored=0   \n",
      "\n"
     ]
    },
    {
     "ename": "",
     "evalue": "2",
     "output_type": "error",
     "traceback": []
    }
   ],
   "source": [
    "cd /work/MLSysEngOps-NYU25Spring/ansible\n",
    "ansible-playbook -i inventory.yml argocd/workflow_build_init.yml"
   ]
  },
  {
   "cell_type": "code",
   "execution_count": null,
   "id": "187b2383-3530-4f43-ac25-a82baa3ff7b2",
   "metadata": {},
   "outputs": [],
   "source": []
  },
  {
   "cell_type": "code",
   "execution_count": null,
   "id": "524e4fbc-167e-4ae7-ae19-af2d0c1d6043",
   "metadata": {},
   "outputs": [],
   "source": []
  },
  {
   "cell_type": "code",
   "execution_count": 23,
   "id": "deb24d7c-a169-4796-80f0-8b5fdf1680a7",
   "metadata": {
    "tags": []
   },
   "outputs": [
    {
     "name": "stdout",
     "output_type": "stream",
     "text": [
      "# Deployment\n",
      "apiVersion: apps/v1\n",
      "kind: Deployment\n",
      "metadata:\n",
      "  name: project37-app\n",
      "  namespace: project37-staging\n",
      "\n",
      "spec:\n",
      "  replicas: {{ .Values.replicaCount }}\n",
      "  selector:\n",
      "    matchLabels:\n",
      "      app: project37-app\n",
      "  template:\n",
      "    metadata:\n",
      "      labels:\n",
      "        app: project37-app\n",
      "    spec:\n",
      "      containers:\n",
      "        - name: project37-app\n",
      "          image: {{ .Values.image.repository }}:{{ .Values.image.tag }}\n",
      "          ports:\n",
      "            - containerPort: 3000\n",
      "            - containerPort: 8000\n",
      "          resources:\n",
      "            {{- toYaml .Values.resources | nindent 12 }}\n",
      "---\n",
      "# Service\n",
      "apiVersion: v1\n",
      "kind: Service\n",
      "metadata:\n",
      "  name: project37-app\n",
      "  namespace: project37-staging\n",
      "spec:\n",
      "  type: NodePort\n",
      "  selector:\n",
      "    app: project37-app\n",
      "  ports:\n",
      "    - name: web\n",
      "      port: {{ .Values.service.port }}      \n",
      "      targetPort: 3000\n",
      "    - name: api                             \n",
      "      port: 8001                            \n",
      "      targetPort: 8000  \n",
      "      nodePort: 30001\n",
      "  externalIPs:\n",
      "    - {{ .Values.service.externalIP }}\n",
      "\n"
     ]
    }
   ],
   "source": [
    "cd /work/MLSysEngOps-NYU25Spring/k8s/staging/\n",
    "cat templates/project37-app.yaml"
   ]
  },
  {
   "cell_type": "code",
   "execution_count": 26,
   "id": "19f6cfa3-bd14-43c2-bd2d-50e14c2422d4",
   "metadata": {
    "tags": []
   },
   "outputs": [
    {
     "name": "stdout",
     "output_type": "stream",
     "text": [
      "\n",
      "PLAY [Deploy Project37 Staging via ArgoCD & Helm] ******************************\n",
      "\n",
      "TASK [Gathering Facts] *********************************************************\n",
      "ok: [node1]\n",
      "\n",
      "TASK [Get ArgoCD admin password] ***********************************************\n",
      "changed: [node1]\n",
      "\n",
      "TASK [Decode ArgoCD password] **************************************************\n",
      "changed: [node1]\n",
      "\n",
      "TASK [Login to ArgoCD] *********************************************************\n",
      "ok: [node1]\n",
      "\n",
      "TASK [Detect external IP starting with 10.56] **********************************\n",
      "ok: [node1]\n",
      "\n",
      "TASK [Create project37-staging namespace if missing] ***************************\n",
      "ok: [node1]\n",
      "\n",
      "TASK [Check if ArgoCD app exists] **********************************************\n",
      "ok: [node1]\n",
      "\n",
      "TASK [Create ArgoCD Helm app if not exists] ************************************\n",
      "skipping: [node1]\n",
      "\n",
      "TASK [Update ArgoCD Helm app if exists] ****************************************\n",
      "changed: [node1]\n",
      "\n",
      "TASK [Display ArgoCD app status] ***********************************************\n",
      "changed: [node1]\n",
      "\n",
      "TASK [Show final status] *******************************************************\n",
      "ok: [node1] => \n",
      "  final_status.stdout: |-\n",
      "    Name:               argocd/project37-staging\n",
      "    Project:            default\n",
      "    Server:             https://kubernetes.default.svc\n",
      "    Namespace:          project37-staging\n",
      "    URL:                https://127.0.0.1:39995/applications/project37-staging\n",
      "    Source:\n",
      "    - Repo:             https://github.com/zuchuandatou/MLSysEngOps-NYU25Spring.git\n",
      "      Target:           zehao-li-cicd\n",
      "      Path:             k8s/staging\n",
      "    SyncWindow:         Sync Allowed\n",
      "    Sync Policy:        Automated\n",
      "    Sync Status:        Synced to zehao-li-cicd (db615db)\n",
      "    Health Status:      Healthy\n",
      "  \n",
      "    GROUP  KIND        NAMESPACE          NAME           STATUS  HEALTH   HOOK  MESSAGE\n",
      "           Service     project37-staging  project37-app  Synced  Healthy        service/project37-app configured\n",
      "    apps   Deployment  project37-staging  project37-app  Synced  Healthy        deployment.apps/project37-app configured\n",
      "\n",
      "PLAY RECAP *********************************************************************\n",
      "node1                      : ok=10   changed=4    unreachable=0    failed=0    skipped=1    rescued=0    ignored=0   \n",
      "\n"
     ]
    }
   ],
   "source": [
    "cd /work/MLSysEngOps-NYU25Spring/ansible\n",
    "ansible-playbook -i inventory.yml argocd/argocd_add_staging.yml"
   ]
  },
  {
   "cell_type": "code",
   "execution_count": null,
   "id": "2bc94b74-67d1-496b-8446-a2f2e990af82",
   "metadata": {},
   "outputs": [],
   "source": []
  },
  {
   "cell_type": "code",
   "execution_count": null,
   "id": "936255eb-f209-4a48-a2f9-767bbf27ed87",
   "metadata": {},
   "outputs": [],
   "source": []
  },
  {
   "cell_type": "code",
   "execution_count": 3,
   "id": "7764fbde-7967-49a1-a61e-29f87b17435e",
   "metadata": {
    "tags": []
   },
   "outputs": [
    {
     "name": "stdout",
     "output_type": "stream",
     "text": [
      "\n",
      "PLAY [Deploy Project37 Canary via ArgoCD & Helm] *******************************\n",
      "\n",
      "TASK [Gathering Facts] *********************************************************\n",
      "ok: [node1]\n",
      "\n",
      "TASK [Get ArgoCD admin password] ***********************************************\n",
      "changed: [node1]\n",
      "\n",
      "TASK [Decode ArgoCD password] **************************************************\n",
      "changed: [node1]\n",
      "\n",
      "TASK [Login to ArgoCD] *********************************************************\n",
      "ok: [node1]\n",
      "\n",
      "TASK [Detect external IP starting with 10.56] **********************************\n",
      "ok: [node1]\n",
      "\n",
      "TASK [Create project37-canary namespace if missing] ****************************\n",
      "ok: [node1]\n",
      "\n",
      "TASK [Check if ArgoCD app exists] **********************************************\n",
      "ok: [node1]\n",
      "\n",
      "TASK [Create ArgoCD Helm app if not exists] ************************************\n",
      "skipping: [node1]\n",
      "\n",
      "TASK [Update ArgoCD Helm app if exists] ****************************************\n",
      "changed: [node1]\n",
      "\n",
      "TASK [Display ArgoCD app status] ***********************************************\n",
      "changed: [node1]\n",
      "\n",
      "TASK [Show final status] *******************************************************\n",
      "ok: [node1] => \n",
      "  final_status.stdout: |-\n",
      "    Name:               argocd/project37-canary\n",
      "    Project:            default\n",
      "    Server:             https://kubernetes.default.svc\n",
      "    Namespace:          project37-canary\n",
      "    URL:                https://127.0.0.1:43239/applications/project37-canary\n",
      "    Source:\n",
      "    - Repo:             https://github.com/zuchuandatou/MLSysEngOps-NYU25Spring.git\n",
      "      Target:           zehao-li-cicd\n",
      "      Path:             k8s/canary\n",
      "    SyncWindow:         Sync Allowed\n",
      "    Sync Policy:        Automated\n",
      "    Sync Status:        Synced to zehao-li-cicd (680af09)\n",
      "    Health Status:      Healthy\n",
      "  \n",
      "    GROUP  KIND        NAMESPACE         NAME           STATUS  HEALTH   HOOK  MESSAGE\n",
      "           Service     project37-canary  project37-app  Synced  Healthy        service/project37-app created\n",
      "    apps   Deployment  project37-canary  project37-app  Synced  Healthy        deployment.apps/project37-app created\n",
      "\n",
      "PLAY RECAP *********************************************************************\n",
      "node1                      : ok=10   changed=4    unreachable=0    failed=0    skipped=1    rescued=0    ignored=0   \n",
      "\n"
     ]
    }
   ],
   "source": [
    "cd /work/MLSysEngOps-NYU25Spring/ansible\n",
    "ansible-playbook -i inventory.yml argocd/argocd_add_canary2.yml"
   ]
  },
  {
   "cell_type": "code",
   "execution_count": null,
   "id": "60072b6a-98f1-481e-a08d-4fbe8a59048f",
   "metadata": {},
   "outputs": [],
   "source": []
  },
  {
   "cell_type": "code",
   "execution_count": null,
   "id": "f74513a2-2c0d-48d2-9c00-eccc33d359b8",
   "metadata": {},
   "outputs": [],
   "source": []
  },
  {
   "cell_type": "code",
   "execution_count": null,
   "id": "f2674b12-0cad-4ce5-b43c-a9cc9332dbe2",
   "metadata": {},
   "outputs": [],
   "source": []
  },
  {
   "cell_type": "code",
   "execution_count": null,
   "id": "a13caa99-f0c2-4ac7-84e9-2af0e9ad88dc",
   "metadata": {},
   "outputs": [],
   "source": []
  },
  {
   "cell_type": "code",
   "execution_count": null,
   "id": "5223818c-d4db-4cf8-a6a6-c72a794d871a",
   "metadata": {},
   "outputs": [],
   "source": []
  },
  {
   "cell_type": "code",
   "execution_count": null,
   "id": "3957d61d-458b-471c-b079-5acc18996861",
   "metadata": {},
   "outputs": [],
   "source": []
  },
  {
   "cell_type": "code",
   "execution_count": null,
   "id": "b30dc8d5-d39b-44f5-8307-64562ed56589",
   "metadata": {},
   "outputs": [],
   "source": []
  },
  {
   "cell_type": "code",
   "execution_count": null,
   "id": "a6532f60-c2de-42e5-87d1-6eada4704d29",
   "metadata": {},
   "outputs": [],
   "source": []
  },
  {
   "cell_type": "code",
   "execution_count": 61,
   "id": "b453397e-b5a0-4c62-a71d-43c57f4eb456",
   "metadata": {
    "collapsed": true,
    "jupyter": {
     "outputs_hidden": true
    },
    "tags": []
   },
   "outputs": [
    {
     "name": "stdout",
     "output_type": "stream",
     "text": [
      "\n",
      "PLAY [Deploy Project37 Production via ArgoCD & Helm] ***************************\n",
      "\n",
      "TASK [Gathering Facts] *********************************************************\n",
      "ok: [node1]\n",
      "\n",
      "TASK [Get ArgoCD admin password] ***********************************************\n",
      "changed: [node1]\n",
      "\n",
      "TASK [Decode ArgoCD password] **************************************************\n",
      "changed: [node1]\n",
      "\n",
      "TASK [Login to ArgoCD] *********************************************************\n",
      "ok: [node1]\n",
      "\n",
      "TASK [Detect external IP starting with 10.56] **********************************\n",
      "ok: [node1]\n",
      "\n",
      "TASK [Create project37-production namespace if missing] ************************\n",
      "changed: [node1]\n",
      "\n",
      "TASK [Check if ArgoCD app exists] **********************************************\n",
      "ok: [node1]\n",
      "\n",
      "TASK [Create ArgoCD Helm app if not exists] ************************************\n",
      "skipping: [node1]\n",
      "\n",
      "TASK [Update ArgoCD Helm app if exists] ****************************************\n",
      "changed: [node1]\n",
      "\n",
      "TASK [Display ArgoCD app status] ***********************************************\n",
      "changed: [node1]\n",
      "\n",
      "TASK [Show final status] *******************************************************\n",
      "ok: [node1] => \n",
      "  final_status.stdout: |-\n",
      "    Name:               argocd/project37-production\n",
      "    Project:            default\n",
      "    Server:             https://kubernetes.default.svc\n",
      "    Namespace:\n",
      "    URL:                https://127.0.0.1:43503/applications/project37-production\n",
      "    Source:\n",
      "    - Repo:             https://github.com/zuchuandatou/MLSysEngOps-NYU25Spring.git\n",
      "      Target:           zehao-li/cicd\n",
      "      Path:             k8s/production\n",
      "    SyncWindow:         Sync Allowed\n",
      "    Sync Policy:        Automated\n",
      "    Sync Status:        Synced to zehao-li/cicd (3c67769)\n",
      "    Health Status:      Progressing\n",
      "  \n",
      "    GROUP  KIND        NAMESPACE             NAME           STATUS  HEALTH       HOOK  MESSAGE\n",
      "           Service     project37-production  project37-app  Synced  Healthy            service/project37-app created\n",
      "    apps   Deployment  project37-production  project37-app  Synced  Progressing        deployment.apps/project37-app created\n",
      "\n",
      "PLAY RECAP *********************************************************************\n",
      "node1                      : ok=10   changed=5    unreachable=0    failed=0    skipped=1    rescued=0    ignored=0   \n",
      "\n"
     ]
    }
   ],
   "source": [
    "cd /work/MLSysEngOps-NYU25Spring/ansible\n",
    "ansible-playbook -i inventory.yml argocd/argocd_add_prod.yml"
   ]
  },
  {
   "cell_type": "code",
   "execution_count": null,
   "id": "f1c9d34c-d24d-40d5-8d53-60bd417718b5",
   "metadata": {},
   "outputs": [],
   "source": [
    "# go to project_lifecycles.ipynb"
   ]
  }
 ],
 "metadata": {
  "kernelspec": {
   "display_name": "Bash",
   "language": "bash",
   "name": "bash"
  },
  "language_info": {
   "codemirror_mode": "shell",
   "file_extension": ".sh",
   "mimetype": "text/x-sh",
   "name": "bash"
  }
 },
 "nbformat": 4,
 "nbformat_minor": 5
}
