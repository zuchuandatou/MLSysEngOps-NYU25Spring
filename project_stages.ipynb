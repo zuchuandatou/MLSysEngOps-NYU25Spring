{
 "cells": [
  {
   "cell_type": "code",
   "execution_count": 48,
   "id": "410fe09a-26b8-4ed6-9b51-97dbecefc9b6",
   "metadata": {
    "tags": []
   },
   "outputs": [],
   "source": [
    "# use ansible to let argocd setup platform (minio, postgres, mlflow)"
   ]
  },
  {
   "cell_type": "code",
   "execution_count": 32,
   "id": "128de50b-434e-4b46-86f8-3fe1c91cf472",
   "metadata": {
    "tags": []
   },
   "outputs": [],
   "source": [
    "export PATH=/work/.local/bin:$PATH\n",
    "export PYTHONUSERBASE=/work/.local\n",
    "export ANSIBLE_CONFIG=/work/MLSysEngOps-NYU25Spring/ansible/ansible.cfg\n",
    "export ANSIBLE_ROLES_PATH=roles"
   ]
  },
  {
   "cell_type": "code",
   "execution_count": null,
   "id": "6ae39571-2746-4de1-a03e-3382c2e4c9fa",
   "metadata": {},
   "outputs": [],
   "source": []
  },
  {
   "cell_type": "code",
   "execution_count": null,
   "id": "215584ec-b16f-4211-9271-f893b7e9396b",
   "metadata": {},
   "outputs": [],
   "source": []
  },
  {
   "cell_type": "code",
   "execution_count": null,
   "id": "6a30ee4b-d7fd-4da9-ac35-ad17de7a73cc",
   "metadata": {},
   "outputs": [],
   "source": []
  },
  {
   "cell_type": "code",
   "execution_count": null,
   "id": "1700523e-40bd-4f95-b62d-242690b333af",
   "metadata": {},
   "outputs": [],
   "source": []
  },
  {
   "cell_type": "code",
   "execution_count": null,
   "id": "3d0f1a03-5646-499a-8b5b-8b8989779f0c",
   "metadata": {},
   "outputs": [],
   "source": []
  },
  {
   "cell_type": "code",
   "execution_count": null,
   "id": "24c19a62-9781-4950-8896-e3acbcfac15a",
   "metadata": {},
   "outputs": [],
   "source": []
  },
  {
   "cell_type": "code",
   "execution_count": null,
   "id": "e18f67da-0916-4343-ab0b-5d55d86fd985",
   "metadata": {},
   "outputs": [],
   "source": []
  },
  {
   "cell_type": "code",
   "execution_count": 29,
   "id": "5312372f-e1a2-41d4-960b-e38447f35edc",
   "metadata": {
    "tags": []
   },
   "outputs": [
    {
     "name": "stdout",
     "output_type": "stream",
     "text": [
      "\n",
      "PLAY [Mount persistent volume and deploy MLflow platform with MinIO] ***********\n",
      "\n",
      "TASK [Gathering Facts] *********************************************************\n",
      "ok: [node1]\n",
      "\n",
      "TASK [Detect filesystem on /dev/vdb] *******************************************\n",
      "ok: [node1]\n",
      "\n",
      "TASK [Format /dev/vdb as ext4 on first use] ************************************\n",
      "skipping: [node1]\n",
      "\n",
      "TASK [Make root mount directory] ***********************************************\n",
      "ok: [node1]\n",
      "\n",
      "TASK [Mount volume & ensure /etc/fstab] ****************************************\n",
      "ok: [node1]\n",
      "\n",
      "TASK [Make MinIO data dir] *****************************************************\n",
      "ok: [node1]\n",
      "\n",
      "TASK [Make Postgres data dir] **************************************************\n",
      "ok: [node1]\n",
      "\n",
      "PLAY [Deploy MLflow platform via ArgoCD & Helm with MinIO secret handling] *****\n",
      "\n",
      "TASK [Gathering Facts] *********************************************************\n",
      "ok: [node1]\n",
      "\n",
      "TASK [Get ArgoCD admin password from Kubernetes secret] ************************\n",
      "changed: [node1]\n",
      "\n",
      "TASK [Decode ArgoCD admin password] ********************************************\n",
      "changed: [node1]\n",
      "\n",
      "TASK [Log in to ArgoCD] ********************************************************\n",
      "ok: [node1]\n",
      "\n",
      "TASK [Add repository to ArgoCD] ************************************************\n",
      "changed: [node1]\n",
      "\n",
      "TASK [Detect external IP starting with 10.56] **********************************\n",
      "ok: [node1]\n",
      "\n",
      "TASK [Ensure project37-platform namespace exists] ******************************\n",
      "ok: [node1]\n",
      "\n",
      "TASK [Create project37-platform namespace if missing] **************************\n",
      "skipping: [node1]\n",
      "\n",
      "TASK [Check if MinIO secret already exists] ************************************\n",
      "ok: [node1]\n",
      "\n",
      "TASK [Generate MinIO secret key] ***********************************************\n",
      "skipping: [node1]\n",
      "\n",
      "TASK [Create MinIO credentials secret] *****************************************\n",
      "skipping: [node1]\n",
      "\n",
      "TASK [Get existing MinIO secret key if already exists] *************************\n",
      "changed: [node1]\n",
      "\n",
      "TASK [Decode existing MinIO secret key] ****************************************\n",
      "ok: [node1]\n",
      "\n",
      "TASK [Check if ArgoCD application exists] **************************************\n",
      "ok: [node1]\n",
      "\n",
      "TASK [Create ArgoCD Helm application if it does not exist] *********************\n",
      "skipping: [node1]\n",
      "\n",
      "TASK [Update ArgoCD Helm application if it exists] *****************************\n",
      "changed: [node1]\n",
      "\n",
      "TASK [Display MinIO credentials] ***********************************************\n",
      "ok: [node1] => \n",
      "  msg: |-\n",
      "    MinIO Access Key: your-access-key\n",
      "    MinIO Secret Key: tydlYBTrYA4anhs6DFIB\n",
      "\n",
      "PLAY RECAP *********************************************************************\n",
      "node1                      : ok=19   changed=5    unreachable=0    failed=0    skipped=5    rescued=0    ignored=0   \n",
      "\n"
     ]
    }
   ],
   "source": [
    "cd /work/MLSysEngOps-NYU25Spring/ansible\n",
    "ansible-playbook -i inventory.yml argocd/argocd_add_platform.yml"
   ]
  },
  {
   "cell_type": "code",
   "execution_count": 35,
   "id": "a7a82b0c-14ed-41da-8039-fa308d3d755d",
   "metadata": {
    "tags": []
   },
   "outputs": [
    {
     "name": "stdout",
     "output_type": "stream",
     "text": [
      "apiVersion: argoproj.io/v1alpha1\n",
      "kind: Workflow\n",
      "metadata:\n",
      "  generateName: kaniko-pvc-build-\n",
      "spec:\n",
      "  entrypoint: kaniko-build-flow\n",
      "  volumeClaimTemplates:\n",
      "  - metadata:\n",
      "      name: workdir\n",
      "    spec:\n",
      "      accessModes: [ \"ReadWriteOnce\" ]\n",
      "      resources:\n",
      "        requests:\n",
      "          storage: 1Gi\n",
      "\n",
      "  templates:\n",
      "  - name: kaniko-build-flow\n",
      "    steps:\n",
      "      - - name: clone-repo\n",
      "          template: git-clone\n",
      "      - - name: kaniko-build\n",
      "          template: kaniko\n",
      "\n",
      "  - name: git-clone\n",
      "    container:\n",
      "      image: alpine/git\n",
      "      command: [sh, -c]\n",
      "      args:\n",
      "        - |\n",
      "          MAX_RETRIES=5\n",
      "          i=1\n",
      "\n",
      "          while [ $i -le $MAX_RETRIES ]; do\n",
      "            echo \"Attempt $i of $MAX_RETRIES: Cloning repo...\"\n",
      "            git clone --branch app https://github.com/zuchuandatou/MLSysEngOps-NYU25Spring.git /mnt/workspace && break\n",
      "            echo \"Git clone failed. Retrying in 5 seconds...\"\n",
      "            i=$((i + 1))\n",
      "            sleep 5\n",
      "          done\n",
      "\n",
      "          if [ ! -d /mnt/workspace/.git ]; then\n",
      "            echo \"Git clone failed after $MAX_RETRIES attempts.\"\n",
      "            exit 1\n",
      "          fi\n",
      "      volumeMounts:\n",
      "      - name: workdir\n",
      "        mountPath: /mnt/workspace\n",
      "\n",
      "  - name: kaniko\n",
      "    container:\n",
      "      image: gcr.io/kaniko-project/executor:latest\n",
      "      args:\n",
      "        - --dockerfile=/mnt/workspace/Dockerfile\n",
      "        - --context=/mnt/workspace\n",
      "        - --destination=registry.kube-system.svc.cluster.local:5000/project37-app:staging-1.0.2\n",
      "        - --destination=registry.kube-system.svc.cluster.local:5000/project37-app:canary-1.0.0\n",
      "        - --destination=registry.kube-system.svc.cluster.local:5000/project37-app:production-1.0.0\n",
      "        - --insecure\n",
      "      volumeMounts:\n",
      "        - name: workdir\n",
      "          mountPath: /mnt/workspace\n",
      "\n"
     ]
    }
   ],
   "source": [
    "cd /work/MLSysEngOps-NYU25Spring/workflows\n",
    "cat build-initial.yaml"
   ]
  },
  {
   "cell_type": "code",
   "execution_count": 40,
   "id": "ec4cefca-5220-4fac-9649-8fa30b378666",
   "metadata": {
    "tags": []
   },
   "outputs": [
    {
     "name": "stdout",
     "output_type": "stream",
     "text": [
      "\n",
      "PLAY [Run Argo Workflow from GitHub Repo] **************************************\n",
      "\n",
      "TASK [Gathering Facts] *********************************************************\n",
      "ok: [node1]\n",
      "\n",
      "TASK [Clone or update gourmetgram-iac repo] ************************************\n",
      "changed: [node1]\n",
      "\n",
      "TASK [Submit Argo Workflow] ****************************************************\n",
      "changed: [node1]\n",
      "\n",
      "TASK [Extract Workflow Name] ***************************************************\n",
      "ok: [node1]\n",
      "\n",
      "TASK [Wait for workflow to complete (success or fail)] *************************\n",
      "changed: [node1]\n",
      "\n",
      "TASK [Get final workflow result] ***********************************************\n",
      "changed: [node1]\n",
      "\n",
      "TASK [Display workflow phase] **************************************************\n",
      "ok: [node1] => \n",
      "  msg: 'Workflow kaniko-pvc-build-9xghg finished with status: Succeeded'\n",
      "\n",
      "TASK [Fail if workflow did not succeed] ****************************************\n",
      "skipping: [node1]\n",
      "\n",
      "PLAY RECAP *********************************************************************\n",
      "node1                      : ok=7    changed=4    unreachable=0    failed=0    skipped=1    rescued=0    ignored=0   \n",
      "\n"
     ]
    }
   ],
   "source": [
    "cd /work/MLSysEngOps-NYU25Spring/ansible\n",
    "ansible-playbook -i inventory.yml argocd/workflow_build_init.yml"
   ]
  },
  {
   "cell_type": "code",
   "execution_count": null,
   "id": "69b7e76b-582b-4ce4-8dfc-461a862ec6b7",
   "metadata": {},
   "outputs": [],
   "source": []
  },
  {
   "cell_type": "code",
   "execution_count": null,
   "id": "f6855bf2-4364-4ee5-a92b-2e1b35f19140",
   "metadata": {},
   "outputs": [],
   "source": []
  },
  {
   "cell_type": "code",
   "execution_count": null,
   "id": "24c14785-016c-4d40-9108-4923575333f7",
   "metadata": {},
   "outputs": [],
   "source": []
  },
  {
   "cell_type": "code",
   "execution_count": null,
   "id": "654594c3-f2e5-47ee-aeab-30377bd758d1",
   "metadata": {},
   "outputs": [],
   "source": []
  },
  {
   "cell_type": "code",
   "execution_count": 41,
   "id": "19f6cfa3-bd14-43c2-bd2d-50e14c2422d4",
   "metadata": {
    "tags": []
   },
   "outputs": [
    {
     "name": "stdout",
     "output_type": "stream",
     "text": [
      "\n",
      "PLAY [Deploy Project37 Staging via ArgoCD & Helm] ******************************\n",
      "\n",
      "TASK [Gathering Facts] *********************************************************\n",
      "ok: [node1]\n",
      "\n",
      "TASK [Get ArgoCD admin password] ***********************************************\n",
      "changed: [node1]\n",
      "\n",
      "TASK [Decode ArgoCD password] **************************************************\n",
      "changed: [node1]\n",
      "\n",
      "TASK [Login to ArgoCD] *********************************************************\n",
      "ok: [node1]\n",
      "\n",
      "TASK [Detect external IP starting with 10.56] **********************************\n",
      "ok: [node1]\n",
      "\n",
      "TASK [Create project37-staging namespace if missing] ***************************\n",
      "ok: [node1]\n",
      "\n",
      "TASK [Check if ArgoCD app exists] **********************************************\n",
      "ok: [node1]\n",
      "\n",
      "TASK [Create ArgoCD Helm app if not exists] ************************************\n",
      "skipping: [node1]\n",
      "\n",
      "TASK [Update ArgoCD Helm app if exists] ****************************************\n",
      "changed: [node1]\n",
      "\n",
      "TASK [Display ArgoCD app status] ***********************************************\n",
      "changed: [node1]\n",
      "\n",
      "TASK [Show final status] *******************************************************\n",
      "ok: [node1] => \n",
      "  final_status.stdout: |-\n",
      "    Name:               argocd/project37-staging\n",
      "    Project:            default\n",
      "    Server:             https://kubernetes.default.svc\n",
      "    Namespace:          project37-staging\n",
      "    URL:                https://127.0.0.1:42169/applications/project37-staging\n",
      "    Source:\n",
      "    - Repo:             https://github.com/zuchuandatou/MLSysEngOps-NYU25Spring.git\n",
      "      Target:           zehao-li/cicd\n",
      "      Path:             k8s/staging\n",
      "    SyncWindow:         Sync Allowed\n",
      "    Sync Policy:        Automated\n",
      "    Sync Status:        Synced to zehao-li/cicd (a114f57)\n",
      "    Health Status:      Progressing\n",
      "  \n",
      "    GROUP  KIND        NAMESPACE          NAME           STATUS  HEALTH       HOOK  MESSAGE\n",
      "           Service     project37-staging  project37-app  Synced  Healthy            service/project37-app unchanged\n",
      "    apps   Deployment  project37-staging  project37-app  Synced  Progressing        deployment.apps/project37-app configured\n",
      "\n",
      "PLAY RECAP *********************************************************************\n",
      "node1                      : ok=10   changed=4    unreachable=0    failed=0    skipped=1    rescued=0    ignored=0   \n",
      "\n"
     ]
    }
   ],
   "source": [
    "cd /work/MLSysEngOps-NYU25Spring/ansible\n",
    "ansible-playbook -i inventory.yml argocd/argocd_add_staging.yml"
   ]
  },
  {
   "cell_type": "code",
   "execution_count": null,
   "id": "17f01e1f",
   "metadata": {
    "vscode": {
     "languageId": "plaintext"
    }
   },
   "outputs": [],
   "source": []
  },
  {
   "cell_type": "code",
   "execution_count": null,
   "id": "a54f255d",
   "metadata": {
    "vscode": {
     "languageId": "plaintext"
    }
   },
   "outputs": [],
   "source": []
  },
  {
   "cell_type": "code",
   "execution_count": null,
   "id": "eb05a319-d157-49f7-9e2f-88ec6bf92710",
   "metadata": {},
   "outputs": [],
   "source": []
  },
  {
   "cell_type": "code",
   "execution_count": null,
   "id": "f4d3d159-c886-4e2f-9c60-9194762a66b4",
   "metadata": {},
   "outputs": [],
   "source": []
  },
  {
   "cell_type": "code",
   "execution_count": null,
   "id": "eedd49e5-0e1d-4185-9467-f6e66f94d409",
   "metadata": {},
   "outputs": [],
   "source": []
  },
  {
   "cell_type": "code",
   "execution_count": null,
   "id": "207a6c9f-543e-4732-a2c5-dfde6fdcf844",
   "metadata": {},
   "outputs": [],
   "source": []
  },
  {
   "cell_type": "code",
   "execution_count": null,
   "id": "d2c5d8cd-454c-4fd3-b59f-857562b90748",
   "metadata": {},
   "outputs": [],
   "source": []
  },
  {
   "cell_type": "code",
   "execution_count": null,
   "id": "47184ae6-ebd3-4cb2-9922-a978fd842d4e",
   "metadata": {
    "tags": []
   },
   "outputs": [],
   "source": [
    "cd /work/MLSysEngOps-NYU25Spring/ansible\n",
    "ansible-playbook -i inventory.yml argocd/argocd_add_canary.yml"
   ]
  },
  {
   "cell_type": "code",
   "execution_count": null,
   "id": "b453397e-b5a0-4c62-a71d-43c57f4eb456",
   "metadata": {
    "tags": []
   },
   "outputs": [],
   "source": [
    "cd /work/MLSysEngOps-NYU25Spring/ansible\n",
    "ansible-playbook -i inventory.yml argocd/argocd_add_prod.yml"
   ]
  },
  {
   "cell_type": "code",
   "execution_count": null,
   "id": "439d5bfa-5ec3-4804-8dcc-d34e4b00419c",
   "metadata": {
    "tags": []
   },
   "outputs": [],
   "source": [
    "cd /work/MLSysEngOps-NYU25Spring/ansible\n",
    "ansible-playbook -i inventory.yml argocd/workflow_templates_apply.yml"
   ]
  }
 ],
 "metadata": {
  "kernelspec": {
   "display_name": "Bash",
   "language": "bash",
   "name": "bash"
  },
  "language_info": {
   "codemirror_mode": "shell",
   "file_extension": ".sh",
   "mimetype": "text/x-sh",
   "name": "bash"
  }
 },
 "nbformat": 4,
 "nbformat_minor": 5
}
