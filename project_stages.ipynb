{
 "cells": [
  {
   "cell_type": "code",
   "execution_count": 1,
   "id": "410fe09a-26b8-4ed6-9b51-97dbecefc9b6",
   "metadata": {
    "tags": []
   },
   "outputs": [],
   "source": [
    "# use ansible to let argocd setup platform (minio, postgres, mlflow)"
   ]
  },
  {
   "cell_type": "code",
   "execution_count": 2,
   "id": "128de50b-434e-4b46-86f8-3fe1c91cf472",
   "metadata": {
    "tags": []
   },
   "outputs": [],
   "source": [
    "export PATH=/work/.local/bin:$PATH\n",
    "export PYTHONUSERBASE=/work/.local\n",
    "export ANSIBLE_CONFIG=/work/MLSysEngOps-NYU25Spring/ansible/ansible.cfg\n",
    "export ANSIBLE_ROLES_PATH=roles"
   ]
  },
  {
   "cell_type": "code",
   "execution_count": 3,
   "id": "5312372f-e1a2-41d4-960b-e38447f35edc",
   "metadata": {
    "tags": []
   },
   "outputs": [
    {
     "name": "stdout",
     "output_type": "stream",
     "text": [
      "\n",
      "PLAY [Mount persistent volume and deploy MLflow platform with MinIO] ***********\n",
      "\n",
      "TASK [Gathering Facts] *********************************************************\n",
      "ok: [node1]\n",
      "\n",
      "TASK [Detect filesystem on /dev/vdb] *******************************************\n",
      "ok: [node1]\n",
      "\n",
      "TASK [Format /dev/vdb as ext4 on first use] ************************************\n",
      "skipping: [node1]\n",
      "\n",
      "TASK [Make root mount directory] ***********************************************\n",
      "changed: [node1]\n",
      "\n",
      "TASK [Mount volume & ensure /etc/fstab] ****************************************\n",
      "changed: [node1]\n",
      "\n",
      "TASK [Make MinIO data dir] *****************************************************\n",
      "ok: [node1]\n",
      "\n",
      "TASK [Make Postgres data dir] **************************************************\n",
      "ok: [node1]\n",
      "\n",
      "PLAY [Deploy MLflow platform via ArgoCD & Helm with MinIO secret handling] *****\n",
      "\n",
      "TASK [Gathering Facts] *********************************************************\n",
      "ok: [node1]\n",
      "\n",
      "TASK [Get ArgoCD admin password from Kubernetes secret] ************************\n",
      "changed: [node1]\n",
      "\n",
      "TASK [Decode ArgoCD admin password] ********************************************\n",
      "changed: [node1]\n",
      "\n",
      "TASK [Log in to ArgoCD] ********************************************************\n",
      "ok: [node1]\n",
      "\n",
      "TASK [Add repository to ArgoCD] ************************************************\n",
      "changed: [node1]\n",
      "\n",
      "TASK [Detect external IP starting with 10.56] **********************************\n",
      "ok: [node1]\n",
      "\n",
      "TASK [Ensure project37-platform namespace exists] ******************************\n",
      "ok: [node1]\n",
      "\n",
      "TASK [Create project37-platform namespace if missing] **************************\n",
      "changed: [node1]\n",
      "\n",
      "TASK [Check if MinIO secret already exists] ************************************\n",
      "ok: [node1]\n",
      "\n",
      "TASK [Generate MinIO secret key] ***********************************************\n",
      "ok: [node1]\n",
      "\n",
      "TASK [Create MinIO credentials secret] *****************************************\n",
      "changed: [node1]\n",
      "\n",
      "TASK [Get existing MinIO secret key if already exists] *************************\n",
      "skipping: [node1]\n",
      "\n",
      "TASK [Decode existing MinIO secret key] ****************************************\n",
      "skipping: [node1]\n",
      "\n",
      "TASK [Check if ArgoCD application exists] **************************************\n",
      "ok: [node1]\n",
      "\n",
      "TASK [Create ArgoCD Helm application if it does not exist] *********************\n",
      "changed: [node1]\n",
      "\n",
      "TASK [Update ArgoCD Helm application if it exists] *****************************\n",
      "skipping: [node1]\n",
      "\n",
      "TASK [Display MinIO credentials] ***********************************************\n",
      "ok: [node1] => \n",
      "  msg: |-\n",
      "    MinIO Access Key: your-access-key\n",
      "    MinIO Secret Key: pqJw1UCUYB4etiTaWwu1\n",
      "\n",
      "PLAY RECAP *********************************************************************\n",
      "node1                      : ok=20   changed=8    unreachable=0    failed=0    skipped=4    rescued=0    ignored=0   \n",
      "\n"
     ]
    }
   ],
   "source": [
    "cd /work/MLSysEngOps-NYU25Spring/ansible\n",
    "ansible-playbook -i inventory.yml argocd/argocd_add_platform2.yml"
   ]
  },
  {
   "cell_type": "code",
   "execution_count": 4,
   "id": "ec4cefca-5220-4fac-9649-8fa30b378666",
   "metadata": {
    "tags": []
   },
   "outputs": [
    {
     "name": "stdout",
     "output_type": "stream",
     "text": [
      "\n",
      "PLAY [Run Argo Workflow from GitHub Repo] **************************************\n",
      "\n",
      "TASK [Gathering Facts] *********************************************************\n",
      "ok: [node1]\n",
      "\n",
      "TASK [Clone or update project37 repo] ******************************************\n",
      "changed: [node1]\n",
      "\n",
      "TASK [Submit Argo Workflow] ****************************************************\n",
      "changed: [node1]\n",
      "\n",
      "TASK [Extract Workflow Name] ***************************************************\n",
      "ok: [node1]\n",
      "\n",
      "TASK [Wait for workflow to complete (success or fail)] *************************\n",
      "changed: [node1]\n",
      "\n",
      "TASK [Get final workflow result] ***********************************************\n",
      "changed: [node1]\n",
      "\n",
      "TASK [Display workflow phase] **************************************************\n",
      "ok: [node1] => \n",
      "  msg: 'Workflow kaniko-pvc-build-5jwtv finished with status: Succeeded'\n",
      "\n",
      "TASK [Fail if workflow did not succeed] ****************************************\n",
      "skipping: [node1]\n",
      "\n",
      "PLAY RECAP *********************************************************************\n",
      "node1                      : ok=7    changed=4    unreachable=0    failed=0    skipped=1    rescued=0    ignored=0   \n",
      "\n"
     ]
    }
   ],
   "source": [
    "cd /work/MLSysEngOps-NYU25Spring/ansible\n",
    "ansible-playbook -i inventory.yml argocd/workflow_build_init.yml"
   ]
  },
  {
   "cell_type": "code",
   "execution_count": null,
   "id": "187b2383-3530-4f43-ac25-a82baa3ff7b2",
   "metadata": {},
   "outputs": [],
   "source": []
  },
  {
   "cell_type": "code",
   "execution_count": null,
   "id": "524e4fbc-167e-4ae7-ae19-af2d0c1d6043",
   "metadata": {},
   "outputs": [],
   "source": []
  },
  {
   "cell_type": "code",
   "execution_count": 5,
   "id": "deb24d7c-a169-4796-80f0-8b5fdf1680a7",
   "metadata": {
    "tags": []
   },
   "outputs": [
    {
     "name": "stdout",
     "output_type": "stream",
     "text": [
      "# Deployment\n",
      "apiVersion: apps/v1\n",
      "kind: Deployment\n",
      "metadata:\n",
      "  name: project37-app\n",
      "  namespace: project37-staging\n",
      "\n",
      "spec:\n",
      "  replicas: {{ .Values.replicaCount }}\n",
      "  selector:\n",
      "    matchLabels:\n",
      "      app: project37-app\n",
      "  template:\n",
      "    metadata:\n",
      "      labels:\n",
      "        app: project37-app\n",
      "    spec:\n",
      "      containers:\n",
      "        - name: project37-app\n",
      "          image: {{ .Values.image.repository }}:{{ .Values.image.tag }}\n",
      "          ports:\n",
      "            - containerPort: 3000\n",
      "            - containerPort: 8000\n",
      "          resources:\n",
      "            {{- toYaml .Values.resources | nindent 12 }}\n",
      "---\n",
      "# Service\n",
      "apiVersion: v1\n",
      "kind: Service\n",
      "metadata:\n",
      "  name: project37-app\n",
      "  namespace: project37-staging\n",
      "spec:\n",
      "  selector:\n",
      "    app: project37-app\n",
      "  ports:\n",
      "    - name: web\n",
      "      port: {{ .Values.service.port }}      \n",
      "      targetPort: 3000\n",
      "    - name: api                             \n",
      "      port: 8001                            \n",
      "      targetPort: 8000  \n",
      "  externalIPs:\n",
      "    - {{ .Values.service.externalIP }}\n",
      "\n"
     ]
    }
   ],
   "source": [
    "cd /work/MLSysEngOps-NYU25Spring/k8s/staging/\n",
    "cat templates/project37-app.yaml"
   ]
  },
  {
   "cell_type": "code",
   "execution_count": 6,
   "id": "19f6cfa3-bd14-43c2-bd2d-50e14c2422d4",
   "metadata": {
    "tags": []
   },
   "outputs": [
    {
     "name": "stdout",
     "output_type": "stream",
     "text": [
      "\n",
      "PLAY [Deploy Project37 Staging via ArgoCD & Helm] ******************************\n",
      "\n",
      "TASK [Gathering Facts] *********************************************************\n",
      "ok: [node1]\n",
      "\n",
      "TASK [Get ArgoCD admin password] ***********************************************\n",
      "changed: [node1]\n",
      "\n",
      "TASK [Decode ArgoCD password] **************************************************\n",
      "changed: [node1]\n",
      "\n",
      "TASK [Login to ArgoCD] *********************************************************\n",
      "ok: [node1]\n",
      "\n",
      "TASK [Detect external IP starting with 10.56] **********************************\n",
      "ok: [node1]\n",
      "\n",
      "TASK [Create project37-staging namespace if missing] ***************************\n",
      "changed: [node1]\n",
      "\n",
      "TASK [Check if ArgoCD app exists] **********************************************\n",
      "ok: [node1]\n",
      "\n",
      "TASK [Create ArgoCD Helm app if not exists] ************************************\n",
      "changed: [node1]\n",
      "\n",
      "TASK [Update ArgoCD Helm app if exists] ****************************************\n",
      "skipping: [node1]\n",
      "\n",
      "TASK [Display ArgoCD app status] ***********************************************\n",
      "changed: [node1]\n",
      "\n",
      "TASK [Show final status] *******************************************************\n",
      "ok: [node1] => \n",
      "  final_status.stdout: |-\n",
      "    Name:               argocd/project37-staging\n",
      "    Project:            default\n",
      "    Server:             https://kubernetes.default.svc\n",
      "    Namespace:          project37-staging\n",
      "    URL:                https://127.0.0.1:39827/applications/project37-staging\n",
      "    Source:\n",
      "    - Repo:             https://github.com/zuchuandatou/MLSysEngOps-NYU25Spring.git\n",
      "      Target:           zehao-li-cicd\n",
      "      Path:             k8s/staging\n",
      "    SyncWindow:         Sync Allowed\n",
      "    Sync Policy:        Automated\n",
      "    Sync Status:        Synced to zehao-li-cicd (b73f0f8)\n",
      "    Health Status:      Progressing\n",
      "  \n",
      "    GROUP  KIND        NAMESPACE          NAME           STATUS  HEALTH       HOOK  MESSAGE\n",
      "           Service     project37-staging  project37-app  Synced  Healthy            service/project37-app created\n",
      "    apps   Deployment  project37-staging  project37-app  Synced  Progressing        deployment.apps/project37-app created\n",
      "\n",
      "PLAY RECAP *********************************************************************\n",
      "node1                      : ok=10   changed=5    unreachable=0    failed=0    skipped=1    rescued=0    ignored=0   \n",
      "\n"
     ]
    }
   ],
   "source": [
    "cd /work/MLSysEngOps-NYU25Spring/ansible\n",
    "ansible-playbook -i inventory.yml argocd/argocd_add_staging.yml"
   ]
  },
  {
   "cell_type": "code",
   "execution_count": null,
   "id": "2bc94b74-67d1-496b-8446-a2f2e990af82",
   "metadata": {},
   "outputs": [],
   "source": []
  },
  {
   "cell_type": "code",
   "execution_count": null,
   "id": "936255eb-f209-4a48-a2f9-767bbf27ed87",
   "metadata": {},
   "outputs": [],
   "source": []
  },
  {
   "cell_type": "code",
   "execution_count": 7,
   "id": "7764fbde-7967-49a1-a61e-29f87b17435e",
   "metadata": {
    "tags": []
   },
   "outputs": [
    {
     "name": "stdout",
     "output_type": "stream",
     "text": [
      "\n",
      "PLAY [Deploy Project37 Canary via ArgoCD & Helm] *******************************\n",
      "\n",
      "TASK [Gathering Facts] *********************************************************\n",
      "ok: [node1]\n",
      "\n",
      "TASK [Get ArgoCD admin password] ***********************************************\n",
      "changed: [node1]\n",
      "\n",
      "TASK [Decode ArgoCD password] **************************************************\n",
      "changed: [node1]\n",
      "\n",
      "TASK [Login to ArgoCD] *********************************************************\n",
      "ok: [node1]\n",
      "\n",
      "TASK [Detect external IP starting with 10.56] **********************************\n",
      "ok: [node1]\n",
      "\n",
      "TASK [Create project37-canary namespace if missing] ****************************\n",
      "changed: [node1]\n",
      "\n",
      "TASK [Check if ArgoCD app exists] **********************************************\n",
      "ok: [node1]\n",
      "\n",
      "TASK [Create ArgoCD Helm app if not exists] ************************************\n",
      "changed: [node1]\n",
      "\n",
      "TASK [Update ArgoCD Helm app if exists] ****************************************\n",
      "skipping: [node1]\n",
      "\n",
      "TASK [Display ArgoCD app status] ***********************************************\n",
      "changed: [node1]\n",
      "\n",
      "TASK [Show final status] *******************************************************\n",
      "ok: [node1] => \n",
      "  final_status.stdout: |-\n",
      "    Name:               argocd/project37-canary\n",
      "    Project:            default\n",
      "    Server:             https://kubernetes.default.svc\n",
      "    Namespace:          project37-canary\n",
      "    URL:                https://127.0.0.1:42289/applications/project37-canary\n",
      "    Source:\n",
      "    - Repo:             https://github.com/zuchuandatou/MLSysEngOps-NYU25Spring.git\n",
      "      Target:           zehao-li-cicd\n",
      "      Path:             k8s/canary\n",
      "    SyncWindow:         Sync Allowed\n",
      "    Sync Policy:        Automated\n",
      "    Sync Status:        Synced to zehao-li-cicd (b73f0f8)\n",
      "    Health Status:      Progressing\n",
      "  \n",
      "    GROUP  KIND        NAMESPACE         NAME           STATUS  HEALTH       HOOK  MESSAGE\n",
      "           Service     project37-canary  project37-app  Synced  Healthy            service/project37-app created\n",
      "    apps   Deployment  project37-canary  project37-app  Synced  Progressing        deployment.apps/project37-app created\n",
      "\n",
      "PLAY RECAP *********************************************************************\n",
      "node1                      : ok=10   changed=5    unreachable=0    failed=0    skipped=1    rescued=0    ignored=0   \n",
      "\n"
     ]
    }
   ],
   "source": [
    "cd /work/MLSysEngOps-NYU25Spring/ansible\n",
    "ansible-playbook -i inventory.yml argocd/argocd_add_canary2.yml"
   ]
  },
  {
   "cell_type": "code",
   "execution_count": null,
   "id": "60072b6a-98f1-481e-a08d-4fbe8a59048f",
   "metadata": {},
   "outputs": [],
   "source": []
  },
  {
   "cell_type": "code",
   "execution_count": null,
   "id": "f74513a2-2c0d-48d2-9c00-eccc33d359b8",
   "metadata": {},
   "outputs": [],
   "source": []
  },
  {
   "cell_type": "code",
   "execution_count": null,
   "id": "f2674b12-0cad-4ce5-b43c-a9cc9332dbe2",
   "metadata": {},
   "outputs": [],
   "source": []
  },
  {
   "cell_type": "code",
   "execution_count": null,
   "id": "a13caa99-f0c2-4ac7-84e9-2af0e9ad88dc",
   "metadata": {},
   "outputs": [],
   "source": []
  },
  {
   "cell_type": "code",
   "execution_count": null,
   "id": "5223818c-d4db-4cf8-a6a6-c72a794d871a",
   "metadata": {},
   "outputs": [],
   "source": []
  },
  {
   "cell_type": "code",
   "execution_count": null,
   "id": "3957d61d-458b-471c-b079-5acc18996861",
   "metadata": {},
   "outputs": [],
   "source": []
  },
  {
   "cell_type": "code",
   "execution_count": null,
   "id": "b30dc8d5-d39b-44f5-8307-64562ed56589",
   "metadata": {},
   "outputs": [],
   "source": []
  },
  {
   "cell_type": "code",
   "execution_count": null,
   "id": "a6532f60-c2de-42e5-87d1-6eada4704d29",
   "metadata": {},
   "outputs": [],
   "source": []
  },
  {
   "cell_type": "code",
   "execution_count": 8,
   "id": "b453397e-b5a0-4c62-a71d-43c57f4eb456",
   "metadata": {
    "tags": []
   },
   "outputs": [
    {
     "name": "stdout",
     "output_type": "stream",
     "text": [
      "\n",
      "PLAY [Deploy Project37 Production via ArgoCD & Helm] ***************************\n",
      "\n",
      "TASK [Gathering Facts] *********************************************************\n",
      "ok: [node1]\n",
      "\n",
      "TASK [Get ArgoCD admin password] ***********************************************\n",
      "changed: [node1]\n",
      "\n",
      "TASK [Decode ArgoCD password] **************************************************\n",
      "changed: [node1]\n",
      "\n",
      "TASK [Login to ArgoCD] *********************************************************\n",
      "ok: [node1]\n",
      "\n",
      "TASK [Detect external IP starting with 10.56] **********************************\n",
      "ok: [node1]\n",
      "\n",
      "TASK [Create project37-production namespace if missing] ************************\n",
      "changed: [node1]\n",
      "\n",
      "TASK [Check if ArgoCD app exists] **********************************************\n",
      "ok: [node1]\n",
      "\n",
      "TASK [Create ArgoCD Helm app if not exists] ************************************\n",
      "changed: [node1]\n",
      "\n",
      "TASK [Update ArgoCD Helm app if exists] ****************************************\n",
      "skipping: [node1]\n",
      "\n",
      "TASK [Display ArgoCD app status] ***********************************************\n",
      "changed: [node1]\n",
      "\n",
      "TASK [Show final status] *******************************************************\n",
      "ok: [node1] => \n",
      "  final_status.stdout: |-\n",
      "    Name:               argocd/project37-production\n",
      "    Project:            default\n",
      "    Server:             https://kubernetes.default.svc\n",
      "    Namespace:          project37-production\n",
      "    URL:                https://127.0.0.1:42351/applications/project37-production\n",
      "    Source:\n",
      "    - Repo:             https://github.com/zuchuandatou/MLSysEngOps-NYU25Spring.git\n",
      "      Target:           zehao-li-cicd\n",
      "      Path:             k8s/production\n",
      "    SyncWindow:         Sync Allowed\n",
      "    Sync Policy:        Automated\n",
      "    Sync Status:        Synced to zehao-li-cicd (b73f0f8)\n",
      "    Health Status:      Progressing\n",
      "  \n",
      "    GROUP  KIND        NAMESPACE             NAME           STATUS  HEALTH       HOOK  MESSAGE\n",
      "           Service     project37-production  project37-app  Synced  Healthy            service/project37-app created\n",
      "    apps   Deployment  project37-production  project37-app  Synced  Progressing        deployment.apps/project37-app created\n",
      "\n",
      "PLAY RECAP *********************************************************************\n",
      "node1                      : ok=10   changed=5    unreachable=0    failed=0    skipped=1    rescued=0    ignored=0   \n",
      "\n"
     ]
    }
   ],
   "source": [
    "cd /work/MLSysEngOps-NYU25Spring/ansible\n",
    "ansible-playbook -i inventory.yml argocd/argocd_add_prod.yml"
   ]
  },
  {
   "cell_type": "code",
   "execution_count": 9,
   "id": "f1c9d34c-d24d-40d5-8d53-60bd417718b5",
   "metadata": {
    "tags": []
   },
   "outputs": [],
   "source": [
    "# go to project_lifecycles.ipynb"
   ]
  },
  {
   "cell_type": "code",
   "execution_count": null,
   "id": "a779d2ae-1494-4a04-a471-770c2ebdca7c",
   "metadata": {},
   "outputs": [],
   "source": []
  },
  {
   "cell_type": "code",
   "execution_count": null,
   "id": "a59dc8e1-a638-4d1a-a049-ea5618f583b8",
   "metadata": {},
   "outputs": [],
   "source": []
  },
  {
   "cell_type": "code",
   "execution_count": null,
   "id": "c23016ca-b7f0-495e-872d-d8df05ba0c7b",
   "metadata": {},
   "outputs": [],
   "source": []
  },
  {
   "cell_type": "code",
   "execution_count": null,
   "id": "216e542b-57e1-4f6d-aa53-e3b2031974b5",
   "metadata": {},
   "outputs": [],
   "source": []
  }
 ],
 "metadata": {
  "kernelspec": {
   "display_name": "Bash",
   "language": "bash",
   "name": "bash"
  },
  "language_info": {
   "codemirror_mode": "shell",
   "file_extension": ".sh",
   "mimetype": "text/x-sh",
   "name": "bash"
  }
 },
 "nbformat": 4,
 "nbformat_minor": 5
}
