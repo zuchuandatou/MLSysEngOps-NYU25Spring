{
 "cells": [
  {
   "cell_type": "code",
   "execution_count": null,
   "id": "b0e2b137",
   "metadata": {},
   "outputs": [],
   "source": [
    "# runs in jupyter container\n",
    "import os\n",
    "import torch\n",
    "import pandas as pd\n",
    "from torch.utils.data import DataLoader, Dataset\n",
    "\n",
    "DATA_DIR = os.getenv(\"MOVIELENS_DATA_DIR\", \"/mnt/Project-37\")\n",
    "print(\"Data dir:\", DATA_DIR)"
   ]
  },
  {
   "cell_type": "code",
   "execution_count": null,
   "id": "47e75c16",
   "metadata": {},
   "outputs": [],
   "source": [
    "# runs in jupyter container\n",
    "eval_path = os.path.join(DATA_DIR, \"evaluation\", \"movielens_192m_eval.txt\")\n",
    "print(\"Evaluation file path:\", eval_path)\n",
    "\n",
    "eval_df = pd.read_csv(eval_path, sep=\"\\t\", names=[\"userId\", \"movieId\"], nrows=10_000)\n",
    "print(eval_df.head())"
   ]
  },
  {
   "cell_type": "code",
   "execution_count": null,
   "id": "540f9fe9",
   "metadata": {},
   "outputs": [],
   "source": [
    "# runs in jupyter container\n",
    "class EvalDataset(Dataset):\n",
    "    def __init__(self, dataframe):\n",
    "        self.users = torch.tensor(dataframe['userId'].values, dtype=torch.long)\n",
    "        self.items = torch.tensor(dataframe['movieId'].values, dtype=torch.long)\n",
    "\n",
    "    def __len__(self):\n",
    "        return len(self.users)\n",
    "\n",
    "    def __getitem__(self, idx):\n",
    "        return self.users[idx], self.items[idx]\n",
    "\n",
    "eval_dataset = EvalDataset(eval_df)\n",
    "eval_loader = DataLoader(eval_dataset, batch_size=128, shuffle=False)\n"
   ]
  },
  {
   "cell_type": "code",
   "execution_count": null,
   "id": "d361809f",
   "metadata": {},
   "outputs": [],
   "source": [
    "# runs in jupyter container\n",
    "model_path = \"models/SSE_PT.pth\"\n",
    "model = torch.load(model_path, map_location=\"cpu\")\n",
    "model.eval()\n",
    "print(\"Model loaded.\")"
   ]
  },
  {
   "cell_type": "code",
   "execution_count": null,
   "id": "8cc35177",
   "metadata": {},
   "outputs": [],
   "source": [
    "# Run a simple forward pass\n",
    "results = []\n",
    "\n",
    "with torch.no_grad():\n",
    "    for i, (users, items) in enumerate(eval_loader):\n",
    "        outputs = model(users, items)\n",
    "        results.extend(outputs.cpu().numpy())\n",
    "        if i % 10 == 0:\n",
    "            print(f\"Processed batch {i}, output shape: {outputs.shape}\")"
   ]
  }
 ],
 "metadata": {},
 "nbformat": 4,
 "nbformat_minor": 5
}
