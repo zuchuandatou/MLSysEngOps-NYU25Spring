{
 "cells": [
  {
   "cell_type": "code",
   "execution_count": null,
   "id": "b0e2b137",
   "metadata": {},
   "outputs": [],
   "source": [
    "# runs in jupyter container\n",
    "import os\n",
    "import torch\n",
    "import pandas as pd\n",
    "from torch.utils.data import DataLoader, Dataset\n",
    "\n",
    "DATA_DIR = os.getenv(\"MOVIELENS_DATA_DIR\", \"/mnt/Project-37\")\n",
    "print(\"Data dir:\", DATA_DIR)"
   ]
  },
  {
   "cell_type": "code",
   "execution_count": null,
   "id": "47e75c16",
   "metadata": {},
   "outputs": [],
   "source": [
    "# runs in jupyter container\n",
    "ratings_path = os.path.join(DATA_DIR, \"ml-192m\", \"ratings.csv\")\n",
    "df = pd.read_csv(ratings_path, nrows=100_00)\n",
    "print(df.head())"
   ]
  },
  {
   "cell_type": "code",
   "execution_count": null,
   "id": "540f9fe9",
   "metadata": {},
   "outputs": [],
   "source": [
    "# runs in jupyter container\n",
    "class MovieLensDataset(Dataset):\n",
    "    def __init__(self, dataframe):\n",
    "        self.users = torch.tensor(dataframe['userId'].values, dtype=torch.long)\n",
    "        self.items = torch.tensor(dataframe['movieId'].values, dtype=torch.long)\n",
    "\n",
    "    def __len__(self):\n",
    "        return len(self.users)\n",
    "\n",
    "    def __getitem__(self, idx):\n",
    "        return self.users[idx], self.items[idx]\n",
    "\n",
    "dataset = MovieLensDataset(df)\n",
    "dataloader = DataLoader(dataset, batch_size=128, shuffle=False)\n"
   ]
  },
  {
   "cell_type": "code",
   "execution_count": null,
   "id": "d361809f",
   "metadata": {},
   "outputs": [],
   "source": [
    "# runs in jupyter container\n",
    "model_path = \"models/SSE_PT.pth\"\n",
    "model = torch.load(model_path, map_location=\"cpu\")\n",
    "model.eval()\n",
    "print(\"Model loaded.\")"
   ]
  },
  {
   "cell_type": "code",
   "execution_count": null,
   "id": "8cc35177",
   "metadata": {},
   "outputs": [],
   "source": [
    "# Run a simple forward pass\n",
    "with torch.no_grad():\n",
    "    for i, (users, items) in enumerate(dataloader):\n",
    "        outputs = model(users, items)\n",
    "        print(f\"Batch {i}, output shape: {outputs.shape}\")\n",
    "        if i >= 2:\n",
    "            break"
   ]
  }
 ],
 "metadata": {},
 "nbformat": 4,
 "nbformat_minor": 5
}
