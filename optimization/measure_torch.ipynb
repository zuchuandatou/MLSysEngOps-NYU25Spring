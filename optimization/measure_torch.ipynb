{
 "cells": [
  {
   "cell_type": "markdown",
   "id": "caa64c2b",
   "metadata": {},
   "source": [
    "# 4. Inference Performance Evaluation for Quantized SSE-PT Model"
   ]
  },
  {
   "cell_type": "code",
   "execution_count": null,
   "id": "93de912c",
   "metadata": {},
   "outputs": [],
   "source": [
    "\n",
    "!pip install onnx onnxruntime matplotlib --quiet\n"
   ]
  },
  {
   "cell_type": "code",
   "execution_count": null,
   "id": "eb7f19af",
   "metadata": {},
   "outputs": [],
   "source": [
    "\n",
    "import os\n",
    "import numpy as np\n",
    "import time\n",
    "import matplotlib.pyplot as plt\n",
    "import onnxruntime as ort\n"
   ]
  },
  {
   "cell_type": "code",
   "execution_count": null,
   "id": "06bf0ab8",
   "metadata": {},
   "outputs": [],
   "source": [
    "\n",
    "# Choose which model to evaluate\n",
    "model_path = \"ssept_quant_dynamic.onnx\"  # Or use ssept_quant_static.onnx\n",
    "assert os.path.exists(model_path), \"Quantized ONNX model not found.\"\n",
    "\n",
    "# Create inference session\n",
    "session = ort.InferenceSession(model_path, providers=[\"CPUExecutionProvider\"])\n",
    "input_name = session.get_inputs()[0].name\n",
    "print(\"Input name:\", input_name)\n"
   ]
  },
  {
   "cell_type": "code",
   "execution_count": null,
   "id": "b3baff63",
   "metadata": {},
   "outputs": [],
   "source": [
    "\n",
    "# Simulate a batch of 128 users for throughput testing\n",
    "BATCH_SIZE = 128\n",
    "DIMS = 768  # Replace with your model's input dimension\n",
    "inputs = np.random.rand(BATCH_SIZE, DIMS).astype(\"float32\")\n"
   ]
  },
  {
   "cell_type": "code",
   "execution_count": null,
   "id": "d784318c",
   "metadata": {},
   "outputs": [],
   "source": [
    "\n",
    "latencies = []\n",
    "for _ in range(100):\n",
    "    sample = np.random.rand(1, DIMS).astype(\"float32\")\n",
    "    start = time.time()\n",
    "    _ = session.run(None, {input_name: sample})\n",
    "    latencies.append(time.time() - start)\n",
    "\n",
    "mean_latency = np.mean(latencies) * 1000\n",
    "p95_latency = np.percentile(latencies, 95) * 1000\n",
    "\n",
    "print(f\"Mean latency: {mean_latency:.2f} ms\")\n",
    "print(f\"95th percentile latency: {p95_latency:.2f} ms\")\n"
   ]
  },
  {
   "cell_type": "code",
   "execution_count": null,
   "id": "93a01bcb",
   "metadata": {},
   "outputs": [],
   "source": [
    "\n",
    "start = time.time()\n",
    "for _ in range(20):\n",
    "    _ = session.run(None, {input_name: inputs})\n",
    "total_time = time.time() - start\n",
    "\n",
    "throughput = (BATCH_SIZE * 20) / total_time\n",
    "print(f\"Throughput: {throughput:.2f} samples/sec\")\n"
   ]
  },
  {
   "cell_type": "code",
   "execution_count": null,
   "id": "1e366371",
   "metadata": {},
   "outputs": [],
   "source": [
    "\n",
    "plt.hist(np.array(latencies) * 1000, bins=20)\n",
    "plt.title(\"Latency Distribution (ms)\")\n",
    "plt.xlabel(\"Latency (ms)\")\n",
    "plt.ylabel(\"Frequency\")\n",
    "plt.grid(True)\n",
    "plt.show()\n"
   ]
  }
 ],
 "metadata": {},
 "nbformat": 4,
 "nbformat_minor": 5
}
