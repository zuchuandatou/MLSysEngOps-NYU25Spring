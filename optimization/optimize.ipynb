{
 "cells": [
  {
   "cell_type": "markdown",
   "id": "2418c2c6",
   "metadata": {},
   "source": [
    "# Step 0: Export PyTorch Model to ONNX\n",
    "In this step, we export the trained SSE-PT PyTorch model to ONNX format using `torch.onnx.export`. This ONNX model will be used for all downstream optimizations."
   ]
  },
  {
   "cell_type": "code",
   "execution_count": null,
   "id": "807b514f",
   "metadata": {},
   "outputs": [],
   "source": [
    "import torch\n",
    "import os\n",
    "import numpy as np\n",
    "from model.ssept import SSEPTModel  # adjust this import to match your project\n",
    "\n",
    "# Load trained model\n",
    "model = SSEPTModel()\n",
    "model.load_state_dict(torch.load(\"ssept.pt\", map_location=torch.device(\"cpu\")))\n",
    "model.eval()\n",
    "\n",
    "# Prepare dummy input - must match actual input shape\n",
    "dummy_input = torch.randn(1, 768)\n",
    "\n",
    "# Export to ONNX\n",
    "onnx_output_path = \"ssept.onnx\"\n",
    "torch.onnx.export(\n",
    "    model,\n",
    "    dummy_input,\n",
    "    onnx_output_path,\n",
    "    input_names=[\"input_ids\"],\n",
    "    output_names=[\"output\"],\n",
    "    dynamic_axes={\"input_ids\": {0: \"batch_size\"}},\n",
    "    opset_version=13\n",
    ")\n",
    "print(f\"Model exported to {onnx_output_path}\")"
   ]
  },
  {
   "cell_type": "markdown",
   "id": "532dd42a",
   "metadata": {},
   "source": [
    "# Step 1: Optimize ONNX Graph\n",
    "This step applies graph-level optimizations such as fusing adjacent operations (e.g., Conv + BN) to accelerate inference."
   ]
  },
  {
   "cell_type": "markdown",
   "id": "586f63c8",
   "metadata": {},
   "source": [
    "# 1. Optimize Graph for SSE-PT\n",
    "This notebook loads your exported SSE-PT ONNX model, applies ONNX Runtime graph optimizations, and saves an optimized model for serving."
   ]
  },
  {
   "cell_type": "code",
   "execution_count": null,
   "id": "db31b6b7",
   "metadata": {},
   "outputs": [],
   "source": [
    "\n",
    "import onnx\n",
    "from onnxruntime import InferenceSession, SessionOptions, GraphOptimizationLevel\n",
    "\n",
    "# Path to your ONNX model\n",
    "input_model_path = \"model/ssept.onnx\"\n",
    "output_model_path = \"model/ssept_optimized.onnx\"\n",
    "\n",
    "# Load and check ONNX model\n",
    "model = onnx.load(input_model_path)\n",
    "onnx.checker.check_model(model)\n",
    "print(\"Loaded and checked model successfully.\")\n"
   ]
  },
  {
   "cell_type": "code",
   "execution_count": null,
   "id": "a5aaa7f7",
   "metadata": {},
   "outputs": [],
   "source": [
    "\n",
    "# Create session with optimization enabled\n",
    "opt = SessionOptions()\n",
    "opt.graph_optimization_level = GraphOptimizationLevel.ORT_ENABLE_ALL\n",
    "\n",
    "# If using GPU later, you may switch to CUDAExecutionProvider or TensorrtExecutionProvider\n",
    "sess = InferenceSession(input_model_path, sess_options=opt, providers=[\"CPUExecutionProvider\"])\n",
    "\n",
    "# Save optimized model\n",
    "optimized_model_bytes = sess.serialize()\n",
    "with open(output_model_path, \"wb\") as f:\n",
    "    f.write(optimized_model_bytes)\n",
    "print(f\"Optimized model saved to {output_model_path}\")\n"
   ]
  },
  {
   "cell_type": "markdown",
   "id": "a4477c63",
   "metadata": {},
   "source": [
    "# Quantize ONNX Model for SSE-PT (Movie Recommendation)"
   ]
  },
  {
   "cell_type": "markdown",
   "id": "aeb8381c",
   "metadata": {},
   "source": [
    "# Step 2: Apply Dynamic Quantization\n",
    "Here we convert weights from float32 to int8 using ONNX Runtime's dynamic quantization, targeting CPU deployment."
   ]
  },
  {
   "cell_type": "code",
   "execution_count": null,
   "id": "6ebd074e",
   "metadata": {},
   "outputs": [],
   "source": [
    "\n",
    "# Quantize ONNX Model for SSE-PT (Movie Recommendation)\n",
    "# Author: Abby Zhou Team 37\n",
    "\n",
    "## 0. Install Dependencies\n",
    "!pip install onnx onnxruntime onnxruntime-tools neural-compressor --quiet\n",
    "\n",
    "## 1. Import Libraries\n",
    "import os\n",
    "import numpy as np\n",
    "import time\n",
    "import onnx\n",
    "import onnxruntime as ort\n",
    "from onnxruntime.quantization import quantize_dynamic, QuantType\n",
    "from neural_compressor import quantization\n",
    "from neural_compressor.config import PostTrainingQuantConfig\n",
    "\n",
    "## 2. Path Configuration\n",
    "onnx_model_path = \"ssept.onnx\"\n",
    "quant_model_path = \"ssept_quant_dynamic.onnx\"\n",
    "assert os.path.exists(onnx_model_path), \"Please export ONNX model first.\"\n",
    "\n",
    "## 3. Model Size Before Quantization\n",
    "print(\"Original FP32 model size:\", os.path.getsize(onnx_model_path)/1e6, \"MB\")\n",
    "\n",
    "## 4. Quantization: Dynamic INT8 Weights\n",
    "quantize_dynamic(\n",
    "    model_input=onnx_model_path,\n",
    "    model_output=quant_model_path,\n",
    "    weight_type=QuantType.QInt8,\n",
    "    optimize_model=True\n",
    ")\n",
    "print(\"Quantized model size:\", os.path.getsize(quant_model_path)/1e6, \"MB\")\n",
    "\n",
    "## 5. Inference Session with Quantized Model\n",
    "session = ort.InferenceSession(quant_model_path, providers=[\"CPUExecutionProvider\"])\n",
    "input_name = session.get_inputs()[0].name\n",
    "output_name = session.get_outputs()[0].name\n",
    "\n",
    "## 6. Inference Latency Benchmark (Single Sample)\n",
    "dummy_input = np.random.rand(1, 768).astype(\"float32\")  # adjust input size\n",
    "latencies = []\n",
    "for _ in range(100):\n",
    "    start = time.time()\n",
    "    _ = session.run(None, {input_name: dummy_input})\n",
    "    latencies.append(time.time() - start)\n",
    "print(\"Average latency:\", np.mean(latencies)*1000, \"ms\")\n",
    "\n",
    "## 7. Summary\n",
    "print(\"Quantized ONNX Model:\", quant_model_path)\n",
    "print(\"Model size:\", round(os.path.getsize(quant_model_path)/1e6, 2), \"MB\")\n",
    "print(\"Mean inference latency:\", round(np.mean(latencies)*1000, 2), \"ms\")\n"
   ]
  },
  {
   "cell_type": "markdown",
   "id": "2551ab39",
   "metadata": {},
   "source": [
    "# Optimize & Statically Quantize ONNX Model for SSE-PT"
   ]
  },
  {
   "cell_type": "code",
   "execution_count": null,
   "id": "5b41aa32",
   "metadata": {},
   "outputs": [],
   "source": [
    "\n",
    "!pip install onnx onnxruntime onnxruntime-tools neural-compressor --quiet\n"
   ]
  },
  {
   "cell_type": "code",
   "execution_count": null,
   "id": "5d9eb552",
   "metadata": {},
   "outputs": [],
   "source": [
    "\n",
    "import os\n",
    "import numpy as np\n",
    "import time\n",
    "import onnx\n",
    "import onnxruntime as ort\n",
    "from neural_compressor import quantization\n",
    "from neural_compressor.config import PostTrainingQuantConfig\n",
    "from neural_compressor.data import DATALOADERS\n",
    "from onnxruntime_tools import optimizer\n"
   ]
  },
  {
   "cell_type": "markdown",
   "id": "7854b584",
   "metadata": {},
   "source": [
    "# Step 3: Apply Static Quantization\n",
    "This step uses Neural Compressor with a dummy calibration dataset to perform static quantization for even more compact models."
   ]
  },
  {
   "cell_type": "code",
   "execution_count": null,
   "id": "121f2486",
   "metadata": {},
   "outputs": [],
   "source": [
    "\n",
    "onnx_fp32_path = \"ssept.onnx\"\n",
    "onnx_optimized_path = \"ssept_optimized.onnx\"\n",
    "onnx_quant_path = \"ssept_quant_static.onnx\"\n",
    "assert os.path.exists(onnx_fp32_path), \"Run 0_export_onnx.ipynb first.\"\n"
   ]
  },
  {
   "cell_type": "code",
   "execution_count": null,
   "id": "d39b4da6",
   "metadata": {},
   "outputs": [],
   "source": [
    "\n",
    "from onnxruntime_tools import optimizer\n",
    "optimized_model = optimizer.optimize_model(onnx_fp32_path, model_type='bert')  # Assuming SSE-PT is transformer-based\n",
    "optimized_model.save_model_to_file(onnx_optimized_path)\n",
    "print(\"Optimized model saved to:\", onnx_optimized_path)\n"
   ]
  },
  {
   "cell_type": "code",
   "execution_count": null,
   "id": "7c900ed5",
   "metadata": {},
   "outputs": [],
   "source": [
    "\n",
    "# Define dummy calibration dataloader (use real user vectors if possible)\n",
    "class DummyDataset:\n",
    "    def __iter__(self):\n",
    "        for _ in range(10):\n",
    "            yield {\"input_ids\": np.random.rand(1, 768).astype(\"float32\")}  # Adjust key if needed\n",
    "\n",
    "calib_dataloader = DATALOADERS[\"onnxruntime\"](DummyDataset())\n",
    "\n",
    "quant_config = PostTrainingQuantConfig(approach=\"static\", calibrate_sampling_size=10)\n",
    "quantized_model = quantization.fit(\n",
    "    model=onnx_optimized_path,\n",
    "    conf=quant_config,\n",
    "    calib_dataloader=calib_dataloader\n",
    ")\n",
    "quantized_model.save_model_to_file(onnx_quant_path)\n",
    "print(\"Quantized model saved to:\", onnx_quant_path)\n"
   ]
  },
  {
   "cell_type": "code",
   "execution_count": null,
   "id": "2629fefe",
   "metadata": {},
   "outputs": [],
   "source": [
    "\n",
    "session = ort.InferenceSession(onnx_quant_path, providers=[\"CPUExecutionProvider\"])\n",
    "input_name = session.get_inputs()[0].name\n",
    "dummy_input = np.random.rand(1, 768).astype(\"float32\")\n",
    "latencies = []\n",
    "for _ in range(100):\n",
    "    start = time.time()\n",
    "    _ = session.run(None, {input_name: dummy_input})\n",
    "    latencies.append(time.time() - start)\n",
    "print(\"Average latency (static quant):\", round(np.mean(latencies)*1000, 2), \"ms\")\n",
    "print(\"Model size:\", round(os.path.getsize(onnx_quant_path)/1e6, 2), \"MB\")\n"
   ]
  },
  {
   "cell_type": "markdown",
   "id": "caa64c2b",
   "metadata": {},
   "source": [
    "# 4. Inference Performance Evaluation for Quantized SSE-PT Model"
   ]
  },
  {
   "cell_type": "code",
   "execution_count": null,
   "id": "93de912c",
   "metadata": {},
   "outputs": [],
   "source": [
    "\n",
    "!pip install onnx onnxruntime matplotlib --quiet\n"
   ]
  },
  {
   "cell_type": "code",
   "execution_count": null,
   "id": "eb7f19af",
   "metadata": {},
   "outputs": [],
   "source": [
    "\n",
    "import os\n",
    "import numpy as np\n",
    "import time\n",
    "import matplotlib.pyplot as plt\n",
    "import onnxruntime as ort\n"
   ]
  },
  {
   "cell_type": "code",
   "execution_count": null,
   "id": "06bf0ab8",
   "metadata": {},
   "outputs": [],
   "source": [
    "\n",
    "# Choose which model to evaluate\n",
    "model_path = \"ssept_quant_dynamic.onnx\"  # Or use ssept_quant_static.onnx\n",
    "assert os.path.exists(model_path), \"Quantized ONNX model not found.\"\n",
    "\n",
    "# Create inference session\n",
    "session = ort.InferenceSession(model_path, providers=[\"CPUExecutionProvider\"])\n",
    "input_name = session.get_inputs()[0].name\n",
    "print(\"Input name:\", input_name)\n"
   ]
  },
  {
   "cell_type": "code",
   "execution_count": null,
   "id": "b3baff63",
   "metadata": {},
   "outputs": [],
   "source": [
    "\n",
    "# Simulate a batch of 128 users for throughput testing\n",
    "BATCH_SIZE = 128\n",
    "DIMS = 768  # Replace with your model's input dimension\n",
    "inputs = np.random.rand(BATCH_SIZE, DIMS).astype(\"float32\")\n"
   ]
  },
  {
   "cell_type": "code",
   "execution_count": null,
   "id": "d784318c",
   "metadata": {},
   "outputs": [],
   "source": [
    "\n",
    "latencies = []\n",
    "for _ in range(100):\n",
    "    sample = np.random.rand(1, DIMS).astype(\"float32\")\n",
    "    start = time.time()\n",
    "    _ = session.run(None, {input_name: sample})\n",
    "    latencies.append(time.time() - start)\n",
    "\n",
    "mean_latency = np.mean(latencies) * 1000\n",
    "p95_latency = np.percentile(latencies, 95) * 1000\n",
    "\n",
    "print(f\"Mean latency: {mean_latency:.2f} ms\")\n",
    "print(f\"95th percentile latency: {p95_latency:.2f} ms\")\n"
   ]
  },
  {
   "cell_type": "code",
   "execution_count": null,
   "id": "93a01bcb",
   "metadata": {},
   "outputs": [],
   "source": [
    "\n",
    "start = time.time()\n",
    "for _ in range(20):\n",
    "    _ = session.run(None, {input_name: inputs})\n",
    "total_time = time.time() - start\n",
    "\n",
    "throughput = (BATCH_SIZE * 20) / total_time\n",
    "print(f\"Throughput: {throughput:.2f} samples/sec\")\n"
   ]
  },
  {
   "cell_type": "code",
   "execution_count": null,
   "id": "1e366371",
   "metadata": {},
   "outputs": [],
   "source": [
    "\n",
    "plt.hist(np.array(latencies) * 1000, bins=20)\n",
    "plt.title(\"Latency Distribution (ms)\")\n",
    "plt.xlabel(\"Latency (ms)\")\n",
    "plt.ylabel(\"Frequency\")\n",
    "plt.grid(True)\n",
    "plt.show()\n"
   ]
  }
 ],
 "metadata": {
  "language_info": {
   "name": "python"
  }
 },
 "nbformat": 4,
 "nbformat_minor": 5
}
