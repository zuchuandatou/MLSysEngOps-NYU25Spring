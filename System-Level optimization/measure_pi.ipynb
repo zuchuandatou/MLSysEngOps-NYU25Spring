{
 "cells": [
  {
   "cell_type": "markdown",
   "metadata": {},
   "source": [
    "## Measure inference performance of ONNX model on low-resource edge device\n",
    "\n",
    "Now, we’re going to benchmark a couple of previously created ONNX models on our low-resource edge device."
   ]
  },
  {
   "cell_type": "code",
   "execution_count": null,
   "metadata": {},
   "outputs": [],
   "source": [
    "import os\n",
    "import time\n",
    "import numpy as np\n",
    "import onnxruntime as ort"
   ]
  },
  {
   "cell_type": "code",
   "execution_count": null,
   "metadata": {},
   "outputs": [],
   "source": [
    "def benchmark_session(ort_session):\n",
    "    num_trials = 100\n",
    "\n",
    "    # input info\n",
    "    input_names = [i.name for i in ort_session.get_inputs()]\n",
    "    user_input_shape = ort_session.get_inputs()[0].shape  # 通常是 [batch_size]\n",
    "    seq_input_shape = ort_session.get_inputs()[1].shape   # 通常是 [batch_size, seq_len]\n",
    "\n",
    "    batch_size = 1\n",
    "    seq_len = seq_input_shape[1]\n",
    "\n",
    "    dummy_user = np.random.randint(0, 1000, size=(batch_size,), dtype=np.int64)\n",
    "    dummy_seq = np.random.randint(0, 1000, size=(batch_size, seq_len), dtype=np.int64)\n",
    "\n",
    "    # warm-up\n",
    "    ort_session.run(None, {\n",
    "        input_names[0]: dummy_user,\n",
    "        input_names[1]: dummy_seq\n",
    "    })\n",
    "\n",
    "    latencies = []\n",
    "    for _ in range(num_trials):\n",
    "        start = time.time()\n",
    "        ort_session.run(None, {\n",
    "            input_names[0]: dummy_user,\n",
    "            input_names[1]: dummy_seq\n",
    "        })\n",
    "        latencies.append(time.time() - start)\n",
    "\n",
    "    print(f\"Inference Latency (median): {np.percentile(latencies, 50) * 1000:.2f} ms\")\n",
    "    print(f\"Inference Latency (95th): {np.percentile(latencies, 95) * 1000:.2f} ms\")\n",
    "    print(f\"Inference Latency (99th): {np.percentile(latencies, 99) * 1000:.2f} ms\")\n",
    "    print(f\"Inference Throughput (single sample): {num_trials / np.sum(latencies):.2f} FPS\")\n"
   ]
  },
  {
   "cell_type": "markdown",
   "metadata": {},
   "source": [
    "Now, let’s evaluate our “baseline” ONNX model:"
   ]
  },
  {
   "cell_type": "code",
   "execution_count": null,
   "metadata": {},
   "outputs": [],
   "source": [
    "print(\"\\n[Baseline FP32]\")\n",
    "ort_session = ort.InferenceSession(\"models/SSE_PT10kemb.onnx\", providers=['CPUExecutionProvider'])\n",
    "benchmark_session(ort_session)\n",
    "\n",
    "# the model quantized with dynamic quantization:\n",
    "print(\"\\n[Dynamic Quantized]\")\n",
    "ort_session = ort.InferenceSession(\"models/SSE_PT10kemb_quant_dynamic.onnx\", providers=['CPUExecutionProvider'])\n",
    "benchmark_session(ort_session)\n",
    "\n",
    "#  the model quantized with static quantization\n",
    "print(\"\\n[Static Quantized - Aggressive]\")\n",
    "ort_session = ort.InferenceSession(\"models/SSE_PT10kemb_quant_static_aggressive.onnx\", providers=['CPUExecutionProvider'])\n",
    "benchmark_session(ort_session)\n"
   ]
  }
 ],
 "metadata": {
  "kernelspec": {
   "display_name": "Python 3 (ipykernel)",
   "language": "python",
   "name": "python3"
  },
  "language_info": {
   "codemirror_mode": {
    "name": "ipython",
    "version": 3
   },
   "file_extension": ".py",
   "mimetype": "text/x-python",
   "name": "python",
   "nbconvert_exporter": "python",
   "pygments_lexer": "ipython3",
   "version": "3.10.9"
  }
 },
 "nbformat": 4,
 "nbformat_minor": 4
}
