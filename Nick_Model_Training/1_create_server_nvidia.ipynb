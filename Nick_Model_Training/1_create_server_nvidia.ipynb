{
 "cells": [
  {
   "cell_type": "markdown",
   "metadata": {},
   "source": [
    "## Launch and set up NVIDIA A100 40GB server - with python-chi\n",
    "\n",
    "At the beginning of the lease time, we will bring up our GPU server. We will use the `python-chi` Python API to Chameleon to provision our server.\n",
    "\n",
    "> **Note**: if you don’t have access to the Chameleon Jupyter environment, or if you prefer to set up your AMD MI100 server by hand, the next section provides alternative instructions! If you want to set up your server “by hand”, skip to the next section.\n",
    "\n",
    "We will execute the cells in this notebook inside the Chameleon Jupyter environment.\n",
    "\n",
    "Run the following cell, and make sure the correct project is selected:"
   ]
  },
  {
   "cell_type": "code",
   "execution_count": 7,
   "metadata": {
    "tags": []
   },
   "outputs": [
    {
     "data": {
      "application/vnd.jupyter.widget-view+json": {
       "model_id": "8ba95fb87bc84f2ebd93f8f19dbadb15",
       "version_major": 2,
       "version_minor": 0
      },
      "text/plain": [
       "VBox(children=(Dropdown(description='Select Project', options=('CHI-251409',), value='CHI-251409'), Output()))"
      ]
     },
     "metadata": {},
     "output_type": "display_data"
    },
    {
     "data": {
      "application/vnd.jupyter.widget-view+json": {
       "model_id": "85868046559349908144b3476b919ca4",
       "version_major": 2,
       "version_minor": 0
      },
      "text/plain": [
       "VBox(children=(Dropdown(description='Select Site', options=('CHI@TACC', 'CHI@UC', 'CHI@EVL', 'CHI@NCAR', 'CHI@…"
      ]
     },
     "metadata": {},
     "output_type": "display_data"
    }
   ],
   "source": [
    "from chi import server, context, lease\n",
    "import os\n",
    "\n",
    "context.version = \"1.0\" \n",
    "context.choose_project()\n",
    "context.choose_site(default=\"CHI@TACC\")"
   ]
  },
  {
   "cell_type": "markdown",
   "metadata": {},
   "source": [
    "Change the string in the following cell to reflect the name of *your* lease (**with your own net ID**), then run it to get your lease:"
   ]
  },
  {
   "cell_type": "code",
   "execution_count": 9,
   "metadata": {
    "tags": []
   },
   "outputs": [
    {
     "data": {
      "application/vnd.jupyter.widget-view+json": {
       "model_id": "ef249a3c1a504ae3bfdbb4a4e78c734e",
       "version_major": 2,
       "version_minor": 0
      },
      "text/plain": [
       "HTML(value='\\n        <h2>Lease Details</h2>\\n        <table>\\n            <tr><th>Name</th><td>serve_system_M…"
      ]
     },
     "metadata": {},
     "output_type": "display_data"
    },
    {
     "name": "stdout",
     "output_type": "stream",
     "text": [
      "Lease Details:\n",
      "Name: serve_system_MR3\n",
      "ID: f1e740ee-97cb-4209-94ce-bdd7fd3be39f\n",
      "Status: ACTIVE\n",
      "Start Date: 2025-05-11 00:10:00\n",
      "End Date: 2025-05-13 20:12:00\n",
      "User ID: b41688a3c13d5956f0024c648c80d26fdcbfc3df71e826dfc9988483714cc7ec\n",
      "Project ID: d3c6e101843a4ba79e665ebf59b521a2\n",
      "\n",
      "Node Reservations:\n",
      "ID: 3c2f8894-d838-4a1c-917a-a13b480cd7e2, Status: active, Min: 1, Max: 1\n",
      "\n",
      "Floating IP Reservations:\n",
      "\n",
      "Network Reservations:\n",
      "\n",
      "Events:\n"
     ]
    }
   ],
   "source": [
    "l = lease.get_lease(f\"serve_system_MR3\") \n",
    "l.show()"
   ]
  },
  {
   "cell_type": "markdown",
   "metadata": {},
   "source": [
    "The status should show as “ACTIVE” now that we are past the lease start time.\n",
    "\n",
    "The rest of this notebook can be executed without any interactions from you, so at this point, you can save time by clicking on this cell, then selecting “Run” \\> “Run Selected Cell and All Below” from the Jupyter menu.\n",
    "\n",
    "As the notebook executes, monitor its progress to make sure it does not get stuck on any execution error, and also to see what it is doing!"
   ]
  },
  {
   "cell_type": "markdown",
   "metadata": {},
   "source": [
    "We will use the lease to bring up a server with the `CC-Ubuntu24.04-CUDA` disk image.\n",
    "\n",
    "> **Note**: the following cell brings up a server only if you don’t already have one with the same name! (Regardless of its error state.) If you have a server in ERROR state already, delete it first in the Horizon GUI before you run this cell."
   ]
  },
  {
   "cell_type": "code",
   "execution_count": 11,
   "metadata": {
    "tags": []
   },
   "outputs": [
    {
     "name": "stdout",
     "output_type": "stream",
     "text": [
      "Waiting for server node-mltrain-project37's status to become ACTIVE. This typically takes 10 minutes, but can take up to 20 minutes.\n"
     ]
    },
    {
     "data": {
      "application/vnd.jupyter.widget-view+json": {
       "model_id": "9242de805a36433882f2d9b2d7104b97",
       "version_major": 2,
       "version_minor": 0
      },
      "text/plain": [
       "HBox(children=(Label(value=''), IntProgress(value=0, bar_style='success')))"
      ]
     },
     "metadata": {},
     "output_type": "display_data"
    },
    {
     "name": "stdout",
     "output_type": "stream",
     "text": [
      "Server has moved to status ACTIVE\n"
     ]
    },
    {
     "data": {
      "text/html": [
       "<table style='border-collapse: collapse; width: 100%;'><tr style='background-color: #f2f2f2;'><th style='border: 1px solid #ddd; padding: 8px;'>Attribute</th><th style='border: 1px solid #ddd; padding: 8px;'>node-mltrain-project37</th></tr><tr><td style='border: 1px solid #ddd; padding: 8px;'>Id</td><td style='border: 1px solid #ddd; padding: 8px;'>c1803ae9-1c2c-4ab0-9bcb-24d37df0c911</td></tr><tr><td style='border: 1px solid #ddd; padding: 8px;'>Status</td><td style='border: 1px solid #ddd; padding: 8px;'>ACTIVE</td></tr><tr><td style='border: 1px solid #ddd; padding: 8px;'>Image Name</td><td style='border: 1px solid #ddd; padding: 8px;'>CC-Ubuntu24.04-CUDA</td></tr><tr><td style='border: 1px solid #ddd; padding: 8px;'>Flavor Name</td><td style='border: 1px solid #ddd; padding: 8px;'>baremetal</td></tr><tr><td style='border: 1px solid #ddd; padding: 8px;'>Addresses</td><td style='border: 1px solid #ddd; padding: 8px;'><strong>sharednet1:</strong><br>&nbsp;&nbsp;IP: 10.52.3.32 (v4)<br>&nbsp;&nbsp;Type: fixed<br>&nbsp;&nbsp;MAC: a0:36:9f:f2:42:10<br></td></tr><tr><td style='border: 1px solid #ddd; padding: 8px;'>Network Name</td><td style='border: 1px solid #ddd; padding: 8px;'>sharednet1</td></tr><tr><td style='border: 1px solid #ddd; padding: 8px;'>Created At</td><td style='border: 1px solid #ddd; padding: 8px;'>2025-05-11T00:48:32Z</td></tr><tr><td style='border: 1px solid #ddd; padding: 8px;'>Keypair</td><td style='border: 1px solid #ddd; padding: 8px;'>trovi-84b35f9</td></tr><tr><td style='border: 1px solid #ddd; padding: 8px;'>Reservation Id</td><td style='border: 1px solid #ddd; padding: 8px;'>3c2f8894-d838-4a1c-917a-a13b480cd7e2</td></tr><tr><td style='border: 1px solid #ddd; padding: 8px;'>Host Id</td><td style='border: 1px solid #ddd; padding: 8px;'>9acf860df16fe3cd915f9522cd52cf171577a815ef5c486f67a143e3</td></tr><tr><td style='border: 1px solid #ddd; padding: 8px;'>Host Status</td><td style='border: 1px solid #ddd; padding: 8px;'>None</td></tr><tr><td style='border: 1px solid #ddd; padding: 8px;'>Hypervisor Hostname</td><td style='border: 1px solid #ddd; padding: 8px;'>ac1163b1-831d-4642-9235-c39b68d24f90</td></tr><tr><td style='border: 1px solid #ddd; padding: 8px;'>Is Locked</td><td style='border: 1px solid #ddd; padding: 8px;'>False</td></tr></table>"
      ],
      "text/plain": [
       "<IPython.core.display.HTML object>"
      ]
     },
     "metadata": {},
     "output_type": "display_data"
    }
   ],
   "source": [
    "username = \"project37\" # all exp resources will have this prefix\n",
    "s = server.Server(\n",
    "    f\"node-mltrain-{username}\", \n",
    "    reservation_id=l.node_reservations[0][\"id\"],\n",
    "    image_name=\"CC-Ubuntu24.04-CUDA\"\n",
    ")\n",
    "s.submit(idempotent=True)\n",
    "# username = \"project37\" # for group project\n",
    "# s = server.Server(\n",
    "#     f\"node-persist-{username}\", \n",
    "#     image_name=\"CC-Ubuntu24.04\",\n",
    "#     flavor_name=\"m1.large\"\n",
    "# )\n",
    "# s.submit(idempotent=True)"
   ]
  },
  {
   "cell_type": "markdown",
   "metadata": {},
   "source": [
    "Note: security groups are not used at Chameleon bare metal sites, so we do not have to configure any security groups on this instance."
   ]
  },
  {
   "cell_type": "markdown",
   "metadata": {},
   "source": [
    "Then, we’ll associate a floating IP with the instance, so that we can access it over SSH."
   ]
  },
  {
   "cell_type": "code",
   "execution_count": 12,
   "metadata": {
    "tags": []
   },
   "outputs": [],
   "source": [
    "s.associate_floating_ip()"
   ]
  },
  {
   "cell_type": "code",
   "execution_count": 13,
   "metadata": {
    "tags": []
   },
   "outputs": [
    {
     "name": "stdout",
     "output_type": "stream",
     "text": [
      "Checking connectivity to 129.114.108.238 port 22.\n"
     ]
    },
    {
     "data": {
      "application/vnd.jupyter.widget-view+json": {
       "model_id": "3939e183124943efaa540513c4b0d5ee",
       "version_major": 2,
       "version_minor": 0
      },
      "text/plain": [
       "HBox(children=(Label(value=''), IntProgress(value=0, bar_style='success')))"
      ]
     },
     "metadata": {},
     "output_type": "display_data"
    },
    {
     "name": "stdout",
     "output_type": "stream",
     "text": [
      "Connection successful\n"
     ]
    }
   ],
   "source": [
    "s.refresh()\n",
    "s.check_connectivity()"
   ]
  },
  {
   "cell_type": "markdown",
   "metadata": {},
   "source": [
    "In the output below, make a note of the floating IP that has been assigned to your instance (in the “Addresses” row)."
   ]
  },
  {
   "cell_type": "code",
   "execution_count": 14,
   "metadata": {
    "tags": []
   },
   "outputs": [
    {
     "data": {
      "text/html": [
       "<table style='border-collapse: collapse; width: 100%;'><tr style='background-color: #f2f2f2;'><th style='border: 1px solid #ddd; padding: 8px;'>Attribute</th><th style='border: 1px solid #ddd; padding: 8px;'>node-mltrain-project37</th></tr><tr><td style='border: 1px solid #ddd; padding: 8px;'>Id</td><td style='border: 1px solid #ddd; padding: 8px;'>c1803ae9-1c2c-4ab0-9bcb-24d37df0c911</td></tr><tr><td style='border: 1px solid #ddd; padding: 8px;'>Status</td><td style='border: 1px solid #ddd; padding: 8px;'>ACTIVE</td></tr><tr><td style='border: 1px solid #ddd; padding: 8px;'>Image Name</td><td style='border: 1px solid #ddd; padding: 8px;'>CC-Ubuntu24.04-CUDA</td></tr><tr><td style='border: 1px solid #ddd; padding: 8px;'>Flavor Name</td><td style='border: 1px solid #ddd; padding: 8px;'>baremetal</td></tr><tr><td style='border: 1px solid #ddd; padding: 8px;'>Addresses</td><td style='border: 1px solid #ddd; padding: 8px;'><strong>sharednet1:</strong><br>&nbsp;&nbsp;IP: 10.52.3.32 (v4)<br>&nbsp;&nbsp;Type: fixed<br>&nbsp;&nbsp;MAC: a0:36:9f:f2:42:10<br>&nbsp;&nbsp;IP: 129.114.108.238 (v4)<br>&nbsp;&nbsp;Type: floating<br>&nbsp;&nbsp;MAC: a0:36:9f:f2:42:10<br></td></tr><tr><td style='border: 1px solid #ddd; padding: 8px;'>Network Name</td><td style='border: 1px solid #ddd; padding: 8px;'>sharednet1</td></tr><tr><td style='border: 1px solid #ddd; padding: 8px;'>Created At</td><td style='border: 1px solid #ddd; padding: 8px;'>2025-05-11T00:48:32Z</td></tr><tr><td style='border: 1px solid #ddd; padding: 8px;'>Keypair</td><td style='border: 1px solid #ddd; padding: 8px;'>trovi-84b35f9</td></tr><tr><td style='border: 1px solid #ddd; padding: 8px;'>Reservation Id</td><td style='border: 1px solid #ddd; padding: 8px;'>3c2f8894-d838-4a1c-917a-a13b480cd7e2</td></tr><tr><td style='border: 1px solid #ddd; padding: 8px;'>Host Id</td><td style='border: 1px solid #ddd; padding: 8px;'>9acf860df16fe3cd915f9522cd52cf171577a815ef5c486f67a143e3</td></tr><tr><td style='border: 1px solid #ddd; padding: 8px;'>Host Status</td><td style='border: 1px solid #ddd; padding: 8px;'>None</td></tr><tr><td style='border: 1px solid #ddd; padding: 8px;'>Hypervisor Hostname</td><td style='border: 1px solid #ddd; padding: 8px;'>ac1163b1-831d-4642-9235-c39b68d24f90</td></tr><tr><td style='border: 1px solid #ddd; padding: 8px;'>Is Locked</td><td style='border: 1px solid #ddd; padding: 8px;'>False</td></tr></table>"
      ],
      "text/plain": [
       "<IPython.core.display.HTML object>"
      ]
     },
     "metadata": {},
     "output_type": "display_data"
    }
   ],
   "source": [
    "s.refresh()\n",
    "s.show(type=\"widget\")"
   ]
  },
  {
   "cell_type": "markdown",
   "metadata": {},
   "source": [
    "## Retrieve code and notebooks on the instance\n",
    "\n",
    "Now, we can use `python-chi` to execute commands on the instance, to set it up. We’ll start by retrieving the code and other materials on the instance."
   ]
  },
  {
   "cell_type": "code",
   "execution_count": 15,
   "metadata": {
    "tags": []
   },
   "outputs": [
    {
     "name": "stderr",
     "output_type": "stream",
     "text": [
      "/opt/conda/lib/python3.10/site-packages/paramiko/client.py:889: UserWarning: Unknown ssh-ed25519 host key for 129.114.108.238: b'5f4ada97eac5b8cddce0ca29a2da3919'\n",
      "  warnings.warn(\n",
      "Cloning into 'mltrain-chi'...\n"
     ]
    },
    {
     "data": {
      "text/plain": [
       "<Result cmd='git clone --recurse-submodules https://github.com/teaching-on-testbeds/mltrain-chi' exited=0>"
      ]
     },
     "execution_count": 15,
     "metadata": {},
     "output_type": "execute_result"
    }
   ],
   "source": [
    "s.execute(\"git clone --recurse-submodules https://github.com/teaching-on-testbeds/mltrain-chi\")"
   ]
  },
  {
   "cell_type": "markdown",
   "metadata": {},
   "source": [
    "## Set up Docker\n",
    "\n",
    "To use common deep learning frameworks like Tensorflow or PyTorch, and ML training platforms like MLFlow and Ray, we can run containers that have all the prerequisite libraries necessary for these frameworks. Here, we will set up the container framework."
   ]
  },
  {
   "cell_type": "code",
   "execution_count": 16,
   "metadata": {
    "tags": []
   },
   "outputs": [
    {
     "name": "stdout",
     "output_type": "stream",
     "text": [
      "# Executing docker install script, commit: 53a22f61c0628e58e1d6680b49e82993d304b449\n"
     ]
    },
    {
     "name": "stderr",
     "output_type": "stream",
     "text": [
      "+ sh -c apt-get -qq update >/dev/null\n",
      "+ sh -c DEBIAN_FRONTEND=noninteractive apt-get -y -qq install ca-certificates curl >/dev/null\n",
      "+ sh -c install -m 0755 -d /etc/apt/keyrings\n",
      "+ sh -c curl -fsSL \"https://download.docker.com/linux/ubuntu/gpg\" -o /etc/apt/keyrings/docker.asc\n",
      "+ sh -c chmod a+r /etc/apt/keyrings/docker.asc\n",
      "+ sh -c echo \"deb [arch=amd64 signed-by=/etc/apt/keyrings/docker.asc] https://download.docker.com/linux/ubuntu noble stable\" > /etc/apt/sources.list.d/docker.list\n",
      "+ sh -c apt-get -qq update >/dev/null\n",
      "+ sh -c DEBIAN_FRONTEND=noninteractive apt-get -y -qq install docker-ce docker-ce-cli containerd.io docker-compose-plugin docker-ce-rootless-extras docker-buildx-plugin >/dev/null\n",
      "\n",
      "Running kernel seems to be up-to-date.\n",
      "\n",
      "The processor microcode seems to be up-to-date.\n",
      "\n",
      "No services need to be restarted.\n",
      "\n",
      "No containers need to be restarted.\n",
      "\n",
      "No user sessions are running outdated binaries.\n",
      "\n",
      "No VM guests are running outdated hypervisor (qemu) binaries on this host.\n",
      "+ sh -c docker version\n"
     ]
    },
    {
     "name": "stdout",
     "output_type": "stream",
     "text": [
      "Client: Docker Engine - Community\n",
      " Version:           28.1.1\n",
      " API version:       1.49\n",
      " Go version:        go1.23.8\n",
      " Git commit:        4eba377\n",
      " Built:             Fri Apr 18 09:52:14 2025\n",
      " OS/Arch:           linux/amd64\n",
      " Context:           default\n",
      "\n",
      "Server: Docker Engine - Community\n",
      " Engine:\n",
      "  Version:          28.1.1\n",
      "  API version:      1.49 (minimum version 1.24)\n",
      "  Go version:       go1.23.8\n",
      "  Git commit:       01f442b\n",
      "  Built:            Fri Apr 18 09:52:14 2025\n",
      "  OS/Arch:          linux/amd64\n",
      "  Experimental:     false\n",
      " containerd:\n",
      "  Version:          1.7.27\n",
      "  GitCommit:        05044ec0a9a75232cad458027ca83437aae3f4da\n",
      " runc:\n",
      "  Version:          1.2.5\n",
      "  GitCommit:        v1.2.5-0-g59923ef\n",
      " docker-init:\n",
      "  Version:          0.19.0\n",
      "  GitCommit:        de40ad0\n",
      "\n",
      "================================================================================\n",
      "\n",
      "To run Docker as a non-privileged user, consider setting up the\n",
      "Docker daemon in rootless mode for your user:\n",
      "\n",
      "    dockerd-rootless-setuptool.sh install\n",
      "\n",
      "Visit https://docs.docker.com/go/rootless/ to learn about rootless mode.\n",
      "\n",
      "\n",
      "To run the Docker daemon as a fully privileged service, but granting non-root\n",
      "users access, refer to https://docs.docker.com/go/daemon-access/\n",
      "\n",
      "WARNING: Access to the remote API on a privileged Docker daemon is equivalent\n",
      "         to root access on the host. Refer to the 'Docker daemon attack surface'\n",
      "         documentation for details: https://docs.docker.com/go/attack-surface/\n",
      "\n",
      "================================================================================\n",
      "\n"
     ]
    },
    {
     "data": {
      "text/plain": [
       "<Result cmd='sudo groupadd -f docker; sudo usermod -aG docker $USER' exited=0>"
      ]
     },
     "execution_count": 16,
     "metadata": {},
     "output_type": "execute_result"
    }
   ],
   "source": [
    "s.execute(\"curl -sSL https://get.docker.com/ | sudo sh\")\n",
    "s.execute(\"sudo groupadd -f docker; sudo usermod -aG docker $USER\")"
   ]
  },
  {
   "cell_type": "markdown",
   "metadata": {},
   "source": [
    "## Set up the NVIDIA container toolkit\n",
    "\n",
    "We will also install the NVIDIA container toolkit, with which we can access GPUs from inside our containers."
   ]
  },
  {
   "cell_type": "code",
   "execution_count": 17,
   "metadata": {
    "tags": []
   },
   "outputs": [
    {
     "name": "stdout",
     "output_type": "stream",
     "text": [
      "deb [signed-by=/usr/share/keyrings/nvidia-container-toolkit-keyring.gpg] https://nvidia.github.io/libnvidia-container/stable/deb/$(ARCH) /\n",
      "#deb [signed-by=/usr/share/keyrings/nvidia-container-toolkit-keyring.gpg] https://nvidia.github.io/libnvidia-container/experimental/deb/$(ARCH) /\n"
     ]
    },
    {
     "name": "stderr",
     "output_type": "stream",
     "text": [
      "\n",
      "WARNING: apt does not have a stable CLI interface. Use with caution in scripts.\n",
      "\n"
     ]
    },
    {
     "name": "stdout",
     "output_type": "stream",
     "text": [
      "Hit:1 https://developer.download.nvidia.com/compute/cuda/repos/ubuntu2404/x86_64  InRelease\n",
      "Hit:2 https://download.docker.com/linux/ubuntu noble InRelease\n",
      "Get:3 https://nvidia.github.io/libnvidia-container/stable/deb/amd64  InRelease [1477 B]\n",
      "Hit:4 http://security.ubuntu.com/ubuntu noble-security InRelease\n",
      "Get:5 http://nova.clouds.archive.ubuntu.com/ubuntu noble InRelease [256 kB]\n",
      "Get:6 https://nvidia.github.io/libnvidia-container/stable/deb/amd64  Packages [18.6 kB]\n",
      "Hit:7 http://nova.clouds.archive.ubuntu.com/ubuntu noble-updates InRelease\n",
      "Hit:8 http://nova.clouds.archive.ubuntu.com/ubuntu noble-backports InRelease\n",
      "Fetched 276 kB in 1s (270 kB/s)\n",
      "Reading package lists...\n",
      "Building dependency tree...\n",
      "Reading state information...\n",
      "4 packages can be upgraded. Run 'apt list --upgradable' to see them.\n",
      "Reading package lists...\n",
      "Building dependency tree...\n",
      "Reading state information...\n",
      "The following additional packages will be installed:\n",
      "  libnvidia-container-tools libnvidia-container1 nvidia-container-toolkit-base\n",
      "The following NEW packages will be installed:\n",
      "  libnvidia-container-tools libnvidia-container1 nvidia-container-toolkit\n",
      "  nvidia-container-toolkit-base\n",
      "0 upgraded, 4 newly installed, 0 to remove and 4 not upgraded.\n",
      "Need to get 5849 kB of archives.\n",
      "After this operation, 27.9 MB of additional disk space will be used.\n",
      "Get:1 https://developer.download.nvidia.com/compute/cuda/repos/ubuntu2404/x86_64  libnvidia-container1 1.17.6-1 [926 kB]\n",
      "Get:2 https://developer.download.nvidia.com/compute/cuda/repos/ubuntu2404/x86_64  libnvidia-container-tools 1.17.6-1 [21.5 kB]\n",
      "Get:3 https://developer.download.nvidia.com/compute/cuda/repos/ubuntu2404/x86_64  nvidia-container-toolkit-base 1.17.6-1 [3711 kB]\n",
      "Get:4 https://developer.download.nvidia.com/compute/cuda/repos/ubuntu2404/x86_64  nvidia-container-toolkit 1.17.6-1 [1191 kB]\n"
     ]
    },
    {
     "name": "stderr",
     "output_type": "stream",
     "text": [
      "debconf: unable to initialize frontend: Dialog\n",
      "debconf: (Dialog frontend will not work on a dumb terminal, an emacs shell buffer, or without a controlling terminal.)\n",
      "debconf: falling back to frontend: Readline\n",
      "debconf: unable to initialize frontend: Readline\n",
      "debconf: (This frontend requires a controlling tty.)\n",
      "debconf: falling back to frontend: Teletype\n",
      "dpkg-preconfigure: unable to re-open stdin: \n"
     ]
    },
    {
     "name": "stdout",
     "output_type": "stream",
     "text": [
      "Fetched 5849 kB in 2s (2351 kB/s)\n",
      "Selecting previously unselected package libnvidia-container1:amd64.\n",
      "(Reading database ... 113813 files and directories currently installed.)\n",
      "Preparing to unpack .../libnvidia-container1_1.17.6-1_amd64.deb ...\n",
      "Unpacking libnvidia-container1:amd64 (1.17.6-1) ...\n",
      "Selecting previously unselected package libnvidia-container-tools.\n",
      "Preparing to unpack .../libnvidia-container-tools_1.17.6-1_amd64.deb ...\n",
      "Unpacking libnvidia-container-tools (1.17.6-1) ...\n",
      "Selecting previously unselected package nvidia-container-toolkit-base.\n",
      "Preparing to unpack .../nvidia-container-toolkit-base_1.17.6-1_amd64.deb ...\n",
      "Unpacking nvidia-container-toolkit-base (1.17.6-1) ...\n",
      "Selecting previously unselected package nvidia-container-toolkit.\n",
      "Preparing to unpack .../nvidia-container-toolkit_1.17.6-1_amd64.deb ...\n",
      "Unpacking nvidia-container-toolkit (1.17.6-1) ...\n",
      "Setting up nvidia-container-toolkit-base (1.17.6-1) ...\n",
      "Setting up libnvidia-container1:amd64 (1.17.6-1) ...\n",
      "Setting up libnvidia-container-tools (1.17.6-1) ...\n",
      "Setting up nvidia-container-toolkit (1.17.6-1) ...\n",
      "Processing triggers for libc-bin (2.39-0ubuntu8.4) ...\n"
     ]
    },
    {
     "name": "stderr",
     "output_type": "stream",
     "text": [
      "debconf: unable to initialize frontend: Dialog\n",
      "debconf: (Dialog frontend will not work on a dumb terminal, an emacs shell buffer, or without a controlling terminal.)\n",
      "debconf: falling back to frontend: Readline\n",
      "debconf: unable to initialize frontend: Readline\n",
      "debconf: (This frontend requires a controlling tty.)\n",
      "debconf: falling back to frontend: Teletype\n",
      "\n",
      "Running kernel seems to be up-to-date.\n",
      "\n",
      "The processor microcode seems to be up-to-date.\n",
      "\n",
      "No services need to be restarted.\n",
      "\n",
      "No containers need to be restarted.\n",
      "\n",
      "No user sessions are running outdated binaries.\n",
      "\n",
      "No VM guests are running outdated hypervisor (qemu) binaries on this host.\n",
      "time=\"2025-05-11T00:59:46Z\" level=info msg=\"Config file does not exist; using empty config\"\n",
      "time=\"2025-05-11T00:59:46Z\" level=info msg=\"Wrote updated config to /etc/docker/daemon.json\"\n",
      "time=\"2025-05-11T00:59:46Z\" level=info msg=\"It is recommended that docker daemon be restarted.\"\n"
     ]
    },
    {
     "data": {
      "text/plain": [
       "<Result cmd='sudo systemctl restart docker' exited=0>"
      ]
     },
     "execution_count": 17,
     "metadata": {},
     "output_type": "execute_result"
    }
   ],
   "source": [
    "s.execute(\"curl -fsSL https://nvidia.github.io/libnvidia-container/gpgkey | sudo gpg --dearmor -o /usr/share/keyrings/nvidia-container-toolkit-keyring.gpg \\\n",
    "  && curl -s -L https://nvidia.github.io/libnvidia-container/stable/deb/nvidia-container-toolkit.list | \\\n",
    "    sed 's#deb https://#deb [signed-by=/usr/share/keyrings/nvidia-container-toolkit-keyring.gpg] https://#g' | \\\n",
    "    sudo tee /etc/apt/sources.list.d/nvidia-container-toolkit.list\")\n",
    "s.execute(\"sudo apt update\")\n",
    "s.execute(\"sudo apt-get install -y nvidia-container-toolkit\")\n",
    "s.execute(\"sudo nvidia-ctk runtime configure --runtime=docker\")\n",
    "# for https://github.com/NVIDIA/nvidia-container-toolkit/issues/48\n",
    "s.execute(\"sudo jq 'if has(\\\"exec-opts\\\") then . else . + {\\\"exec-opts\\\": [\\\"native.cgroupdriver=cgroupfs\\\"]} end' /etc/docker/daemon.json | sudo tee /etc/docker/daemon.json.tmp > /dev/null && sudo mv /etc/docker/daemon.json.tmp /etc/docker/daemon.json\")\n",
    "s.execute(\"sudo systemctl restart docker\")"
   ]
  },
  {
   "cell_type": "markdown",
   "metadata": {},
   "source": [
    "and we can install `nvtop` to monitor GPU usage:"
   ]
  },
  {
   "cell_type": "code",
   "execution_count": 18,
   "metadata": {
    "tags": []
   },
   "outputs": [
    {
     "name": "stderr",
     "output_type": "stream",
     "text": [
      "\n",
      "WARNING: apt does not have a stable CLI interface. Use with caution in scripts.\n",
      "\n"
     ]
    },
    {
     "name": "stdout",
     "output_type": "stream",
     "text": [
      "Hit:1 https://nvidia.github.io/libnvidia-container/stable/deb/amd64  InRelease\n",
      "Hit:2 https://download.docker.com/linux/ubuntu noble InRelease\n",
      "Hit:3 https://developer.download.nvidia.com/compute/cuda/repos/ubuntu2404/x86_64  InRelease\n",
      "Get:4 http://nova.clouds.archive.ubuntu.com/ubuntu noble InRelease [256 kB]\n",
      "Hit:5 http://security.ubuntu.com/ubuntu noble-security InRelease\n",
      "Get:6 http://nova.clouds.archive.ubuntu.com/ubuntu noble-updates InRelease [126 kB]\n",
      "Get:7 http://nova.clouds.archive.ubuntu.com/ubuntu noble-backports InRelease [126 kB]\n",
      "Fetched 508 kB in 1s (920 kB/s)\n",
      "Reading package lists...\n",
      "Building dependency tree...\n",
      "Reading state information...\n",
      "4 packages can be upgraded. Run 'apt list --upgradable' to see them.\n"
     ]
    },
    {
     "name": "stderr",
     "output_type": "stream",
     "text": [
      "\n",
      "WARNING: apt does not have a stable CLI interface. Use with caution in scripts.\n",
      "\n"
     ]
    },
    {
     "name": "stdout",
     "output_type": "stream",
     "text": [
      "Reading package lists...\n",
      "Building dependency tree...\n",
      "Reading state information...\n",
      "The following NEW packages will be installed:\n",
      "  nvtop\n",
      "0 upgraded, 1 newly installed, 0 to remove and 4 not upgraded.\n",
      "Need to get 62.8 kB of archives.\n",
      "After this operation, 180 kB of additional disk space will be used.\n",
      "Get:1 http://nova.clouds.archive.ubuntu.com/ubuntu noble/multiverse amd64 nvtop amd64 3.0.2-1 [62.8 kB]\n"
     ]
    },
    {
     "name": "stderr",
     "output_type": "stream",
     "text": [
      "debconf: unable to initialize frontend: Dialog\n",
      "debconf: (Dialog frontend will not work on a dumb terminal, an emacs shell buffer, or without a controlling terminal.)\n",
      "debconf: falling back to frontend: Readline\n",
      "debconf: unable to initialize frontend: Readline\n",
      "debconf: (This frontend requires a controlling tty.)\n",
      "debconf: falling back to frontend: Teletype\n",
      "dpkg-preconfigure: unable to re-open stdin: \n"
     ]
    },
    {
     "name": "stdout",
     "output_type": "stream",
     "text": [
      "Fetched 62.8 kB in 1s (114 kB/s)\n",
      "Selecting previously unselected package nvtop.\n",
      "(Reading database ... 113837 files and directories currently installed.)\n",
      "Preparing to unpack .../nvtop_3.0.2-1_amd64.deb ...\n",
      "Unpacking nvtop (3.0.2-1) ...\n",
      "Setting up nvtop (3.0.2-1) ...\n",
      "Processing triggers for man-db (2.12.0-4build2) ...\n"
     ]
    },
    {
     "name": "stderr",
     "output_type": "stream",
     "text": [
      "debconf: unable to initialize frontend: Dialog\n",
      "debconf: (Dialog frontend will not work on a dumb terminal, an emacs shell buffer, or without a controlling terminal.)\n",
      "debconf: falling back to frontend: Readline\n",
      "debconf: unable to initialize frontend: Readline\n",
      "debconf: (This frontend requires a controlling tty.)\n",
      "debconf: falling back to frontend: Teletype\n",
      "\n",
      "Running kernel seems to be up-to-date.\n",
      "\n",
      "The processor microcode seems to be up-to-date.\n",
      "\n",
      "No services need to be restarted.\n",
      "\n",
      "No containers need to be restarted.\n",
      "\n",
      "No user sessions are running outdated binaries.\n",
      "\n",
      "No VM guests are running outdated hypervisor (qemu) binaries on this host.\n"
     ]
    },
    {
     "data": {
      "text/plain": [
       "<Result cmd='sudo apt -y install nvtop' exited=0>"
      ]
     },
     "execution_count": 18,
     "metadata": {},
     "output_type": "execute_result"
    }
   ],
   "source": [
    "s.execute(\"sudo apt update\")\n",
    "s.execute(\"sudo apt -y install nvtop\")"
   ]
  },
  {
   "cell_type": "markdown",
   "metadata": {},
   "source": [
    "### Build a container image - for MLFlow section\n",
    "\n",
    "Finally, we will build a container image in which to work in the MLFlow section, that has:\n",
    "\n",
    "-   a Jupyter notebook server\n",
    "-   Pytorch and Pytorch Lightning\n",
    "-   CUDA, which allows deep learning frameworks like Pytorch to use the NVIDIA GPU accelerator\n",
    "-   and MLFlow\n",
    "\n",
    "You can see our Dockerfile for this image at: [Dockerfile.jupyter-torch-mlflow-cuda](https://github.com/teaching-on-testbeds/mltrain-chi/tree/main/docker/Dockerfile.jupyter-torch-mlflow-cuda)\n",
    "\n",
    "Building this container may take a bit of time, but that’s OK: we can get it started and then continue to the next section while it builds in the background, since we don’t need this container immediately."
   ]
  },
  {
   "cell_type": "code",
   "execution_count": 19,
   "metadata": {
    "tags": []
   },
   "outputs": [
    {
     "name": "stderr",
     "output_type": "stream",
     "text": [
      "#0 building with \"default\" instance using docker driver\n",
      "\n",
      "#1 [internal] load build definition from Dockerfile.jupyter-torch-mlflow-cuda\n",
      "#1 transferring dockerfile: 539B done\n",
      "#1 DONE 0.0s\n",
      "\n",
      "#2 [internal] load metadata for quay.io/jupyter/pytorch-notebook:cuda12-latest\n",
      "#2 DONE 1.3s\n",
      "\n",
      "#3 [internal] load .dockerignore\n",
      "#3 transferring context: 2B done\n",
      "#3 DONE 0.0s\n",
      "\n",
      "#4 [1/3] FROM quay.io/jupyter/pytorch-notebook:cuda12-latest@sha256:5cc07bab3f9391418e9be3bb822d18a83b840fd3433aae0675e431981d32529e\n",
      "#4 resolve quay.io/jupyter/pytorch-notebook:cuda12-latest@sha256:5cc07bab3f9391418e9be3bb822d18a83b840fd3433aae0675e431981d32529e 0.0s done\n",
      "#4 sha256:709bcaef8de7e3b73bdf67497513e8be731260377a7e50ee5e2414ae494a9fd8 7.21kB / 7.21kB done\n",
      "#4 sha256:7912bb7454b987ece7b2faf11973cbacbe2e1df78d3184d6516c0b5d7ffb6bc5 19.92kB / 19.92kB done\n",
      "#4 sha256:5cc07bab3f9391418e9be3bb822d18a83b840fd3433aae0675e431981d32529e 434B / 434B done\n",
      "#4 sha256:ac0c285abb482df6684de5a61b4577fc5cc5fafe8cd1280ebf52d8909d121599 0B / 30.59MB 0.2s\n",
      "#4 sha256:495e9b1f57cf2c6d6d8e97a2b579177065820753648fd7c66c9800bebd1d617f 0B / 687B 0.2s\n",
      "#4 sha256:96c932f29ab238a89357a1ed3185a558d6195bed23a42e3f7c8eec419dfec130 0B / 11.43MB 0.1s\n",
      "#4 sha256:96c932f29ab238a89357a1ed3185a558d6195bed23a42e3f7c8eec419dfec130 11.43MB / 11.43MB 0.4s\n",
      "#4 sha256:4f4fb700ef54461cfa02571ae0db9a0dc1e0cdb5577484a6d75e68dc38e8acc1 0B / 32B 0.4s\n",
      "#4 sha256:ac0c285abb482df6684de5a61b4577fc5cc5fafe8cd1280ebf52d8909d121599 13.63MB / 30.59MB 0.6s\n",
      "#4 sha256:495e9b1f57cf2c6d6d8e97a2b579177065820753648fd7c66c9800bebd1d617f 687B / 687B 0.3s done\n",
      "#4 sha256:96c932f29ab238a89357a1ed3185a558d6195bed23a42e3f7c8eec419dfec130 11.43MB / 11.43MB 0.4s done\n",
      "#4 sha256:4f4fb700ef54461cfa02571ae0db9a0dc1e0cdb5577484a6d75e68dc38e8acc1 32B / 32B 0.4s done\n",
      "#4 sha256:fc343ee71338677d48439d05e9265f06bc4b409394a57c9ffd5933cf18255f8e 1.91kB / 1.91kB 0.6s done\n",
      "#4 sha256:64e5e0365c94a627970f434d61707b28f09883a6d96b20b11045327b198b058e 0B / 1.30kB 0.6s\n",
      "#4 sha256:a4e265e924b90950a9956a87468511dbda3b5b1d9ae0ff6370d836bc0eacc639 0B / 4.95kB 0.6s\n",
      "#4 sha256:e2c2fd07bff9b5e62262d6231b3abb856133a44f45c3806e9d9752134cf63703 0B / 150B 0.7s\n",
      "#4 sha256:ac0c285abb482df6684de5a61b4577fc5cc5fafe8cd1280ebf52d8909d121599 30.59MB / 30.59MB 0.8s\n",
      "#4 sha256:64e5e0365c94a627970f434d61707b28f09883a6d96b20b11045327b198b058e 1.30kB / 1.30kB 0.6s done\n",
      "#4 sha256:a4e265e924b90950a9956a87468511dbda3b5b1d9ae0ff6370d836bc0eacc639 4.95kB / 4.95kB 0.8s\n",
      "#4 sha256:ac0c285abb482df6684de5a61b4577fc5cc5fafe8cd1280ebf52d8909d121599 30.59MB / 30.59MB 0.9s done\n",
      "#4 sha256:a4e265e924b90950a9956a87468511dbda3b5b1d9ae0ff6370d836bc0eacc639 4.95kB / 4.95kB 0.9s done\n",
      "#4 sha256:e2c2fd07bff9b5e62262d6231b3abb856133a44f45c3806e9d9752134cf63703 150B / 150B 0.9s done\n",
      "#4 sha256:a63b9b1262fd109c8b07b98c065c461c4b49684d004f61fe9f5527b389641655 0B / 93.62MB 0.9s\n",
      "#4 sha256:48ce0bc44f140feaaaa1f12bec743b6b1c82db711bec4e87e8fdce827662ef08 0B / 4.69kB 0.9s\n",
      "#4 sha256:0c4f60182985297bf3f375af289387227dcd1129c7b869169c866061d1295331 0B / 276B 0.9s\n",
      "#4 extracting sha256:ac0c285abb482df6684de5a61b4577fc5cc5fafe8cd1280ebf52d8909d121599\n",
      "#4 sha256:48ce0bc44f140feaaaa1f12bec743b6b1c82db711bec4e87e8fdce827662ef08 4.69kB / 4.69kB 1.1s done\n",
      "#4 sha256:0c4f60182985297bf3f375af289387227dcd1129c7b869169c866061d1295331 276B / 276B 1.1s done\n",
      "#4 sha256:87e622d6d8d55a86300ced6f377975763570aef1ac0928c6524e219def035e5f 0B / 478B 1.1s\n",
      "#4 sha256:02f4d656889f2dbed3d743adfde6c76292d67044c2246c3cbfb2907057b19d20 0B / 182B 1.1s\n",
      "#4 sha256:a63b9b1262fd109c8b07b98c065c461c4b49684d004f61fe9f5527b389641655 6.29MB / 93.62MB 1.2s\n",
      "#4 sha256:a63b9b1262fd109c8b07b98c065c461c4b49684d004f61fe9f5527b389641655 23.48MB / 93.62MB 1.3s\n",
      "#4 sha256:02f4d656889f2dbed3d743adfde6c76292d67044c2246c3cbfb2907057b19d20 182B / 182B 1.3s done\n",
      "#4 sha256:b7900f8fafa1225b8fd8408b50edcf7757a7f07f76bd464225b6b6189ea848de 0B / 41.18MB 1.3s\n",
      "#4 sha256:a63b9b1262fd109c8b07b98c065c461c4b49684d004f61fe9f5527b389641655 36.70MB / 93.62MB 1.4s\n",
      "#4 sha256:87e622d6d8d55a86300ced6f377975763570aef1ac0928c6524e219def035e5f 478B / 478B 1.3s done\n",
      "#4 sha256:274f1c4884281f93b4442023e134b67fcf3bcea500a426d4b68c7f3b813c6e4b 0B / 97.52MB 1.4s\n",
      "#4 sha256:a63b9b1262fd109c8b07b98c065c461c4b49684d004f61fe9f5527b389641655 54.80MB / 93.62MB 1.5s\n",
      "#4 sha256:a63b9b1262fd109c8b07b98c065c461c4b49684d004f61fe9f5527b389641655 90.18MB / 93.62MB 1.7s\n",
      "#4 sha256:b7900f8fafa1225b8fd8408b50edcf7757a7f07f76bd464225b6b6189ea848de 24.12MB / 41.18MB 1.7s\n",
      "#4 sha256:274f1c4884281f93b4442023e134b67fcf3bcea500a426d4b68c7f3b813c6e4b 35.65MB / 97.52MB 1.7s\n",
      "#4 sha256:b7900f8fafa1225b8fd8408b50edcf7757a7f07f76bd464225b6b6189ea848de 39.85MB / 41.18MB 1.8s\n",
      "#4 sha256:274f1c4884281f93b4442023e134b67fcf3bcea500a426d4b68c7f3b813c6e4b 48.14MB / 97.52MB 1.8s\n",
      "#4 sha256:274f1c4884281f93b4442023e134b67fcf3bcea500a426d4b68c7f3b813c6e4b 66.06MB / 97.52MB 1.9s\n",
      "#4 sha256:274f1c4884281f93b4442023e134b67fcf3bcea500a426d4b68c7f3b813c6e4b 84.93MB / 97.52MB 2.0s\n",
      "#4 sha256:274f1c4884281f93b4442023e134b67fcf3bcea500a426d4b68c7f3b813c6e4b 97.52MB / 97.52MB 2.1s\n",
      "#4 sha256:b7900f8fafa1225b8fd8408b50edcf7757a7f07f76bd464225b6b6189ea848de 41.18MB / 41.18MB 2.4s done\n",
      "#4 sha256:274f1c4884281f93b4442023e134b67fcf3bcea500a426d4b68c7f3b813c6e4b 97.52MB / 97.52MB 2.8s done\n",
      "#4 sha256:cd0bdba38181c5c59ee6745978fec0ea7ae78ed70e89075bbc1c6fc25f4488ce 0B / 1.17kB 2.9s\n",
      "#4 sha256:a63b9b1262fd109c8b07b98c065c461c4b49684d004f61fe9f5527b389641655 93.62MB / 93.62MB 2.8s done\n",
      "#4 sha256:cd0bdba38181c5c59ee6745978fec0ea7ae78ed70e89075bbc1c6fc25f4488ce 1.17kB / 1.17kB 3.0s done\n",
      "#4 sha256:42d093ca080778bcd543d6c28c5d6ba84ab9828cc27c3afbbec36d606ce2be1d 0B / 1.69kB 3.0s\n",
      "#4 sha256:1389a59ee1103041d8ba9ef1eba0693f205803ef609b288407aa48d6ca0e1ba6 0B / 1.68kB 3.0s\n",
      "#4 sha256:96e0030bb2d295bb1b5cafd150606852d99f1ff92b307f0d46e9bd913a3d78e8 0B / 243.89MB 3.0s\n",
      "#4 sha256:42d093ca080778bcd543d6c28c5d6ba84ab9828cc27c3afbbec36d606ce2be1d 1.69kB / 1.69kB 3.1s done\n",
      "#4 sha256:1389a59ee1103041d8ba9ef1eba0693f205803ef609b288407aa48d6ca0e1ba6 1.68kB / 1.68kB 3.2s done\n",
      "#4 sha256:96e0030bb2d295bb1b5cafd150606852d99f1ff92b307f0d46e9bd913a3d78e8 23.07MB / 243.89MB 3.3s\n",
      "#4 sha256:fcc5e6a41fda939c85db54112a0dd554c1d4ad04ee5ddd35c01b0ba229cecce9 1.38kB / 1.38kB 3.2s done\n",
      "#4 sha256:ed621a90b0fc0b0de0fb6da8a971e9a75b42f200fa6bac6246c1b21d2eafbac3 0B / 433B 3.2s\n",
      "#4 sha256:96e0030bb2d295bb1b5cafd150606852d99f1ff92b307f0d46e9bd913a3d78e8 35.65MB / 243.89MB 3.4s\n",
      "#4 sha256:ed621a90b0fc0b0de0fb6da8a971e9a75b42f200fa6bac6246c1b21d2eafbac3 433B / 433B 3.4s done\n",
      "#4 sha256:56b77bbcf0531e8cd9e5a631dc47cc74f0809b4d583d36c3bccb8e2f1ed761f5 2.81kB / 2.81kB 3.4s\n",
      "#4 sha256:a3c27f64127b606ad37cac8467a931cabe3ae3aec42bcab37bfdb099030fdf7f 0B / 313.77MB 3.4s\n",
      "#4 sha256:56b77bbcf0531e8cd9e5a631dc47cc74f0809b4d583d36c3bccb8e2f1ed761f5 2.81kB / 2.81kB 3.4s done\n",
      "#4 sha256:dbe0a72ef98aac36a26f9ac382a8738611e684604bf4a440a03e23994ee359ec 0B / 397.15MB 3.5s\n",
      "#4 sha256:96e0030bb2d295bb1b5cafd150606852d99f1ff92b307f0d46e9bd913a3d78e8 61.87MB / 243.89MB 3.6s\n",
      "#4 sha256:96e0030bb2d295bb1b5cafd150606852d99f1ff92b307f0d46e9bd913a3d78e8 103.81MB / 243.89MB 3.9s\n",
      "#4 sha256:a3c27f64127b606ad37cac8467a931cabe3ae3aec42bcab37bfdb099030fdf7f 36.70MB / 313.77MB 3.9s\n",
      "#4 sha256:dbe0a72ef98aac36a26f9ac382a8738611e684604bf4a440a03e23994ee359ec 52.43MB / 397.15MB 3.9s\n",
      "#4 sha256:96e0030bb2d295bb1b5cafd150606852d99f1ff92b307f0d46e9bd913a3d78e8 120.46MB / 243.89MB 4.0s\n",
      "#4 sha256:a3c27f64127b606ad37cac8467a931cabe3ae3aec42bcab37bfdb099030fdf7f 52.43MB / 313.77MB 4.0s\n",
      "#4 sha256:96e0030bb2d295bb1b5cafd150606852d99f1ff92b307f0d46e9bd913a3d78e8 137.36MB / 243.89MB 4.1s\n",
      "#4 sha256:dbe0a72ef98aac36a26f9ac382a8738611e684604bf4a440a03e23994ee359ec 85.98MB / 397.15MB 4.1s\n",
      "#4 extracting sha256:ac0c285abb482df6684de5a61b4577fc5cc5fafe8cd1280ebf52d8909d121599 3.3s done\n",
      "#4 sha256:96e0030bb2d295bb1b5cafd150606852d99f1ff92b307f0d46e9bd913a3d78e8 163.58MB / 243.89MB 4.3s\n",
      "#4 sha256:a3c27f64127b606ad37cac8467a931cabe3ae3aec42bcab37bfdb099030fdf7f 89.13MB / 313.77MB 4.3s\n",
      "#4 sha256:dbe0a72ef98aac36a26f9ac382a8738611e684604bf4a440a03e23994ee359ec 117.44MB / 397.15MB 4.3s\n",
      "#4 sha256:96e0030bb2d295bb1b5cafd150606852d99f1ff92b307f0d46e9bd913a3d78e8 179.31MB / 243.89MB 4.4s\n",
      "#4 extracting sha256:96c932f29ab238a89357a1ed3185a558d6195bed23a42e3f7c8eec419dfec130 0.1s\n",
      "#4 sha256:96e0030bb2d295bb1b5cafd150606852d99f1ff92b307f0d46e9bd913a3d78e8 198.18MB / 243.89MB 4.5s\n",
      "#4 sha256:a3c27f64127b606ad37cac8467a931cabe3ae3aec42bcab37bfdb099030fdf7f 121.63MB / 313.77MB 4.5s\n",
      "#4 sha256:dbe0a72ef98aac36a26f9ac382a8738611e684604bf4a440a03e23994ee359ec 148.90MB / 397.15MB 4.5s\n",
      "#4 sha256:96e0030bb2d295bb1b5cafd150606852d99f1ff92b307f0d46e9bd913a3d78e8 216.74MB / 243.89MB 4.6s\n",
      "#4 sha256:a3c27f64127b606ad37cac8467a931cabe3ae3aec42bcab37bfdb099030fdf7f 140.51MB / 313.77MB 4.6s\n",
      "#4 sha256:96e0030bb2d295bb1b5cafd150606852d99f1ff92b307f0d46e9bd913a3d78e8 243.89MB / 243.89MB 4.8s\n",
      "#4 sha256:a3c27f64127b606ad37cac8467a931cabe3ae3aec42bcab37bfdb099030fdf7f 176.16MB / 313.77MB 4.8s\n",
      "#4 sha256:dbe0a72ef98aac36a26f9ac382a8738611e684604bf4a440a03e23994ee359ec 192.94MB / 397.15MB 4.8s\n",
      "#4 sha256:a3c27f64127b606ad37cac8467a931cabe3ae3aec42bcab37bfdb099030fdf7f 203.42MB / 313.77MB 5.0s\n",
      "#4 sha256:dbe0a72ef98aac36a26f9ac382a8738611e684604bf4a440a03e23994ee359ec 218.10MB / 397.15MB 5.0s\n",
      "#4 sha256:a3c27f64127b606ad37cac8467a931cabe3ae3aec42bcab37bfdb099030fdf7f 233.83MB / 313.77MB 5.2s\n",
      "#4 sha256:dbe0a72ef98aac36a26f9ac382a8738611e684604bf4a440a03e23994ee359ec 249.82MB / 397.15MB 5.2s\n",
      "#4 sha256:a3c27f64127b606ad37cac8467a931cabe3ae3aec42bcab37bfdb099030fdf7f 252.71MB / 313.77MB 5.3s\n",
      "#4 sha256:a3c27f64127b606ad37cac8467a931cabe3ae3aec42bcab37bfdb099030fdf7f 271.39MB / 313.77MB 5.4s\n",
      "#4 sha256:dbe0a72ef98aac36a26f9ac382a8738611e684604bf4a440a03e23994ee359ec 285.28MB / 397.15MB 5.4s\n",
      "#4 sha256:a3c27f64127b606ad37cac8467a931cabe3ae3aec42bcab37bfdb099030fdf7f 287.31MB / 313.77MB 5.5s\n",
      "#4 sha256:dbe0a72ef98aac36a26f9ac382a8738611e684604bf4a440a03e23994ee359ec 314.57MB / 397.15MB 5.6s\n",
      "#4 sha256:a3c27f64127b606ad37cac8467a931cabe3ae3aec42bcab37bfdb099030fdf7f 313.77MB / 313.77MB 5.7s\n",
      "#4 sha256:dbe0a72ef98aac36a26f9ac382a8738611e684604bf4a440a03e23994ee359ec 357.56MB / 397.15MB 5.9s\n",
      "#4 extracting sha256:96c932f29ab238a89357a1ed3185a558d6195bed23a42e3f7c8eec419dfec130 1.4s done\n",
      "#4 sha256:dbe0a72ef98aac36a26f9ac382a8738611e684604bf4a440a03e23994ee359ec 384.83MB / 397.15MB 6.1s\n",
      "#4 sha256:96e0030bb2d295bb1b5cafd150606852d99f1ff92b307f0d46e9bd913a3d78e8 243.89MB / 243.89MB 6.4s done\n",
      "#4 sha256:1263bd08ce5ae3aff6732538d318f1b51bd65e6176a39b98300ddef63aa38048 0B / 597.21kB 7.1s\n",
      "#4 extracting sha256:495e9b1f57cf2c6d6d8e97a2b579177065820753648fd7c66c9800bebd1d617f\n",
      "#4 sha256:1263bd08ce5ae3aff6732538d318f1b51bd65e6176a39b98300ddef63aa38048 597.21kB / 597.21kB 7.6s\n",
      "#4 extracting sha256:495e9b1f57cf2c6d6d8e97a2b579177065820753648fd7c66c9800bebd1d617f 0.6s done\n",
      "#4 sha256:1263bd08ce5ae3aff6732538d318f1b51bd65e6176a39b98300ddef63aa38048 597.21kB / 597.21kB 8.0s done\n",
      "#4 sha256:4d76720bbbdf6da83f5a4462f53a02c385fa5bd57ae022ff0c3c43768aea3edc 0B / 11.00kB 8.6s\n",
      "#4 sha256:a3c27f64127b606ad37cac8467a931cabe3ae3aec42bcab37bfdb099030fdf7f 313.77MB / 313.77MB 8.6s done\n",
      "#4 sha256:4d76720bbbdf6da83f5a4462f53a02c385fa5bd57ae022ff0c3c43768aea3edc 11.00kB / 11.00kB 8.8s\n",
      "#4 sha256:4d76720bbbdf6da83f5a4462f53a02c385fa5bd57ae022ff0c3c43768aea3edc 11.00kB / 11.00kB 9.0s done\n",
      "#4 sha256:fd9af73569c6d3b3b7dbcb50aa15e9405b87adf1b550509fc4c4e99123a10074 0B / 3.95GB 9.0s\n",
      "#4 extracting sha256:4f4fb700ef54461cfa02571ae0db9a0dc1e0cdb5577484a6d75e68dc38e8acc1 0.1s done\n",
      "#4 sha256:dbe0a72ef98aac36a26f9ac382a8738611e684604bf4a440a03e23994ee359ec 397.15MB / 397.15MB 9.6s done\n",
      "#4 extracting sha256:fc343ee71338677d48439d05e9265f06bc4b409394a57c9ffd5933cf18255f8e done\n",
      "#4 extracting sha256:64e5e0365c94a627970f434d61707b28f09883a6d96b20b11045327b198b058e done\n",
      "#4 extracting sha256:a4e265e924b90950a9956a87468511dbda3b5b1d9ae0ff6370d836bc0eacc639 done\n",
      "#4 extracting sha256:e2c2fd07bff9b5e62262d6231b3abb856133a44f45c3806e9d9752134cf63703 done\n",
      "#4 extracting sha256:0c4f60182985297bf3f375af289387227dcd1129c7b869169c866061d1295331 done\n",
      "#4 extracting sha256:a63b9b1262fd109c8b07b98c065c461c4b49684d004f61fe9f5527b389641655\n",
      "#4 sha256:fd9af73569c6d3b3b7dbcb50aa15e9405b87adf1b550509fc4c4e99123a10074 200.28MB / 3.95GB 10.4s\n",
      "#4 sha256:fd9af73569c6d3b3b7dbcb50aa15e9405b87adf1b550509fc4c4e99123a10074 429.92MB / 3.95GB 11.8s\n",
      "#4 sha256:fd9af73569c6d3b3b7dbcb50aa15e9405b87adf1b550509fc4c4e99123a10074 642.78MB / 3.95GB 13.0s\n",
      "#4 sha256:fd9af73569c6d3b3b7dbcb50aa15e9405b87adf1b550509fc4c4e99123a10074 852.45MB / 3.95GB 14.2s\n",
      "#4 extracting sha256:a63b9b1262fd109c8b07b98c065c461c4b49684d004f61fe9f5527b389641655 5.1s\n",
      "#4 sha256:fd9af73569c6d3b3b7dbcb50aa15e9405b87adf1b550509fc4c4e99123a10074 1.09GB / 3.95GB 15.5s\n",
      "#4 sha256:fd9af73569c6d3b3b7dbcb50aa15e9405b87adf1b550509fc4c4e99123a10074 1.29GB / 3.95GB 16.7s\n",
      "#4 sha256:fd9af73569c6d3b3b7dbcb50aa15e9405b87adf1b550509fc4c4e99123a10074 1.50GB / 3.95GB 18.1s\n",
      "#4 sha256:fd9af73569c6d3b3b7dbcb50aa15e9405b87adf1b550509fc4c4e99123a10074 1.71GB / 3.95GB 19.4s\n",
      "#4 extracting sha256:a63b9b1262fd109c8b07b98c065c461c4b49684d004f61fe9f5527b389641655 10.7s done\n",
      "#4 extracting sha256:48ce0bc44f140feaaaa1f12bec743b6b1c82db711bec4e87e8fdce827662ef08 done\n",
      "#4 extracting sha256:02f4d656889f2dbed3d743adfde6c76292d67044c2246c3cbfb2907057b19d20 done\n",
      "#4 extracting sha256:87e622d6d8d55a86300ced6f377975763570aef1ac0928c6524e219def035e5f done\n",
      "#4 extracting sha256:b7900f8fafa1225b8fd8408b50edcf7757a7f07f76bd464225b6b6189ea848de 0.1s\n",
      "#4 sha256:fd9af73569c6d3b3b7dbcb50aa15e9405b87adf1b550509fc4c4e99123a10074 1.91GB / 3.95GB 20.8s\n",
      "#4 sha256:fd9af73569c6d3b3b7dbcb50aa15e9405b87adf1b550509fc4c4e99123a10074 2.15GB / 3.95GB 22.1s\n",
      "#4 sha256:fd9af73569c6d3b3b7dbcb50aa15e9405b87adf1b550509fc4c4e99123a10074 2.35GB / 3.95GB 23.2s\n",
      "#4 sha256:fd9af73569c6d3b3b7dbcb50aa15e9405b87adf1b550509fc4c4e99123a10074 2.57GB / 3.95GB 24.4s\n",
      "#4 extracting sha256:b7900f8fafa1225b8fd8408b50edcf7757a7f07f76bd464225b6b6189ea848de 4.5s done\n",
      "#4 extracting sha256:274f1c4884281f93b4442023e134b67fcf3bcea500a426d4b68c7f3b813c6e4b\n",
      "#4 sha256:fd9af73569c6d3b3b7dbcb50aa15e9405b87adf1b550509fc4c4e99123a10074 2.77GB / 3.95GB 25.6s\n",
      "#4 sha256:fd9af73569c6d3b3b7dbcb50aa15e9405b87adf1b550509fc4c4e99123a10074 2.98GB / 3.95GB 27.0s\n",
      "#4 sha256:fd9af73569c6d3b3b7dbcb50aa15e9405b87adf1b550509fc4c4e99123a10074 3.18GB / 3.95GB 28.3s\n",
      "#4 sha256:fd9af73569c6d3b3b7dbcb50aa15e9405b87adf1b550509fc4c4e99123a10074 3.40GB / 3.95GB 29.8s\n",
      "#4 extracting sha256:274f1c4884281f93b4442023e134b67fcf3bcea500a426d4b68c7f3b813c6e4b 5.1s\n",
      "#4 sha256:fd9af73569c6d3b3b7dbcb50aa15e9405b87adf1b550509fc4c4e99123a10074 3.61GB / 3.95GB 31.1s\n",
      "#4 sha256:fd9af73569c6d3b3b7dbcb50aa15e9405b87adf1b550509fc4c4e99123a10074 3.81GB / 3.95GB 32.5s\n",
      "#4 extracting sha256:274f1c4884281f93b4442023e134b67fcf3bcea500a426d4b68c7f3b813c6e4b 10.2s\n",
      "#4 sha256:fd9af73569c6d3b3b7dbcb50aa15e9405b87adf1b550509fc4c4e99123a10074 3.95GB / 3.95GB 37.6s\n",
      "#4 extracting sha256:274f1c4884281f93b4442023e134b67fcf3bcea500a426d4b68c7f3b813c6e4b 15.5s\n",
      "#4 sha256:fd9af73569c6d3b3b7dbcb50aa15e9405b87adf1b550509fc4c4e99123a10074 3.95GB / 3.95GB 42.7s\n",
      "#4 extracting sha256:274f1c4884281f93b4442023e134b67fcf3bcea500a426d4b68c7f3b813c6e4b 20.5s\n",
      "#4 sha256:fd9af73569c6d3b3b7dbcb50aa15e9405b87adf1b550509fc4c4e99123a10074 3.95GB / 3.95GB 47.8s\n",
      "#4 extracting sha256:274f1c4884281f93b4442023e134b67fcf3bcea500a426d4b68c7f3b813c6e4b 23.7s done\n",
      "#4 extracting sha256:cd0bdba38181c5c59ee6745978fec0ea7ae78ed70e89075bbc1c6fc25f4488ce\n",
      "#4 extracting sha256:cd0bdba38181c5c59ee6745978fec0ea7ae78ed70e89075bbc1c6fc25f4488ce 0.3s done\n",
      "#4 extracting sha256:1389a59ee1103041d8ba9ef1eba0693f205803ef609b288407aa48d6ca0e1ba6\n",
      "#4 extracting sha256:1389a59ee1103041d8ba9ef1eba0693f205803ef609b288407aa48d6ca0e1ba6 0.3s done\n",
      "#4 extracting sha256:42d093ca080778bcd543d6c28c5d6ba84ab9828cc27c3afbbec36d606ce2be1d\n",
      "#4 sha256:fd9af73569c6d3b3b7dbcb50aa15e9405b87adf1b550509fc4c4e99123a10074 3.95GB / 3.95GB 52.9s\n",
      "#4 extracting sha256:42d093ca080778bcd543d6c28c5d6ba84ab9828cc27c3afbbec36d606ce2be1d 0.3s done\n",
      "#4 sha256:fd9af73569c6d3b3b7dbcb50aa15e9405b87adf1b550509fc4c4e99123a10074 3.95GB / 3.95GB 54.3s done\n",
      "#4 extracting sha256:96e0030bb2d295bb1b5cafd150606852d99f1ff92b307f0d46e9bd913a3d78e8 0.1s\n",
      "#4 extracting sha256:96e0030bb2d295bb1b5cafd150606852d99f1ff92b307f0d46e9bd913a3d78e8 5.3s\n",
      "#4 extracting sha256:96e0030bb2d295bb1b5cafd150606852d99f1ff92b307f0d46e9bd913a3d78e8 10.6s\n",
      "#4 extracting sha256:96e0030bb2d295bb1b5cafd150606852d99f1ff92b307f0d46e9bd913a3d78e8 15.7s\n",
      "#4 extracting sha256:96e0030bb2d295bb1b5cafd150606852d99f1ff92b307f0d46e9bd913a3d78e8 21.4s\n",
      "#4 extracting sha256:96e0030bb2d295bb1b5cafd150606852d99f1ff92b307f0d46e9bd913a3d78e8 26.5s\n",
      "#4 extracting sha256:96e0030bb2d295bb1b5cafd150606852d99f1ff92b307f0d46e9bd913a3d78e8 27.3s done\n",
      "#4 extracting sha256:fcc5e6a41fda939c85db54112a0dd554c1d4ad04ee5ddd35c01b0ba229cecce9\n",
      "#4 extracting sha256:fcc5e6a41fda939c85db54112a0dd554c1d4ad04ee5ddd35c01b0ba229cecce9 done\n",
      "#4 extracting sha256:ed621a90b0fc0b0de0fb6da8a971e9a75b42f200fa6bac6246c1b21d2eafbac3 done\n",
      "#4 extracting sha256:56b77bbcf0531e8cd9e5a631dc47cc74f0809b4d583d36c3bccb8e2f1ed761f5 done\n",
      "#4 extracting sha256:a3c27f64127b606ad37cac8467a931cabe3ae3aec42bcab37bfdb099030fdf7f\n",
      "#4 extracting sha256:a3c27f64127b606ad37cac8467a931cabe3ae3aec42bcab37bfdb099030fdf7f 5.1s\n",
      "#4 extracting sha256:a3c27f64127b606ad37cac8467a931cabe3ae3aec42bcab37bfdb099030fdf7f 10.2s\n",
      "#4 extracting sha256:a3c27f64127b606ad37cac8467a931cabe3ae3aec42bcab37bfdb099030fdf7f 15.3s\n",
      "#4 extracting sha256:a3c27f64127b606ad37cac8467a931cabe3ae3aec42bcab37bfdb099030fdf7f 20.5s\n",
      "#4 extracting sha256:a3c27f64127b606ad37cac8467a931cabe3ae3aec42bcab37bfdb099030fdf7f 22.7s done\n",
      "#4 extracting sha256:dbe0a72ef98aac36a26f9ac382a8738611e684604bf4a440a03e23994ee359ec\n",
      "#4 extracting sha256:dbe0a72ef98aac36a26f9ac382a8738611e684604bf4a440a03e23994ee359ec 5.1s\n",
      "#4 extracting sha256:dbe0a72ef98aac36a26f9ac382a8738611e684604bf4a440a03e23994ee359ec 10.1s\n",
      "#4 extracting sha256:dbe0a72ef98aac36a26f9ac382a8738611e684604bf4a440a03e23994ee359ec 15.2s\n",
      "#4 extracting sha256:dbe0a72ef98aac36a26f9ac382a8738611e684604bf4a440a03e23994ee359ec 20.3s\n",
      "#4 extracting sha256:dbe0a72ef98aac36a26f9ac382a8738611e684604bf4a440a03e23994ee359ec 25.5s\n",
      "#4 extracting sha256:dbe0a72ef98aac36a26f9ac382a8738611e684604bf4a440a03e23994ee359ec 30.5s\n",
      "#4 extracting sha256:dbe0a72ef98aac36a26f9ac382a8738611e684604bf4a440a03e23994ee359ec 35.6s\n",
      "#4 extracting sha256:dbe0a72ef98aac36a26f9ac382a8738611e684604bf4a440a03e23994ee359ec 40.7s\n",
      "#4 extracting sha256:dbe0a72ef98aac36a26f9ac382a8738611e684604bf4a440a03e23994ee359ec 45.6s done\n",
      "#4 extracting sha256:1263bd08ce5ae3aff6732538d318f1b51bd65e6176a39b98300ddef63aa38048\n",
      "#4 extracting sha256:1263bd08ce5ae3aff6732538d318f1b51bd65e6176a39b98300ddef63aa38048 0.1s done\n",
      "#4 extracting sha256:4d76720bbbdf6da83f5a4462f53a02c385fa5bd57ae022ff0c3c43768aea3edc done\n",
      "#4 extracting sha256:fd9af73569c6d3b3b7dbcb50aa15e9405b87adf1b550509fc4c4e99123a10074\n",
      "#4 extracting sha256:fd9af73569c6d3b3b7dbcb50aa15e9405b87adf1b550509fc4c4e99123a10074 5.1s\n",
      "#4 extracting sha256:fd9af73569c6d3b3b7dbcb50aa15e9405b87adf1b550509fc4c4e99123a10074 10.2s\n",
      "#4 extracting sha256:fd9af73569c6d3b3b7dbcb50aa15e9405b87adf1b550509fc4c4e99123a10074 15.2s\n",
      "#4 extracting sha256:fd9af73569c6d3b3b7dbcb50aa15e9405b87adf1b550509fc4c4e99123a10074 20.3s\n",
      "#4 extracting sha256:fd9af73569c6d3b3b7dbcb50aa15e9405b87adf1b550509fc4c4e99123a10074 25.4s\n",
      "#4 extracting sha256:fd9af73569c6d3b3b7dbcb50aa15e9405b87adf1b550509fc4c4e99123a10074 30.4s\n",
      "#4 extracting sha256:fd9af73569c6d3b3b7dbcb50aa15e9405b87adf1b550509fc4c4e99123a10074 35.5s\n",
      "#4 extracting sha256:fd9af73569c6d3b3b7dbcb50aa15e9405b87adf1b550509fc4c4e99123a10074 40.6s\n",
      "#4 extracting sha256:fd9af73569c6d3b3b7dbcb50aa15e9405b87adf1b550509fc4c4e99123a10074 45.6s\n",
      "#4 extracting sha256:fd9af73569c6d3b3b7dbcb50aa15e9405b87adf1b550509fc4c4e99123a10074 50.7s\n",
      "#4 extracting sha256:fd9af73569c6d3b3b7dbcb50aa15e9405b87adf1b550509fc4c4e99123a10074 55.8s\n",
      "#4 extracting sha256:fd9af73569c6d3b3b7dbcb50aa15e9405b87adf1b550509fc4c4e99123a10074 60.9s\n",
      "#4 extracting sha256:fd9af73569c6d3b3b7dbcb50aa15e9405b87adf1b550509fc4c4e99123a10074 66.0s\n",
      "#4 extracting sha256:fd9af73569c6d3b3b7dbcb50aa15e9405b87adf1b550509fc4c4e99123a10074 71.0s\n",
      "#4 extracting sha256:fd9af73569c6d3b3b7dbcb50aa15e9405b87adf1b550509fc4c4e99123a10074 76.0s\n",
      "#4 extracting sha256:fd9af73569c6d3b3b7dbcb50aa15e9405b87adf1b550509fc4c4e99123a10074 81.0s\n",
      "#4 extracting sha256:fd9af73569c6d3b3b7dbcb50aa15e9405b87adf1b550509fc4c4e99123a10074 86.1s\n",
      "#4 extracting sha256:fd9af73569c6d3b3b7dbcb50aa15e9405b87adf1b550509fc4c4e99123a10074 91.2s\n",
      "#4 extracting sha256:fd9af73569c6d3b3b7dbcb50aa15e9405b87adf1b550509fc4c4e99123a10074 96.2s\n",
      "#4 extracting sha256:fd9af73569c6d3b3b7dbcb50aa15e9405b87adf1b550509fc4c4e99123a10074 101.2s\n",
      "#4 extracting sha256:fd9af73569c6d3b3b7dbcb50aa15e9405b87adf1b550509fc4c4e99123a10074 106.3s\n",
      "#4 extracting sha256:fd9af73569c6d3b3b7dbcb50aa15e9405b87adf1b550509fc4c4e99123a10074 111.4s\n",
      "#4 extracting sha256:fd9af73569c6d3b3b7dbcb50aa15e9405b87adf1b550509fc4c4e99123a10074 116.4s\n",
      "#4 extracting sha256:fd9af73569c6d3b3b7dbcb50aa15e9405b87adf1b550509fc4c4e99123a10074 121.4s\n",
      "#4 extracting sha256:fd9af73569c6d3b3b7dbcb50aa15e9405b87adf1b550509fc4c4e99123a10074 126.5s\n",
      "#4 extracting sha256:fd9af73569c6d3b3b7dbcb50aa15e9405b87adf1b550509fc4c4e99123a10074 131.5s\n",
      "#4 extracting sha256:fd9af73569c6d3b3b7dbcb50aa15e9405b87adf1b550509fc4c4e99123a10074 136.6s\n",
      "#4 extracting sha256:fd9af73569c6d3b3b7dbcb50aa15e9405b87adf1b550509fc4c4e99123a10074 141.7s\n",
      "#4 extracting sha256:fd9af73569c6d3b3b7dbcb50aa15e9405b87adf1b550509fc4c4e99123a10074 146.8s\n",
      "#4 extracting sha256:fd9af73569c6d3b3b7dbcb50aa15e9405b87adf1b550509fc4c4e99123a10074 151.8s\n",
      "#4 extracting sha256:fd9af73569c6d3b3b7dbcb50aa15e9405b87adf1b550509fc4c4e99123a10074 158.1s\n",
      "#4 extracting sha256:fd9af73569c6d3b3b7dbcb50aa15e9405b87adf1b550509fc4c4e99123a10074 163.1s\n",
      "#4 extracting sha256:fd9af73569c6d3b3b7dbcb50aa15e9405b87adf1b550509fc4c4e99123a10074 168.2s\n",
      "#4 extracting sha256:fd9af73569c6d3b3b7dbcb50aa15e9405b87adf1b550509fc4c4e99123a10074 173.3s\n",
      "#4 extracting sha256:fd9af73569c6d3b3b7dbcb50aa15e9405b87adf1b550509fc4c4e99123a10074 178.3s\n",
      "#4 extracting sha256:fd9af73569c6d3b3b7dbcb50aa15e9405b87adf1b550509fc4c4e99123a10074 183.4s\n",
      "#4 extracting sha256:fd9af73569c6d3b3b7dbcb50aa15e9405b87adf1b550509fc4c4e99123a10074 188.4s\n",
      "#4 extracting sha256:fd9af73569c6d3b3b7dbcb50aa15e9405b87adf1b550509fc4c4e99123a10074 193.4s\n",
      "#4 extracting sha256:fd9af73569c6d3b3b7dbcb50aa15e9405b87adf1b550509fc4c4e99123a10074 198.5s\n",
      "#4 extracting sha256:fd9af73569c6d3b3b7dbcb50aa15e9405b87adf1b550509fc4c4e99123a10074 203.6s\n",
      "#4 extracting sha256:fd9af73569c6d3b3b7dbcb50aa15e9405b87adf1b550509fc4c4e99123a10074 208.7s\n",
      "#4 extracting sha256:fd9af73569c6d3b3b7dbcb50aa15e9405b87adf1b550509fc4c4e99123a10074 213.7s\n",
      "#4 extracting sha256:fd9af73569c6d3b3b7dbcb50aa15e9405b87adf1b550509fc4c4e99123a10074 218.8s\n",
      "#4 extracting sha256:fd9af73569c6d3b3b7dbcb50aa15e9405b87adf1b550509fc4c4e99123a10074 223.8s\n",
      "#4 extracting sha256:fd9af73569c6d3b3b7dbcb50aa15e9405b87adf1b550509fc4c4e99123a10074 228.9s\n",
      "#4 extracting sha256:fd9af73569c6d3b3b7dbcb50aa15e9405b87adf1b550509fc4c4e99123a10074 234.0s\n",
      "#4 extracting sha256:fd9af73569c6d3b3b7dbcb50aa15e9405b87adf1b550509fc4c4e99123a10074 239.1s\n",
      "#4 extracting sha256:fd9af73569c6d3b3b7dbcb50aa15e9405b87adf1b550509fc4c4e99123a10074 244.2s\n",
      "#4 extracting sha256:fd9af73569c6d3b3b7dbcb50aa15e9405b87adf1b550509fc4c4e99123a10074 249.1s done\n",
      "#4 DONE 400.9s\n",
      "\n",
      "#5 [2/3] RUN pip install --pre --no-cache-dir lightning &&     fix-permissions \"/opt/conda\" &&     fix-permissions \"/home/jovyan\"\n",
      "#5 0.714 Collecting lightning\n",
      "#5 0.751   Downloading lightning-2.5.1.post0-py3-none-any.whl.metadata (39 kB)\n",
      "#5 0.823 Requirement already satisfied: PyYAML<8.0,>=5.4 in /opt/conda/lib/python3.12/site-packages (from lightning) (6.0.2)\n",
      "#5 0.824 Requirement already satisfied: fsspec<2026.0,>=2022.5.0 in /opt/conda/lib/python3.12/site-packages (from fsspec[http]<2026.0,>=2022.5.0->lightning) (2025.3.2)\n",
      "#5 0.873 Collecting lightning-utilities<2.0,>=0.10.0 (from lightning)\n",
      "#5 0.881   Downloading lightning_utilities-0.14.3-py3-none-any.whl.metadata (5.6 kB)\n",
      "#5 0.908 Collecting packaging<25.0,>=20.0 (from lightning)\n",
      "#5 0.917   Downloading packaging-24.2-py3-none-any.whl.metadata (3.2 kB)\n",
      "#5 0.919 Requirement already satisfied: torch<4.0,>=2.1.0 in /opt/conda/lib/python3.12/site-packages (from lightning) (2.7.0+cu128)\n",
      "#5 0.949 Collecting torchmetrics<3.0,>=0.7.0 (from lightning)\n",
      "#5 0.957   Downloading torchmetrics-1.7.1-py3-none-any.whl.metadata (21 kB)\n",
      "#5 1.009 Requirement already satisfied: tqdm<6.0,>=4.57.0 in /opt/conda/lib/python3.12/site-packages (from lightning) (4.67.1)\n",
      "#5 1.010 Requirement already satisfied: typing-extensions<6.0,>=4.4.0 in /opt/conda/lib/python3.12/site-packages (from lightning) (4.13.2)\n",
      "#5 1.093 Collecting pytorch-lightning (from lightning)\n",
      "#5 1.102   Downloading pytorch_lightning-2.5.1.post0-py3-none-any.whl.metadata (20 kB)\n",
      "#5 1.701 Collecting aiohttp!=4.0.0a0,!=4.0.0a1 (from fsspec[http]<2026.0,>=2022.5.0->lightning)\n",
      "#5 1.711   Downloading aiohttp-3.11.18-cp312-cp312-manylinux_2_17_x86_64.manylinux2014_x86_64.whl.metadata (7.7 kB)\n",
      "#5 1.726 Requirement already satisfied: setuptools in /opt/conda/lib/python3.12/site-packages (from lightning-utilities<2.0,>=0.10.0->lightning) (80.1.0)\n",
      "#5 1.729 Requirement already satisfied: filelock in /opt/conda/lib/python3.12/site-packages (from torch<4.0,>=2.1.0->lightning) (3.13.1)\n",
      "#5 1.731 Requirement already satisfied: sympy>=1.13.3 in /opt/conda/lib/python3.12/site-packages (from torch<4.0,>=2.1.0->lightning) (1.14.0)\n",
      "#5 1.732 Requirement already satisfied: networkx in /opt/conda/lib/python3.12/site-packages (from torch<4.0,>=2.1.0->lightning) (3.4.2)\n",
      "#5 1.732 Requirement already satisfied: jinja2 in /opt/conda/lib/python3.12/site-packages (from torch<4.0,>=2.1.0->lightning) (3.1.6)\n",
      "#5 1.733 Requirement already satisfied: nvidia-cuda-nvrtc-cu12==12.8.61 in /opt/conda/lib/python3.12/site-packages (from torch<4.0,>=2.1.0->lightning) (12.8.61)\n",
      "#5 1.735 Requirement already satisfied: nvidia-cuda-runtime-cu12==12.8.57 in /opt/conda/lib/python3.12/site-packages (from torch<4.0,>=2.1.0->lightning) (12.8.57)\n",
      "#5 1.736 Requirement already satisfied: nvidia-cuda-cupti-cu12==12.8.57 in /opt/conda/lib/python3.12/site-packages (from torch<4.0,>=2.1.0->lightning) (12.8.57)\n",
      "#5 1.737 Requirement already satisfied: nvidia-cudnn-cu12==9.7.1.26 in /opt/conda/lib/python3.12/site-packages (from torch<4.0,>=2.1.0->lightning) (9.7.1.26)\n",
      "#5 1.738 Requirement already satisfied: nvidia-cublas-cu12==12.8.3.14 in /opt/conda/lib/python3.12/site-packages (from torch<4.0,>=2.1.0->lightning) (12.8.3.14)\n",
      "#5 1.739 Requirement already satisfied: nvidia-cufft-cu12==11.3.3.41 in /opt/conda/lib/python3.12/site-packages (from torch<4.0,>=2.1.0->lightning) (11.3.3.41)\n",
      "#5 1.741 Requirement already satisfied: nvidia-curand-cu12==10.3.9.55 in /opt/conda/lib/python3.12/site-packages (from torch<4.0,>=2.1.0->lightning) (10.3.9.55)\n",
      "#5 1.742 Requirement already satisfied: nvidia-cusolver-cu12==11.7.2.55 in /opt/conda/lib/python3.12/site-packages (from torch<4.0,>=2.1.0->lightning) (11.7.2.55)\n",
      "#5 1.743 Requirement already satisfied: nvidia-cusparse-cu12==12.5.7.53 in /opt/conda/lib/python3.12/site-packages (from torch<4.0,>=2.1.0->lightning) (12.5.7.53)\n",
      "#5 1.744 Requirement already satisfied: nvidia-cusparselt-cu12==0.6.3 in /opt/conda/lib/python3.12/site-packages (from torch<4.0,>=2.1.0->lightning) (0.6.3)\n",
      "#5 1.745 Requirement already satisfied: nvidia-nccl-cu12==2.26.2 in /opt/conda/lib/python3.12/site-packages (from torch<4.0,>=2.1.0->lightning) (2.26.2)\n",
      "#5 1.746 Requirement already satisfied: nvidia-nvtx-cu12==12.8.55 in /opt/conda/lib/python3.12/site-packages (from torch<4.0,>=2.1.0->lightning) (12.8.55)\n",
      "#5 1.747 Requirement already satisfied: nvidia-nvjitlink-cu12==12.8.61 in /opt/conda/lib/python3.12/site-packages (from torch<4.0,>=2.1.0->lightning) (12.8.61)\n",
      "#5 1.748 Requirement already satisfied: nvidia-cufile-cu12==1.13.0.11 in /opt/conda/lib/python3.12/site-packages (from torch<4.0,>=2.1.0->lightning) (1.13.0.11)\n",
      "#5 1.749 Requirement already satisfied: triton==3.3.0 in /opt/conda/lib/python3.12/site-packages (from torch<4.0,>=2.1.0->lightning) (3.3.0)\n",
      "#5 1.770 Requirement already satisfied: numpy>1.20.0 in /opt/conda/lib/python3.12/site-packages (from torchmetrics<3.0,>=0.7.0->lightning) (2.2.5)\n",
      "#5 1.812 Collecting aiohappyeyeballs>=2.3.0 (from aiohttp!=4.0.0a0,!=4.0.0a1->fsspec[http]<2026.0,>=2022.5.0->lightning)\n",
      "#5 1.820   Downloading aiohappyeyeballs-2.6.1-py3-none-any.whl.metadata (5.9 kB)\n",
      "#5 1.834 Collecting aiosignal>=1.1.2 (from aiohttp!=4.0.0a0,!=4.0.0a1->fsspec[http]<2026.0,>=2022.5.0->lightning)\n",
      "#5 1.842   Downloading aiosignal-1.3.2-py2.py3-none-any.whl.metadata (3.8 kB)\n",
      "#5 1.844 Requirement already satisfied: attrs>=17.3.0 in /opt/conda/lib/python3.12/site-packages (from aiohttp!=4.0.0a0,!=4.0.0a1->fsspec[http]<2026.0,>=2022.5.0->lightning) (25.3.0)\n",
      "#5 1.913 Collecting frozenlist>=1.1.1 (from aiohttp!=4.0.0a0,!=4.0.0a1->fsspec[http]<2026.0,>=2022.5.0->lightning)\n",
      "#5 1.921   Downloading frozenlist-1.6.0-cp312-cp312-manylinux_2_5_x86_64.manylinux1_x86_64.manylinux_2_17_x86_64.manylinux2014_x86_64.whl.metadata (16 kB)\n",
      "#5 2.202 Collecting multidict<7.0,>=4.5 (from aiohttp!=4.0.0a0,!=4.0.0a1->fsspec[http]<2026.0,>=2022.5.0->lightning)\n",
      "#5 2.219   Downloading multidict-6.4.3-cp312-cp312-manylinux_2_17_x86_64.manylinux2014_x86_64.whl.metadata (5.3 kB)\n",
      "#5 2.270 Collecting propcache>=0.2.0 (from aiohttp!=4.0.0a0,!=4.0.0a1->fsspec[http]<2026.0,>=2022.5.0->lightning)\n",
      "#5 2.279   Downloading propcache-0.3.1-cp312-cp312-manylinux_2_17_x86_64.manylinux2014_x86_64.whl.metadata (10 kB)\n",
      "#5 2.622 Collecting yarl<2.0,>=1.17.0 (from aiohttp!=4.0.0a0,!=4.0.0a1->fsspec[http]<2026.0,>=2022.5.0->lightning)\n",
      "#5 2.631   Downloading yarl-1.20.0-cp312-cp312-manylinux_2_17_x86_64.manylinux2014_x86_64.whl.metadata (72 kB)\n",
      "#5 2.647 Requirement already satisfied: idna>=2.0 in /opt/conda/lib/python3.12/site-packages (from yarl<2.0,>=1.17.0->aiohttp!=4.0.0a0,!=4.0.0a1->fsspec[http]<2026.0,>=2022.5.0->lightning) (3.10)\n",
      "#5 2.693 Requirement already satisfied: mpmath<1.4,>=1.1.0 in /opt/conda/lib/python3.12/site-packages (from sympy>=1.13.3->torch<4.0,>=2.1.0->lightning) (1.3.0)\n",
      "#5 2.700 Requirement already satisfied: MarkupSafe>=2.0 in /opt/conda/lib/python3.12/site-packages (from jinja2->torch<4.0,>=2.1.0->lightning) (3.0.2)\n",
      "#5 2.724 Downloading lightning-2.5.1.post0-py3-none-any.whl (819 kB)\n",
      "#5 2.739    ━━━━━━━━━━━━━━━━━━━━━━━━━━━━━━━━━━━━━━━━ 819.0/819.0 kB 80.9 MB/s eta 0:00:00\n",
      "#5 2.748 Downloading lightning_utilities-0.14.3-py3-none-any.whl (28 kB)\n",
      "#5 2.760 Downloading packaging-24.2-py3-none-any.whl (65 kB)\n",
      "#5 2.769 Downloading torchmetrics-1.7.1-py3-none-any.whl (961 kB)\n",
      "#5 2.773    ━━━━━━━━━━━━━━━━━━━━━━━━━━━━━━━━━━━━━━━ 961.5/961.5 kB 446.7 MB/s eta 0:00:00\n",
      "#5 2.783 Downloading aiohttp-3.11.18-cp312-cp312-manylinux_2_17_x86_64.manylinux2014_x86_64.whl (1.7 MB)\n",
      "#5 2.793    ━━━━━━━━━━━━━━━━━━━━━━━━━━━━━━━━━━━━━━━━ 1.7/1.7 MB 294.0 MB/s eta 0:00:00\n",
      "#5 2.802 Downloading multidict-6.4.3-cp312-cp312-manylinux_2_17_x86_64.manylinux2014_x86_64.whl (223 kB)\n",
      "#5 2.813 Downloading yarl-1.20.0-cp312-cp312-manylinux_2_17_x86_64.manylinux2014_x86_64.whl (349 kB)\n",
      "#5 2.823 Downloading aiohappyeyeballs-2.6.1-py3-none-any.whl (15 kB)\n",
      "#5 2.831 Downloading aiosignal-1.3.2-py2.py3-none-any.whl (7.6 kB)\n",
      "#5 2.841 Downloading frozenlist-1.6.0-cp312-cp312-manylinux_2_5_x86_64.manylinux1_x86_64.manylinux_2_17_x86_64.manylinux2014_x86_64.whl (316 kB)\n",
      "#5 2.853 Downloading propcache-0.3.1-cp312-cp312-manylinux_2_17_x86_64.manylinux2014_x86_64.whl (245 kB)\n",
      "#5 2.864 Downloading pytorch_lightning-2.5.1.post0-py3-none-any.whl (823 kB)\n",
      "#5 2.871    ━━━━━━━━━━━━━━━━━━━━━━━━━━━━━━━━━━━━━━━ 823.1/823.1 kB 299.0 MB/s eta 0:00:00\n",
      "#5 3.324 Installing collected packages: propcache, packaging, multidict, frozenlist, aiohappyeyeballs, yarl, lightning-utilities, aiosignal, aiohttp, torchmetrics, pytorch-lightning, lightning\n",
      "#5 3.342   Attempting uninstall: packaging\n",
      "#5 3.348     Found existing installation: packaging 25.0\n",
      "#5 3.352     Uninstalling packaging-25.0:\n",
      "#5 3.365       Successfully uninstalled packaging-25.0\n",
      "#5 5.527 \n",
      "#5 5.553 Successfully installed aiohappyeyeballs-2.6.1 aiohttp-3.11.18 aiosignal-1.3.2 frozenlist-1.6.0 lightning-2.5.1.post0 lightning-utilities-0.14.3 multidict-6.4.3 packaging-24.2 propcache-0.3.1 pytorch-lightning-2.5.1.post0 torchmetrics-1.7.1 yarl-1.20.0\n",
      "#5 DONE 11.3s\n",
      "\n",
      "#6 [3/3] RUN pip install --pre --no-cache-dir pynvml &&     pip install --pre --no-cache-dir mlflow &&     fix-permissions \"/opt/conda\" &&     fix-permissions \"/home/jovyan\"\n",
      "#6 0.716 Collecting pynvml\n",
      "#6 0.779   Downloading pynvml-12.0.0-py3-none-any.whl.metadata (5.4 kB)\n",
      "#6 0.814 Collecting nvidia-ml-py<13.0.0a0,>=12.0.0 (from pynvml)\n",
      "#6 0.832   Downloading nvidia_ml_py-12.575.51-py3-none-any.whl.metadata (9.3 kB)\n",
      "#6 0.856 Downloading pynvml-12.0.0-py3-none-any.whl (26 kB)\n",
      "#6 0.878 Downloading nvidia_ml_py-12.575.51-py3-none-any.whl (47 kB)\n",
      "#6 1.388 Installing collected packages: nvidia-ml-py, pynvml\n",
      "#6 1.487 \n",
      "#6 1.513 Successfully installed nvidia-ml-py-12.575.51 pynvml-12.0.0\n",
      "#6 2.184 Collecting mlflow\n",
      "#6 2.249   Downloading mlflow-3.0.0rc1-py3-none-any.whl.metadata (29 kB)\n",
      "#6 2.305 Collecting mlflow-skinny==3.0.0rc1 (from mlflow)\n",
      "#6 2.322   Downloading mlflow_skinny-3.0.0rc1-py3-none-any.whl.metadata (30 kB)\n",
      "#6 2.372 Collecting Flask<4 (from mlflow)\n",
      "#6 2.388   Downloading flask-3.1.0-py3-none-any.whl.metadata (2.7 kB)\n",
      "#6 2.393 Requirement already satisfied: Jinja2<4,>=2.11 in /opt/conda/lib/python3.12/site-packages (from mlflow) (3.1.6)\n",
      "#6 2.393 Requirement already satisfied: alembic!=1.10.0,<2 in /opt/conda/lib/python3.12/site-packages (from mlflow) (1.15.2)\n",
      "#6 2.427 Collecting docker<8,>=4.0.0 (from mlflow)\n",
      "#6 2.444   Downloading docker-7.1.0-py3-none-any.whl.metadata (3.8 kB)\n",
      "#6 2.480 Collecting graphene<4 (from mlflow)\n",
      "#6 2.498   Downloading graphene-3.4.3-py2.py3-none-any.whl.metadata (6.9 kB)\n",
      "#6 2.534 Collecting gunicorn<24 (from mlflow)\n",
      "#6 2.552   Downloading gunicorn-23.0.0-py3-none-any.whl.metadata (4.4 kB)\n",
      "#6 2.597 Collecting markdown<4,>=3.3 (from mlflow)\n",
      "#6 2.614   Downloading markdown-3.8-py3-none-any.whl.metadata (5.1 kB)\n",
      "#6 2.619 Requirement already satisfied: matplotlib<4 in /opt/conda/lib/python3.12/site-packages (from mlflow) (3.10.1)\n",
      "#6 2.620 Requirement already satisfied: numpy<3 in /opt/conda/lib/python3.12/site-packages (from mlflow) (2.2.5)\n",
      "#6 2.620 Requirement already satisfied: pandas<3 in /opt/conda/lib/python3.12/site-packages (from mlflow) (2.2.3)\n",
      "#6 2.739 Collecting pyarrow<20,>=4.0.0 (from mlflow)\n",
      "#6 2.756   Downloading pyarrow-19.0.1-cp312-cp312-manylinux_2_28_x86_64.whl.metadata (3.3 kB)\n",
      "#6 2.759 Requirement already satisfied: scikit-learn<2 in /opt/conda/lib/python3.12/site-packages (from mlflow) (1.6.1)\n",
      "#6 2.759 Requirement already satisfied: scipy<2 in /opt/conda/lib/python3.12/site-packages (from mlflow) (1.15.2)\n",
      "#6 2.760 Requirement already satisfied: sqlalchemy<3,>=1.4.0 in /opt/conda/lib/python3.12/site-packages (from mlflow) (2.0.40)\n",
      "#6 2.782 Collecting cachetools<6,>=5.0.0 (from mlflow-skinny==3.0.0rc1->mlflow)\n",
      "#6 2.799   Downloading cachetools-5.5.2-py3-none-any.whl.metadata (5.4 kB)\n",
      "#6 2.801 Requirement already satisfied: click<9,>=7.0 in /opt/conda/lib/python3.12/site-packages (from mlflow-skinny==3.0.0rc1->mlflow) (8.1.8)\n",
      "#6 2.802 Requirement already satisfied: cloudpickle<4 in /opt/conda/lib/python3.12/site-packages (from mlflow-skinny==3.0.0rc1->mlflow) (3.1.1)\n",
      "#6 2.832 Collecting databricks-sdk<1,>=0.20.0 (from mlflow-skinny==3.0.0rc1->mlflow)\n",
      "#6 2.849   Downloading databricks_sdk-0.52.0-py3-none-any.whl.metadata (39 kB)\n",
      "#6 2.930 Collecting fastapi<1 (from mlflow-skinny==3.0.0rc1->mlflow)\n",
      "#6 2.948   Downloading fastapi-0.115.12-py3-none-any.whl.metadata (27 kB)\n",
      "#6 2.958 Requirement already satisfied: gitpython<4,>=3.1.9 in /opt/conda/lib/python3.12/site-packages (from mlflow-skinny==3.0.0rc1->mlflow) (3.1.44)\n",
      "#6 2.959 Requirement already satisfied: importlib_metadata!=4.7.0,<9,>=3.7.0 in /opt/conda/lib/python3.12/site-packages (from mlflow-skinny==3.0.0rc1->mlflow) (8.6.1)\n",
      "#6 2.985 Collecting opentelemetry-api<3,>=1.9.0 (from mlflow-skinny==3.0.0rc1->mlflow)\n",
      "#6 3.002   Downloading opentelemetry_api-1.33.0-py3-none-any.whl.metadata (1.6 kB)\n",
      "#6 3.031 Collecting opentelemetry-sdk<3,>=1.9.0 (from mlflow-skinny==3.0.0rc1->mlflow)\n",
      "#6 3.048   Downloading opentelemetry_sdk-1.33.0-py3-none-any.whl.metadata (1.6 kB)\n",
      "#6 3.050 Requirement already satisfied: packaging<26 in /opt/conda/lib/python3.12/site-packages (from mlflow-skinny==3.0.0rc1->mlflow) (24.2)\n",
      "#6 3.051 Requirement already satisfied: protobuf<7,>=3.12.0 in /opt/conda/lib/python3.12/site-packages (from mlflow-skinny==3.0.0rc1->mlflow) (5.29.3)\n",
      "#6 3.051 Requirement already satisfied: pydantic<3,>=1.10.8 in /opt/conda/lib/python3.12/site-packages (from mlflow-skinny==3.0.0rc1->mlflow) (2.11.3)\n",
      "#6 3.052 Requirement already satisfied: pyyaml<7,>=5.1 in /opt/conda/lib/python3.12/site-packages (from mlflow-skinny==3.0.0rc1->mlflow) (6.0.2)\n",
      "#6 3.053 Requirement already satisfied: requests<3,>=2.17.3 in /opt/conda/lib/python3.12/site-packages (from mlflow-skinny==3.0.0rc1->mlflow) (2.32.3)\n",
      "#6 3.068 Collecting sqlparse<1,>=0.4.0 (from mlflow-skinny==3.0.0rc1->mlflow)\n",
      "#6 3.085   Downloading sqlparse-0.5.3-py3-none-any.whl.metadata (3.9 kB)\n",
      "#6 3.089 Requirement already satisfied: typing-extensions<5,>=4.0.0 in /opt/conda/lib/python3.12/site-packages (from mlflow-skinny==3.0.0rc1->mlflow) (4.13.2)\n",
      "#6 3.127 Collecting uvicorn<1 (from mlflow-skinny==3.0.0rc1->mlflow)\n",
      "#6 3.144   Downloading uvicorn-0.34.2-py3-none-any.whl.metadata (6.5 kB)\n",
      "#6 3.151 Requirement already satisfied: Mako in /opt/conda/lib/python3.12/site-packages (from alembic!=1.10.0,<2->mlflow) (1.3.10)\n",
      "#6 3.212 Collecting google-auth~=2.0 (from databricks-sdk<1,>=0.20.0->mlflow-skinny==3.0.0rc1->mlflow)\n",
      "#6 3.231   Downloading google_auth-2.40.1-py2.py3-none-any.whl.metadata (6.2 kB)\n",
      "#6 3.244 Requirement already satisfied: urllib3>=1.26.0 in /opt/conda/lib/python3.12/site-packages (from docker<8,>=4.0.0->mlflow) (2.4.0)\n",
      "#6 3.282 Collecting starlette<0.47.0,>=0.40.0 (from fastapi<1->mlflow-skinny==3.0.0rc1->mlflow)\n",
      "#6 3.298   Downloading starlette-0.46.2-py3-none-any.whl.metadata (6.2 kB)\n",
      "#6 3.330 Collecting Werkzeug>=3.1 (from Flask<4->mlflow)\n",
      "#6 3.346   Downloading werkzeug-3.1.3-py3-none-any.whl.metadata (3.7 kB)\n",
      "#6 3.361 Collecting itsdangerous>=2.2 (from Flask<4->mlflow)\n",
      "#6 3.377   Downloading itsdangerous-2.2.0-py3-none-any.whl.metadata (1.9 kB)\n",
      "#6 3.379 Requirement already satisfied: blinker>=1.9 in /opt/conda/lib/python3.12/site-packages (from Flask<4->mlflow) (1.9.0)\n",
      "#6 3.381 Requirement already satisfied: gitdb<5,>=4.0.1 in /opt/conda/lib/python3.12/site-packages (from gitpython<4,>=3.1.9->mlflow-skinny==3.0.0rc1->mlflow) (4.0.12)\n",
      "#6 3.385 Requirement already satisfied: smmap<6,>=3.0.1 in /opt/conda/lib/python3.12/site-packages (from gitdb<5,>=4.0.1->gitpython<4,>=3.1.9->mlflow-skinny==3.0.0rc1->mlflow) (5.0.2)\n",
      "#6 3.415 Collecting pyasn1-modules>=0.2.1 (from google-auth~=2.0->databricks-sdk<1,>=0.20.0->mlflow-skinny==3.0.0rc1->mlflow)\n",
      "#6 3.432   Downloading pyasn1_modules-0.4.2-py3-none-any.whl.metadata (3.5 kB)\n",
      "#6 3.453 Collecting rsa<5,>=3.1.4 (from google-auth~=2.0->databricks-sdk<1,>=0.20.0->mlflow-skinny==3.0.0rc1->mlflow)\n",
      "#6 3.521   Downloading rsa-4.9.1-py3-none-any.whl.metadata (5.6 kB)\n",
      "#6 3.564 Collecting graphql-core<3.3,>=3.1 (from graphene<4->mlflow)\n",
      "#6 3.581   Downloading graphql_core-3.2.6-py3-none-any.whl.metadata (11 kB)\n",
      "#6 3.603 Collecting graphql-relay<3.3,>=3.1 (from graphene<4->mlflow)\n",
      "#6 3.621   Downloading graphql_relay-3.2.0-py3-none-any.whl.metadata (12 kB)\n",
      "#6 3.626 Requirement already satisfied: python-dateutil<3,>=2.7.0 in /opt/conda/lib/python3.12/site-packages (from graphene<4->mlflow) (2.9.0.post0)\n",
      "#6 3.650 Requirement already satisfied: zipp>=3.20 in /opt/conda/lib/python3.12/site-packages (from importlib_metadata!=4.7.0,<9,>=3.7.0->mlflow-skinny==3.0.0rc1->mlflow) (3.21.0)\n",
      "#6 3.656 Requirement already satisfied: MarkupSafe>=2.0 in /opt/conda/lib/python3.12/site-packages (from Jinja2<4,>=2.11->mlflow) (3.0.2)\n",
      "#6 3.660 Requirement already satisfied: contourpy>=1.0.1 in /opt/conda/lib/python3.12/site-packages (from matplotlib<4->mlflow) (1.3.2)\n",
      "#6 3.661 Requirement already satisfied: cycler>=0.10 in /opt/conda/lib/python3.12/site-packages (from matplotlib<4->mlflow) (0.12.1)\n",
      "#6 3.662 Requirement already satisfied: fonttools>=4.22.0 in /opt/conda/lib/python3.12/site-packages (from matplotlib<4->mlflow) (4.57.0)\n",
      "#6 3.663 Requirement already satisfied: kiwisolver>=1.3.1 in /opt/conda/lib/python3.12/site-packages (from matplotlib<4->mlflow) (1.4.8)\n",
      "#6 3.664 Requirement already satisfied: pillow>=8 in /opt/conda/lib/python3.12/site-packages (from matplotlib<4->mlflow) (11.1.0)\n",
      "#6 3.665 Requirement already satisfied: pyparsing>=2.3.1 in /opt/conda/lib/python3.12/site-packages (from matplotlib<4->mlflow) (3.2.3)\n",
      "#6 3.685 Collecting deprecated>=1.2.6 (from opentelemetry-api<3,>=1.9.0->mlflow-skinny==3.0.0rc1->mlflow)\n",
      "#6 3.702   Downloading Deprecated-1.2.18-py2.py3-none-any.whl.metadata (5.7 kB)\n",
      "#6 3.731 Collecting opentelemetry-semantic-conventions==0.54b0 (from opentelemetry-sdk<3,>=1.9.0->mlflow-skinny==3.0.0rc1->mlflow)\n",
      "#6 3.748   Downloading opentelemetry_semantic_conventions-0.54b0-py3-none-any.whl.metadata (2.5 kB)\n",
      "#6 3.757 Requirement already satisfied: pytz>=2020.1 in /opt/conda/lib/python3.12/site-packages (from pandas<3->mlflow) (2025.2)\n",
      "#6 3.757 Requirement already satisfied: tzdata>=2022.7 in /opt/conda/lib/python3.12/site-packages (from pandas<3->mlflow) (2025.2)\n",
      "#6 3.776 Requirement already satisfied: annotated-types>=0.6.0 in /opt/conda/lib/python3.12/site-packages (from pydantic<3,>=1.10.8->mlflow-skinny==3.0.0rc1->mlflow) (0.7.0)\n",
      "#6 3.776 Requirement already satisfied: pydantic-core==2.33.1 in /opt/conda/lib/python3.12/site-packages (from pydantic<3,>=1.10.8->mlflow-skinny==3.0.0rc1->mlflow) (2.33.1)\n",
      "#6 3.777 Requirement already satisfied: typing-inspection>=0.4.0 in /opt/conda/lib/python3.12/site-packages (from pydantic<3,>=1.10.8->mlflow-skinny==3.0.0rc1->mlflow) (0.4.0)\n",
      "#6 3.782 Requirement already satisfied: six>=1.5 in /opt/conda/lib/python3.12/site-packages (from python-dateutil<3,>=2.7.0->graphene<4->mlflow) (1.17.0)\n",
      "#6 3.786 Requirement already satisfied: charset_normalizer<4,>=2 in /opt/conda/lib/python3.12/site-packages (from requests<3,>=2.17.3->mlflow-skinny==3.0.0rc1->mlflow) (3.4.2)\n",
      "#6 3.786 Requirement already satisfied: idna<4,>=2.5 in /opt/conda/lib/python3.12/site-packages (from requests<3,>=2.17.3->mlflow-skinny==3.0.0rc1->mlflow) (3.10)\n",
      "#6 3.787 Requirement already satisfied: certifi>=2017.4.17 in /opt/conda/lib/python3.12/site-packages (from requests<3,>=2.17.3->mlflow-skinny==3.0.0rc1->mlflow) (2025.1.31)\n",
      "#6 3.821 Collecting pyasn1>=0.1.3 (from rsa<5,>=3.1.4->google-auth~=2.0->databricks-sdk<1,>=0.20.0->mlflow-skinny==3.0.0rc1->mlflow)\n",
      "#6 3.838   Downloading pyasn1-0.6.1-py3-none-any.whl.metadata (8.4 kB)\n",
      "#6 3.844 Requirement already satisfied: joblib>=1.2.0 in /opt/conda/lib/python3.12/site-packages (from scikit-learn<2->mlflow) (1.5.0)\n",
      "#6 3.844 Requirement already satisfied: threadpoolctl>=3.1.0 in /opt/conda/lib/python3.12/site-packages (from scikit-learn<2->mlflow) (3.6.0)\n",
      "#6 3.864 Requirement already satisfied: greenlet>=1 in /opt/conda/lib/python3.12/site-packages (from sqlalchemy<3,>=1.4.0->mlflow) (3.2.1)\n",
      "#6 3.873 Requirement already satisfied: anyio<5,>=3.6.2 in /opt/conda/lib/python3.12/site-packages (from starlette<0.47.0,>=0.40.0->fastapi<1->mlflow-skinny==3.0.0rc1->mlflow) (4.9.0)\n",
      "#6 3.876 Requirement already satisfied: sniffio>=1.1 in /opt/conda/lib/python3.12/site-packages (from anyio<5,>=3.6.2->starlette<0.47.0,>=0.40.0->fastapi<1->mlflow-skinny==3.0.0rc1->mlflow) (1.3.1)\n",
      "#6 3.887 Requirement already satisfied: h11>=0.8 in /opt/conda/lib/python3.12/site-packages (from uvicorn<1->mlflow-skinny==3.0.0rc1->mlflow) (0.16.0)\n",
      "#6 4.024 Collecting wrapt<2,>=1.10 (from deprecated>=1.2.6->opentelemetry-api<3,>=1.9.0->mlflow-skinny==3.0.0rc1->mlflow)\n",
      "#6 4.041   Downloading wrapt-1.17.2-cp312-cp312-manylinux_2_5_x86_64.manylinux1_x86_64.manylinux_2_17_x86_64.manylinux2014_x86_64.whl.metadata (6.4 kB)\n",
      "#6 4.119 Downloading mlflow-3.0.0rc1-py3-none-any.whl (29.0 MB)\n",
      "#6 4.350    ━━━━━━━━━━━━━━━━━━━━━━━━━━━━━━━━━━━━━━━━ 29.0/29.0 MB 142.4 MB/s eta 0:00:00\n",
      "#6 4.367 Downloading mlflow_skinny-3.0.0rc1-py3-none-any.whl (6.2 MB)\n",
      "#6 4.401    ━━━━━━━━━━━━━━━━━━━━━━━━━━━━━━━━━━━━━━━━ 6.2/6.2 MB 231.8 MB/s eta 0:00:00\n",
      "#6 4.417 Downloading cachetools-5.5.2-py3-none-any.whl (10 kB)\n",
      "#6 4.434 Downloading databricks_sdk-0.52.0-py3-none-any.whl (700 kB)\n",
      "#6 4.438    ━━━━━━━━━━━━━━━━━━━━━━━━━━━━━━━━━━━━━━━ 700.2/700.2 kB 489.1 MB/s eta 0:00:00\n",
      "#6 4.455 Downloading docker-7.1.0-py3-none-any.whl (147 kB)\n",
      "#6 4.472 Downloading fastapi-0.115.12-py3-none-any.whl (95 kB)\n",
      "#6 4.488 Downloading flask-3.1.0-py3-none-any.whl (102 kB)\n",
      "#6 4.506 Downloading google_auth-2.40.1-py2.py3-none-any.whl (216 kB)\n",
      "#6 4.523 Downloading graphene-3.4.3-py2.py3-none-any.whl (114 kB)\n",
      "#6 4.541 Downloading graphql_core-3.2.6-py3-none-any.whl (203 kB)\n",
      "#6 4.558 Downloading graphql_relay-3.2.0-py3-none-any.whl (16 kB)\n",
      "#6 4.574 Downloading gunicorn-23.0.0-py3-none-any.whl (85 kB)\n",
      "#6 4.592 Downloading markdown-3.8-py3-none-any.whl (106 kB)\n",
      "#6 4.609 Downloading opentelemetry_api-1.33.0-py3-none-any.whl (65 kB)\n",
      "#6 4.627 Downloading opentelemetry_sdk-1.33.0-py3-none-any.whl (118 kB)\n",
      "#6 4.644 Downloading opentelemetry_semantic_conventions-0.54b0-py3-none-any.whl (194 kB)\n",
      "#6 4.662 Downloading pyarrow-19.0.1-cp312-cp312-manylinux_2_28_x86_64.whl (42.1 MB)\n",
      "#6 4.901    ━━━━━━━━━━━━━━━━━━━━━━━━━━━━━━━━━━━━━━━━ 42.1/42.1 MB 177.2 MB/s eta 0:00:00\n",
      "#6 4.918 Downloading rsa-4.9.1-py3-none-any.whl (34 kB)\n",
      "#6 4.935 Downloading sqlparse-0.5.3-py3-none-any.whl (44 kB)\n",
      "#6 4.952 Downloading starlette-0.46.2-py3-none-any.whl (72 kB)\n",
      "#6 4.969 Downloading uvicorn-0.34.2-py3-none-any.whl (62 kB)\n",
      "#6 4.986 Downloading Deprecated-1.2.18-py2.py3-none-any.whl (10.0 kB)\n",
      "#6 5.003 Downloading wrapt-1.17.2-cp312-cp312-manylinux_2_5_x86_64.manylinux1_x86_64.manylinux_2_17_x86_64.manylinux2014_x86_64.whl (89 kB)\n",
      "#6 5.019 Downloading itsdangerous-2.2.0-py3-none-any.whl (16 kB)\n",
      "#6 5.036 Downloading pyasn1-0.6.1-py3-none-any.whl (83 kB)\n",
      "#6 5.066 Downloading pyasn1_modules-0.4.2-py3-none-any.whl (181 kB)\n",
      "#6 5.092 Downloading werkzeug-3.1.3-py3-none-any.whl (224 kB)\n",
      "#6 5.924 Installing collected packages: wrapt, Werkzeug, uvicorn, sqlparse, pyasn1, pyarrow, markdown, itsdangerous, gunicorn, graphql-core, cachetools, starlette, rsa, pyasn1-modules, graphql-relay, Flask, docker, deprecated, opentelemetry-api, graphene, google-auth, fastapi, opentelemetry-semantic-conventions, databricks-sdk, opentelemetry-sdk, mlflow-skinny, mlflow\n",
      "#6 6.374   Attempting uninstall: pyarrow\n",
      "#6 6.384     Found existing installation: pyarrow 20.0.0\n",
      "#6 6.387     Uninstalling pyarrow-20.0.0:\n",
      "#6 7.058       Successfully uninstalled pyarrow-20.0.0\n",
      "#6 14.90 \n",
      "#6 14.93 Successfully installed Flask-3.1.0 Werkzeug-3.1.3 cachetools-5.5.2 databricks-sdk-0.52.0 deprecated-1.2.18 docker-7.1.0 fastapi-0.115.12 google-auth-2.40.1 graphene-3.4.3 graphql-core-3.2.6 graphql-relay-3.2.0 gunicorn-23.0.0 itsdangerous-2.2.0 markdown-3.8 mlflow-3.0.0rc1 mlflow-skinny-3.0.0rc1 opentelemetry-api-1.33.0 opentelemetry-sdk-1.33.0 opentelemetry-semantic-conventions-0.54b0 pyarrow-19.0.1 pyasn1-0.6.1 pyasn1-modules-0.4.2 rsa-4.9.1 sqlparse-0.5.3 starlette-0.46.2 uvicorn-0.34.2 wrapt-1.17.2\n",
      "#6 DONE 18.2s\n",
      "\n",
      "#7 exporting to image\n",
      "#7 exporting layers\n",
      "#7 exporting layers 3.4s done\n",
      "#7 writing image sha256:478e346972a7a03331689302b22ac343abeee5dcc98e12e825cc8e97ad868ea3 done\n",
      "#7 naming to docker.io/library/jupyter-mlflow done\n",
      "#7 DONE 3.5s\n"
     ]
    },
    {
     "data": {
      "text/plain": [
       "<Result cmd='docker build -t jupyter-mlflow -f mltrain-chi/docker/Dockerfile.jupyter-torch-mlflow-cuda .' exited=0>"
      ]
     },
     "execution_count": 19,
     "metadata": {},
     "output_type": "execute_result"
    }
   ],
   "source": [
    "s.execute(\"docker build -t jupyter-mlflow -f mltrain-chi/docker/Dockerfile.jupyter-torch-mlflow-cuda .\")"
   ]
  },
  {
   "cell_type": "markdown",
   "metadata": {},
   "source": [
    "Leave that cell running, and in the meantime, open an SSH sesson on your server. From your local terminal, run\n",
    "\n",
    "    ssh -i ~/.ssh/id_rsa_chameleon cc@A.B.C.D\n",
    "\n",
    "where\n",
    "\n",
    "-   in place of `~/.ssh/id_rsa_chameleon`, substitute the path to your own key that you had uploaded to CHI@TACC\n",
    "-   in place of `A.B.C.D`, use the floating IP address you just associated to your instance."
   ]
  },
  {
   "cell_type": "code",
   "execution_count": null,
   "metadata": {},
   "outputs": [],
   "source": []
  }
 ],
 "metadata": {
  "kernelspec": {
   "display_name": "Python 3 (ipykernel)",
   "language": "python",
   "name": "python3"
  },
  "language_info": {
   "codemirror_mode": {
    "name": "ipython",
    "version": 3
   },
   "file_extension": ".py",
   "mimetype": "text/x-python",
   "name": "python",
   "nbconvert_exporter": "python",
   "pygments_lexer": "ipython3",
   "version": "3.10.9"
  }
 },
 "nbformat": 4,
 "nbformat_minor": 4
}
