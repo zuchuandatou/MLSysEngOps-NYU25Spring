{
 "cells": [
  {
   "cell_type": "markdown",
   "id": "a00b38a0",
   "metadata": {},
   "source": [
    "## Prepare data"
   ]
  },
  {
   "cell_type": "code",
   "execution_count": null,
   "id": "102253c9",
   "metadata": {
    "vscode": {
     "languageId": "plaintext"
    }
   },
   "outputs": [],
   "source": [
    "# docker volume create movielens\n",
    "\n",
    "docker com pose -f serve-model-chi/docker/docker-compose-data.yaml up -d"
   ]
  },
  {
   "cell_type": "code",
   "execution_count": null,
   "id": "60151baf",
   "metadata": {
    "vscode": {
     "languageId": "plaintext"
    }
   },
   "outputs": [],
   "source": [
    "docker ps"
   ]
  },
  {
   "cell_type": "code",
   "execution_count": null,
   "id": "a1e71614",
   "metadata": {
    "vscode": {
     "languageId": "plaintext"
    }
   },
   "outputs": [],
   "source": [
    "# docker run --rm -it -v movielens:/mnt alpine ls -lh /mnt/\n",
    "docker run --rm -it -v ~/data:/mnt/data:ro alpine ls -lh /mnt/data"
   ]
  }
 ],
 "metadata": {
  "language_info": {
   "name": "python"
  }
 },
 "nbformat": 4,
 "nbformat_minor": 5
}
