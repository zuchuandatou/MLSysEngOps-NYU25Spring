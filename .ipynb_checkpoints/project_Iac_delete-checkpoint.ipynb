{
 "cells": [
  {
   "cell_type": "code",
   "execution_count": 13,
   "id": "ce398c7b-2f15-4e40-812c-f763b3ded81d",
   "metadata": {
    "tags": []
   },
   "outputs": [],
   "source": [
    "cd /work/MLSysEngOps-NYU25Spring/tf/kvm"
   ]
  },
  {
   "cell_type": "code",
   "execution_count": 14,
   "id": "c0636d10-2661-4654-a260-01d6f316cd9e",
   "metadata": {
    "tags": []
   },
   "outputs": [],
   "source": [
    "export PATH=/work/.local/bin:$PATH"
   ]
  },
  {
   "cell_type": "code",
   "execution_count": 15,
   "id": "d44f7726-a670-4eba-bc2d-40cf1699a716",
   "metadata": {
    "tags": []
   },
   "outputs": [],
   "source": [
    "unset $(set | grep -o \"^OS_[A-Za-z0-9_]*\")"
   ]
  },
  {
   "cell_type": "code",
   "execution_count": 16,
   "id": "9edf6c8a-464e-4dc6-8efc-5d8b9a3d622f",
   "metadata": {
    "tags": []
   },
   "outputs": [],
   "source": [
    "export TF_VAR_suffix=zl5573\n",
    "export TF_VAR_key=id_rsa_chameleon"
   ]
  },
  {
   "cell_type": "code",
   "execution_count": 17,
   "id": "1f9d39b4-86fa-449a-9d3d-edb6462112c6",
   "metadata": {
    "tags": []
   },
   "outputs": [],
   "source": [
    "# terraform destroy -auto-approve"
   ]
  },
  {
   "cell_type": "code",
   "execution_count": 18,
   "id": "381a28ec-509c-4aac-8e2c-d19a69b97365",
   "metadata": {
    "tags": []
   },
   "outputs": [
    {
     "name": "stdout",
     "output_type": "stream",
     "text": [
      "\u001b[0m\u001b[1mdata.openstack_networking_secgroup_v2.allow_9090: Reading...\u001b[0m\u001b[0m\n",
      "\u001b[0m\u001b[1mdata.openstack_networking_secgroup_v2.allow_9092: Reading...\u001b[0m\u001b[0m\n",
      "\u001b[0m\u001b[1mdata.openstack_networking_secgroup_v2.allow_9001: Reading...\u001b[0m\u001b[0m\n",
      "\u001b[0m\u001b[1mdata.openstack_networking_secgroup_v2.allow_8000: Reading...\u001b[0m\u001b[0m\n",
      "\u001b[0m\u001b[1mdata.openstack_networking_secgroup_v2.allow_3000: Reading...\u001b[0m\u001b[0m\n",
      "\u001b[0m\u001b[1mopenstack_blockstorage_volume_v3.minio_volume: Refreshing state... [id=cf7bb2f1-e28f-4491-96f4-3e95f551d306]\u001b[0m\n",
      "\u001b[0m\u001b[1mdata.openstack_networking_secgroup_v2.allow_8080: Reading...\u001b[0m\u001b[0m\n",
      "\u001b[0m\u001b[1mdata.openstack_networking_secgroup_v2.allow_8081: Reading...\u001b[0m\u001b[0m\n",
      "\u001b[0m\u001b[1mdata.openstack_networking_network_v2.sharednet2: Reading...\u001b[0m\u001b[0m\n",
      "\u001b[0m\u001b[1mdata.openstack_networking_secgroup_v2.allow_http_80: Reading...\u001b[0m\u001b[0m\n",
      "\u001b[0m\u001b[1mdata.openstack_networking_secgroup_v2.allow_9092: Read complete after 1s [id=6969c56f-bc98-411a-bb1a-257528746028]\u001b[0m\n",
      "\u001b[0m\u001b[1mdata.openstack_networking_secgroup_v2.allow_9001: Read complete after 1s [id=ad2912c0-caa9-49e0-b431-b9b3953b91b3]\u001b[0m\n",
      "\u001b[0m\u001b[1mdata.openstack_networking_secgroup_v2.allow_ssh: Reading...\u001b[0m\u001b[0m\n",
      "\u001b[0m\u001b[1mdata.openstack_networking_network_v2.sharednet2: Read complete after 1s [id=4ec616b2-79e1-4813-abca-f2ceb41e0a89]\u001b[0m\n",
      "\u001b[0m\u001b[1mopenstack_networking_network_v2.private_net: Refreshing state... [id=26930136-8880-4d38-bd48-b5ac0a3c2e0c]\u001b[0m\n",
      "\u001b[0m\u001b[1mdata.openstack_networking_secgroup_v2.allow_ssh: Read complete after 0s [id=47860acf-9269-4d26-84b1-363824f7e0a2]\u001b[0m\n",
      "\u001b[0m\u001b[1mdata.openstack_networking_secgroup_v2.allow_8081: Read complete after 1s [id=9806d71f-f0bd-4c5d-8c48-f32db3094575]\u001b[0m\n",
      "\u001b[0m\u001b[1mdata.openstack_networking_secgroup_v2.allow_8000: Read complete after 1s [id=17a6d962-cc23-4551-ac0b-08b098f451d2]\u001b[0m\n",
      "\u001b[0m\u001b[1mdata.openstack_networking_secgroup_v2.allow_http_80: Read complete after 1s [id=5df2db36-79f9-4b9b-b6c9-1ece762d83fb]\u001b[0m\n",
      "\u001b[0m\u001b[1mdata.openstack_networking_secgroup_v2.allow_9090: Read complete after 1s [id=d6736d54-d9a4-431c-a5b5-4d29dbcdee03]\u001b[0m\n",
      "\u001b[0m\u001b[1mdata.openstack_networking_secgroup_v2.allow_8080: Read complete after 1s [id=e6eff5db-c96d-4e3d-be49-1ade281f4a7a]\u001b[0m\n",
      "\u001b[0m\u001b[1mopenstack_networking_subnet_v2.private_subnet: Refreshing state... [id=d2874aac-285f-41b1-a083-3db864944eea]\u001b[0m\n",
      "\u001b[0m\u001b[1mopenstack_networking_port_v2.private_net_ports[\"node2\"]: Refreshing state... [id=762767cf-130b-4b17-8da7-08139022b00f]\u001b[0m\n",
      "\u001b[0m\u001b[1mopenstack_networking_port_v2.private_net_ports[\"node1\"]: Refreshing state... [id=303bdb99-6834-44b2-ab62-d863f39503ad]\u001b[0m\n",
      "\u001b[0m\u001b[1mopenstack_networking_port_v2.private_net_ports[\"node3\"]: Refreshing state... [id=aa46febb-ff96-4975-b4a1-4ad631d7c504]\u001b[0m\n",
      "\u001b[33m╷\u001b[0m\u001b[0m\n",
      "\u001b[33m│\u001b[0m \u001b[0m\u001b[1m\u001b[33mWarning: \u001b[0m\u001b[0m\u001b[1mResource targeting is in effect\u001b[0m\n",
      "\u001b[33m│\u001b[0m \u001b[0m\n",
      "\u001b[33m│\u001b[0m \u001b[0m\u001b[0mYou are creating a plan with the -target option, which means that the result\n",
      "\u001b[33m│\u001b[0m \u001b[0mof this plan may not represent all of the changes requested by the current\n",
      "\u001b[33m│\u001b[0m \u001b[0mconfiguration.\n",
      "\u001b[33m│\u001b[0m \u001b[0m\n",
      "\u001b[33m│\u001b[0m \u001b[0mThe -target option is not for routine use, and is provided only for\n",
      "\u001b[33m│\u001b[0m \u001b[0mexceptional situations such as recovering from errors or mistakes, or when\n",
      "\u001b[33m│\u001b[0m \u001b[0mTerraform specifically suggests to use it as part of an error message.\n",
      "\u001b[33m╵\u001b[0m\u001b[0m\n",
      "\u001b[31m╷\u001b[0m\u001b[0m\n",
      "\u001b[31m│\u001b[0m \u001b[0m\u001b[1m\u001b[31mError: \u001b[0m\u001b[0m\u001b[1mMore than one Security Group found with name: allow-3000\u001b[0m\n",
      "\u001b[31m│\u001b[0m \u001b[0m\n",
      "\u001b[31m│\u001b[0m \u001b[0m\u001b[0m  with data.openstack_networking_secgroup_v2.allow_3000,\n",
      "\u001b[31m│\u001b[0m \u001b[0m  on data.tf line 37, in data \"openstack_networking_secgroup_v2\" \"allow_3000\":\n",
      "\u001b[31m│\u001b[0m \u001b[0m  37: data \"openstack_networking_secgroup_v2\" \"allow_3000\" \u001b[4m{\u001b[0m\u001b[0m\n",
      "\u001b[31m│\u001b[0m \u001b[0m\n",
      "\u001b[31m╵\u001b[0m\u001b[0m\n"
     ]
    },
    {
     "ename": "",
     "evalue": "1",
     "output_type": "error",
     "traceback": []
    }
   ],
   "source": [
    "terraform destroy -auto-approve \\\n",
    "  -target='openstack_compute_volume_attach_v2.attach_minio' \\\n",
    "  -target='openstack_networking_floatingip_v2.floating_ip' \\\n",
    "  -target='openstack_compute_instance_v2.nodes[\"node1\"]' \\\n",
    "  -target='openstack_compute_instance_v2.nodes[\"node2\"]' \\\n",
    "  -target='openstack_compute_instance_v2.nodes[\"node3\"]' \\\n",
    "  -target='openstack_networking_port_v2.sharednet2_ports[\"node1\"]' \\\n",
    "  -target='openstack_networking_port_v2.sharednet2_ports[\"node2\"]' \\\n",
    "  -target='openstack_networking_port_v2.sharednet2_ports[\"node3\"]' \\\n",
    "  -target='openstack_networking_port_v2.private_net_ports[\"node1\"]' \\\n",
    "  -target='openstack_networking_port_v2.private_net_ports[\"node2\"]' \\\n",
    "  -target='openstack_networking_port_v2.private_net_ports[\"node3\"]' \\\n",
    "  -target='openstack_networking_subnet_v2.private_subnet' \\\n",
    "  -target='openstack_networking_network_v2.private_net'\n"
   ]
  },
  {
   "cell_type": "code",
   "execution_count": null,
   "id": "a51f4f00-c3e4-4719-a98d-2bdef7634871",
   "metadata": {},
   "outputs": [],
   "source": []
  },
  {
   "cell_type": "code",
   "execution_count": null,
   "id": "7f98236b-b74c-4a34-9875-4e9d86f45f12",
   "metadata": {},
   "outputs": [],
   "source": []
  },
  {
   "cell_type": "code",
   "execution_count": null,
   "id": "f3288984-5d84-4aca-b627-4d7236278881",
   "metadata": {},
   "outputs": [],
   "source": []
  },
  {
   "cell_type": "code",
   "execution_count": null,
   "id": "c62c3396-7208-4ba2-87cb-1c52e1bdd949",
   "metadata": {},
   "outputs": [],
   "source": []
  },
  {
   "cell_type": "code",
   "execution_count": null,
   "id": "0ad963d8-5585-45a7-805b-45d1bf8506ee",
   "metadata": {},
   "outputs": [],
   "source": []
  }
 ],
 "metadata": {
  "kernelspec": {
   "display_name": "Bash",
   "language": "bash",
   "name": "bash"
  },
  "language_info": {
   "codemirror_mode": "shell",
   "file_extension": ".sh",
   "mimetype": "text/x-sh",
   "name": "bash"
  }
 },
 "nbformat": 4,
 "nbformat_minor": 5
}
