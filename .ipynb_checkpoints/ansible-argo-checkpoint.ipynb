{
 "cells": [
  {
   "cell_type": "code",
   "execution_count": null,
   "id": "4460147e-d342-4565-8546-d3bbe3dd6ace",
   "metadata": {},
   "outputs": [],
   "source": [
    "export PATH=/work/.local/bin:$PATH\n",
    "export PYTHONUSERBASE=/work/.local\n",
    "export ANSIBLE_CONFIG=/work/MLSysEngOps-NYU25Spring/ansible/ansible.cfg\n",
    "export ANSIBLE_ROLES_PATH=roles"
   ]
  },
  {
   "cell_type": "code",
   "execution_count": null,
   "id": "f15cc13b-c4d0-438b-ac42-db61abdf2258",
   "metadata": {},
   "outputs": [],
   "source": [
    "cd /work/MLSysEngOps-NYU25Spring/ansible\n",
    "ansible-playbook -i inventory.yml argocd/argocd_add_platform.yml"
   ]
  },
  {
   "cell_type": "code",
   "execution_count": null,
   "id": "9863a590-fafc-4556-8443-9f7111331590",
   "metadata": {},
   "outputs": [],
   "source": []
  }
 ],
 "metadata": {
  "kernelspec": {
   "display_name": "",
   "name": ""
  },
  "language_info": {
   "name": ""
  }
 },
 "nbformat": 4,
 "nbformat_minor": 5
}
