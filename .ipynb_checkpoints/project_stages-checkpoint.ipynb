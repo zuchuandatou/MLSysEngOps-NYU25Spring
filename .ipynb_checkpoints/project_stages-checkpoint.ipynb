{
 "cells": [
  {
   "cell_type": "code",
   "execution_count": 48,
   "id": "410fe09a-26b8-4ed6-9b51-97dbecefc9b6",
   "metadata": {
    "tags": []
   },
   "outputs": [],
   "source": [
    "# use ansible to let argocd setup platform (minio, postgres, mlflow)"
   ]
  },
  {
   "cell_type": "code",
   "execution_count": 4,
   "id": "128de50b-434e-4b46-86f8-3fe1c91cf472",
   "metadata": {
    "tags": []
   },
   "outputs": [],
   "source": [
    "export PATH=/work/.local/bin:$PATH\n",
    "export PYTHONUSERBASE=/work/.local\n",
    "export ANSIBLE_CONFIG=/work/MLSysEngOps-NYU25Spring/ansible/ansible.cfg\n",
    "export ANSIBLE_ROLES_PATH=roles"
   ]
  },
  {
   "cell_type": "code",
   "execution_count": null,
   "id": "5312372f-e1a2-41d4-960b-e38447f35edc",
   "metadata": {
    "tags": []
   },
   "outputs": [],
   "source": [
    "cd /work/MLSysEngOps-NYU25Spring/ansible\n",
    "ansible-playbook -i inventory.yml argocd/argocd_add_platform.yml"
   ]
  },
  {
   "cell_type": "code",
   "execution_count": null,
   "id": "ec4cefca-5220-4fac-9649-8fa30b378666",
   "metadata": {
    "tags": []
   },
   "outputs": [],
   "source": [
    "cd /work/MLSysEngOps-NYU25Spring/ansible\n",
    "ansible-playbook -i inventory.yml argocd/workflow_build_init.yml"
   ]
  },
  {
   "cell_type": "code",
   "execution_count": null,
   "id": "8af66243",
   "metadata": {
    "vscode": {
     "languageId": "plaintext"
    }
   },
   "outputs": [],
   "source": []
  },
  {
   "cell_type": "code",
   "execution_count": null,
   "id": "17f01e1f",
   "metadata": {
    "vscode": {
     "languageId": "plaintext"
    }
   },
   "outputs": [],
   "source": []
  },
  {
   "cell_type": "code",
   "execution_count": null,
   "id": "a54f255d",
   "metadata": {
    "vscode": {
     "languageId": "plaintext"
    }
   },
   "outputs": [],
   "source": []
  },
  {
   "cell_type": "code",
   "execution_count": null,
   "id": "19f6cfa3-bd14-43c2-bd2d-50e14c2422d4",
   "metadata": {
    "tags": []
   },
   "outputs": [],
   "source": [
    "cd /work/MLSysEngOps-NYU25Spring/ansible\n",
    "ansible-playbook -i inventory.yml argocd/argocd_add_staging.yml"
   ]
  },
  {
   "cell_type": "code",
   "execution_count": null,
   "id": "47184ae6-ebd3-4cb2-9922-a978fd842d4e",
   "metadata": {
    "tags": []
   },
   "outputs": [],
   "source": [
    "cd /work/MLSysEngOps-NYU25Spring/ansible\n",
    "ansible-playbook -i inventory.yml argocd/argocd_add_canary.yml"
   ]
  },
  {
   "cell_type": "code",
   "execution_count": null,
   "id": "b453397e-b5a0-4c62-a71d-43c57f4eb456",
   "metadata": {
    "tags": []
   },
   "outputs": [],
   "source": [
    "cd /work/MLSysEngOps-NYU25Spring/ansible\n",
    "ansible-playbook -i inventory.yml argocd/argocd_add_prod.yml"
   ]
  },
  {
   "cell_type": "code",
   "execution_count": null,
   "id": "439d5bfa-5ec3-4804-8dcc-d34e4b00419c",
   "metadata": {
    "tags": []
   },
   "outputs": [],
   "source": [
    "cd /work/MLSysEngOps-NYU25Spring/ansible\n",
    "ansible-playbook -i inventory.yml argocd/workflow_templates_apply.yml"
   ]
  },
  {
   "cell_type": "code",
   "execution_count": null,
   "id": "b6c4fd31-5f86-4eaa-b59e-a23d083b404c",
   "metadata": {},
   "outputs": [],
   "source": []
  },
  {
   "cell_type": "code",
   "execution_count": null,
   "id": "10198e1c-9576-40ae-b08c-3af9ae55c2c2",
   "metadata": {},
   "outputs": [],
   "source": []
  },
  {
   "cell_type": "code",
   "execution_count": null,
   "id": "cdd2afbc-2013-4969-900d-87e5a0448a9d",
   "metadata": {},
   "outputs": [],
   "source": []
  },
  {
   "cell_type": "code",
   "execution_count": null,
   "id": "bc2a9405-137b-48c2-b944-390e4774240b",
   "metadata": {},
   "outputs": [],
   "source": []
  },
  {
   "cell_type": "code",
   "execution_count": null,
   "id": "21b6c2bc-7eb6-47ea-8a75-1abbcd81d941",
   "metadata": {},
   "outputs": [],
   "source": []
  },
  {
   "cell_type": "code",
   "execution_count": null,
   "id": "dae035bc-8d14-4231-b507-c0e8db7fcc63",
   "metadata": {},
   "outputs": [],
   "source": []
  },
  {
   "cell_type": "code",
   "execution_count": null,
   "id": "62c4935e-75ae-4cfd-b44d-09c1a1bc7ecd",
   "metadata": {},
   "outputs": [],
   "source": []
  }
 ],
 "metadata": {
  "kernelspec": {
   "display_name": "Bash",
   "language": "bash",
   "name": "bash"
  },
  "language_info": {
   "codemirror_mode": "shell",
   "file_extension": ".sh",
   "mimetype": "text/x-sh",
   "name": "bash"
  }
 },
 "nbformat": 4,
 "nbformat_minor": 5
}
