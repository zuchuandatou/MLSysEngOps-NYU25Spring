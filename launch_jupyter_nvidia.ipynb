{
 "cells": [
  {
   "cell_type": "code",
   "execution_count": null,
   "id": "abaf0480",
   "metadata": {
    "vscode": {
     "languageId": "plaintext"
    }
   },
   "outputs": [],
   "source": [
    "# run on node-serve-model\n",
    "# docker build -t jupyter-onnx -f serve-model-chi/docker/Dockerfile.jupyter-onnx-gpu .\n",
    "docker build -t jupyter-onnx -f serve-model-chi/docker/Dockerfile.jupyter-onnx-cpu ."
   ]
  },
  {
   "cell_type": "code",
   "execution_count": null,
   "id": "ad42b79a",
   "metadata": {
    "vscode": {
     "languageId": "plaintext"
    }
   },
   "outputs": [],
   "source": [
    "# 启动容器\n",
    "docker run -d --rm -p 8888:8888 \\\n",
    "    --gpus all \\\n",
    "    --shm-size 16G \\\n",
    "    -v ~/serve-model-chi/workspace:/home/jovyan/work/ \\\n",
    "    -v movielens:/mnt/ \\\n",
    "    -e MOVIELENS_DATA_DIR=/mnt/data \\\n",
    "    --name jupyter \\\n",
    "    jupyter-onnx"
   ]
  },
  {
   "cell_type": "code",
   "execution_count": null,
   "id": "3ee1b417",
   "metadata": {
    "vscode": {
     "languageId": "plaintext"
    }
   },
   "outputs": [],
   "source": [
    "# 无GPU\n",
    "docker run -d --rm -p 8888:8888 \\\n",
    "    --shm-size 16G \\\n",
    "    -v ~/serve-model-chi/workspace:/home/jovyan/work/ \\\n",
    "    -v ~/data:/mnt/data:ro \\\n",
    "    -e MOVIELENS_DATA_DIR=/mnt/data \\\n",
    "    --name jupyter \\\n",
    "    jupyter-onnx"
   ]
  },
  {
   "cell_type": "code",
   "execution_count": null,
   "id": "8ef2a3f6",
   "metadata": {
    "vscode": {
     "languageId": "plaintext"
    }
   },
   "outputs": [],
   "source": [
    "docker logs jupyter"
   ]
  }
 ],
 "metadata": {
  "language_info": {
   "name": "python"
  }
 },
 "nbformat": 4,
 "nbformat_minor": 5
}
