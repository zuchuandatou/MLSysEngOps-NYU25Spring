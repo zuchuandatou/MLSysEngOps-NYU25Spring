{
 "cells": [
  {
   "cell_type": "code",
   "execution_count": 1,
   "id": "c21400a6-7fbb-44c5-a6be-62f12e62d13b",
   "metadata": {
    "tags": []
   },
   "outputs": [],
   "source": [
    "export PATH=/work/.local/bin:$PATH"
   ]
  },
  {
   "cell_type": "code",
   "execution_count": 4,
   "id": "3a5ceca0-2894-4413-ba30-1bb346e828a0",
   "metadata": {
    "tags": []
   },
   "outputs": [],
   "source": [
    "export TF_VAR_suffix=zl5573\n",
    "export TF_VAR_key=id_rsa_chameleon"
   ]
  },
  {
   "cell_type": "code",
   "execution_count": 5,
   "id": "6f8b763f-5bbd-4fd4-ae4b-dc84fffaa451",
   "metadata": {
    "tags": []
   },
   "outputs": [
    {
     "name": "stdout",
     "output_type": "stream",
     "text": [
      "\u001b[0m\u001b[1mInitializing the backend...\u001b[0m\n",
      "\u001b[0m\u001b[1mInitializing provider plugins...\u001b[0m\n",
      "- Reusing previous version of terraform-provider-openstack/openstack from the dependency lock file\n",
      "- Using previously-installed terraform-provider-openstack/openstack v1.51.1\n",
      "\n",
      "\u001b[0m\u001b[1m\u001b[32mTerraform has been successfully initialized!\u001b[0m\u001b[32m\u001b[0m\n",
      "\u001b[0m\u001b[32m\n",
      "You may now begin working with Terraform. Try running \"terraform plan\" to see\n",
      "any changes that are required for your infrastructure. All Terraform commands\n",
      "should now work.\n",
      "\n",
      "If you ever set or change modules or backend configuration for Terraform,\n",
      "rerun this command to reinitialize your working directory. If you forget, other\n",
      "commands will detect it and remind you to do so if necessary.\u001b[0m\n"
     ]
    }
   ],
   "source": [
    "terraform init"
   ]
  },
  {
   "cell_type": "code",
   "execution_count": 9,
   "id": "a90e7996-7c2e-403f-af38-38b6a6481a2d",
   "metadata": {
    "tags": []
   },
   "outputs": [
    {
     "name": "stdout",
     "output_type": "stream",
     "text": [
      "\u001b[0m\u001b[1mdata.openstack_networking_secgroup_v2.allow_9001: Reading...\u001b[0m\u001b[0m\n",
      "\u001b[0m\u001b[1mdata.openstack_networking_secgroup_v2.allow_19090: Reading...\u001b[0m\u001b[0m\n",
      "\u001b[0m\u001b[1mdata.openstack_networking_secgroup_v2.allow_3000: Reading...\u001b[0m\u001b[0m\n",
      "\u001b[0m\u001b[1mdata.openstack_networking_secgroup_v2.allow_9092: Reading...\u001b[0m\u001b[0m\n",
      "\u001b[0m\u001b[1mdata.openstack_networking_secgroup_v2.allow_ssh: Reading...\u001b[0m\u001b[0m\n",
      "\u001b[0m\u001b[1mdata.openstack_networking_secgroup_v2.allow_8000: Reading...\u001b[0m\u001b[0m\n",
      "\u001b[0m\u001b[1mdata.openstack_networking_subnet_v2.sharednet2_subnet: Reading...\u001b[0m\u001b[0m\n",
      "\u001b[0m\u001b[1mdata.openstack_networking_secgroup_v2.allow_9090: Reading...\u001b[0m\u001b[0m\n",
      "\u001b[0m\u001b[1mopenstack_networking_network_v2.private_net: Refreshing state... [id=e058e6d5-bf20-4f84-ba67-e4559dd40369]\u001b[0m\n",
      "\u001b[0m\u001b[1mopenstack_blockstorage_volume_v3.minio_volume: Refreshing state... [id=cf7bb2f1-e28f-4491-96f4-3e95f551d306]\u001b[0m\n",
      "\u001b[0m\u001b[1mdata.openstack_networking_secgroup_v2.allow_8081: Reading...\u001b[0m\u001b[0m\n",
      "\u001b[0m\u001b[1mdata.openstack_networking_network_v2.sharednet2: Reading...\u001b[0m\u001b[0m\n",
      "\u001b[0m\u001b[1mdata.openstack_networking_secgroup_v2.allow_8080: Reading...\u001b[0m\u001b[0m\n",
      "\u001b[0m\u001b[1mdata.openstack_networking_secgroup_v2.allow_http_80: Reading...\u001b[0m\u001b[0m\n",
      "\u001b[0m\u001b[1mopenstack_networking_subnet_v2.private_subnet: Refreshing state... [id=388b8cca-f027-4cda-9d1a-4e7f9133a238]\u001b[0m\n",
      "\u001b[0m\u001b[1mopenstack_networking_port_v2.private_net_ports[\"node1\"]: Refreshing state... [id=9b8a7ec4-0944-4833-97ab-3c86e1dc5c46]\u001b[0m\n",
      "\u001b[0m\u001b[1mopenstack_networking_port_v2.private_net_ports[\"node3\"]: Refreshing state... [id=09c809b7-6eed-4ed1-9ec5-699fb6a24956]\u001b[0m\n",
      "\u001b[0m\u001b[1mopenstack_networking_port_v2.private_net_ports[\"node2\"]: Refreshing state... [id=0f933584-2f58-4c58-bbbd-04e5f62872e0]\u001b[0m\n",
      "\n",
      "\u001b[0m\u001b[1m\u001b[31mPlanning failed.\u001b[0m\u001b[1m Terraform encountered an error while generating this plan.\u001b[0m\n",
      "\n",
      "\u001b[0m\u001b[31m╷\u001b[0m\u001b[0m\n",
      "\u001b[31m│\u001b[0m \u001b[0m\u001b[1m\u001b[31mError: \u001b[0m\u001b[0m\u001b[1mError creating OpenStack networking client: No suitable endpoint could be found in the service catalog.\u001b[0m\n",
      "\u001b[31m│\u001b[0m \u001b[0m\n",
      "\u001b[31m│\u001b[0m \u001b[0m\u001b[0m  with data.openstack_networking_network_v2.sharednet2,\n",
      "\u001b[31m│\u001b[0m \u001b[0m  on data.tf line 1, in data \"openstack_networking_network_v2\" \"sharednet2\":\n",
      "\u001b[31m│\u001b[0m \u001b[0m   1: data \"openstack_networking_network_v2\" \"sharednet2\" \u001b[4m{\u001b[0m\u001b[0m\n",
      "\u001b[31m│\u001b[0m \u001b[0m\n",
      "\u001b[31m╵\u001b[0m\u001b[0m\n",
      "\u001b[31m╷\u001b[0m\u001b[0m\n",
      "\u001b[31m│\u001b[0m \u001b[0m\u001b[1m\u001b[31mError: \u001b[0m\u001b[0m\u001b[1mError creating OpenStack networking client: No suitable endpoint could be found in the service catalog.\u001b[0m\n",
      "\u001b[31m│\u001b[0m \u001b[0m\n",
      "\u001b[31m│\u001b[0m \u001b[0m\u001b[0m  with data.openstack_networking_subnet_v2.sharednet2_subnet,\n",
      "\u001b[31m│\u001b[0m \u001b[0m  on data.tf line 5, in data \"openstack_networking_subnet_v2\" \"sharednet2_subnet\":\n",
      "\u001b[31m│\u001b[0m \u001b[0m   5: data \"openstack_networking_subnet_v2\" \"sharednet2_subnet\" \u001b[4m{\u001b[0m\u001b[0m\n",
      "\u001b[31m│\u001b[0m \u001b[0m\n",
      "\u001b[31m╵\u001b[0m\u001b[0m\n",
      "\u001b[31m╷\u001b[0m\u001b[0m\n",
      "\u001b[31m│\u001b[0m \u001b[0m\u001b[1m\u001b[31mError: \u001b[0m\u001b[0m\u001b[1mError creating OpenStack networking client: No suitable endpoint could be found in the service catalog.\u001b[0m\n",
      "\u001b[31m│\u001b[0m \u001b[0m\n",
      "\u001b[31m│\u001b[0m \u001b[0m\u001b[0m  with data.openstack_networking_secgroup_v2.allow_ssh,\n",
      "\u001b[31m│\u001b[0m \u001b[0m  on data.tf line 9, in data \"openstack_networking_secgroup_v2\" \"allow_ssh\":\n",
      "\u001b[31m│\u001b[0m \u001b[0m   9: data \"openstack_networking_secgroup_v2\" \"allow_ssh\" \u001b[4m{\u001b[0m\u001b[0m\n",
      "\u001b[31m│\u001b[0m \u001b[0m\n",
      "\u001b[31m╵\u001b[0m\u001b[0m\n",
      "\u001b[31m╷\u001b[0m\u001b[0m\n",
      "\u001b[31m│\u001b[0m \u001b[0m\u001b[1m\u001b[31mError: \u001b[0m\u001b[0m\u001b[1mError creating OpenStack networking client: No suitable endpoint could be found in the service catalog.\u001b[0m\n",
      "\u001b[31m│\u001b[0m \u001b[0m\n",
      "\u001b[31m│\u001b[0m \u001b[0m\u001b[0m  with data.openstack_networking_secgroup_v2.allow_9001,\n",
      "\u001b[31m│\u001b[0m \u001b[0m  on data.tf line 13, in data \"openstack_networking_secgroup_v2\" \"allow_9001\":\n",
      "\u001b[31m│\u001b[0m \u001b[0m  13: data \"openstack_networking_secgroup_v2\" \"allow_9001\" \u001b[4m{\u001b[0m\u001b[0m\n",
      "\u001b[31m│\u001b[0m \u001b[0m\n",
      "\u001b[31m╵\u001b[0m\u001b[0m\n",
      "\u001b[31m╷\u001b[0m\u001b[0m\n",
      "\u001b[31m│\u001b[0m \u001b[0m\u001b[1m\u001b[31mError: \u001b[0m\u001b[0m\u001b[1mError creating OpenStack networking client: No suitable endpoint could be found in the service catalog.\u001b[0m\n",
      "\u001b[31m│\u001b[0m \u001b[0m\n",
      "\u001b[31m│\u001b[0m \u001b[0m\u001b[0m  with data.openstack_networking_secgroup_v2.allow_8000,\n",
      "\u001b[31m│\u001b[0m \u001b[0m  on data.tf line 17, in data \"openstack_networking_secgroup_v2\" \"allow_8000\":\n",
      "\u001b[31m│\u001b[0m \u001b[0m  17: data \"openstack_networking_secgroup_v2\" \"allow_8000\" \u001b[4m{\u001b[0m\u001b[0m\n",
      "\u001b[31m│\u001b[0m \u001b[0m\n",
      "\u001b[31m╵\u001b[0m\u001b[0m\n",
      "\u001b[31m╷\u001b[0m\u001b[0m\n",
      "\u001b[31m│\u001b[0m \u001b[0m\u001b[1m\u001b[31mError: \u001b[0m\u001b[0m\u001b[1mError creating OpenStack networking client: No suitable endpoint could be found in the service catalog.\u001b[0m\n",
      "\u001b[31m│\u001b[0m \u001b[0m\n",
      "\u001b[31m│\u001b[0m \u001b[0m\u001b[0m  with data.openstack_networking_secgroup_v2.allow_8080,\n",
      "\u001b[31m│\u001b[0m \u001b[0m  on data.tf line 21, in data \"openstack_networking_secgroup_v2\" \"allow_8080\":\n",
      "\u001b[31m│\u001b[0m \u001b[0m  21: data \"openstack_networking_secgroup_v2\" \"allow_8080\" \u001b[4m{\u001b[0m\u001b[0m\n",
      "\u001b[31m│\u001b[0m \u001b[0m\n",
      "\u001b[31m╵\u001b[0m\u001b[0m\n",
      "\u001b[31m╷\u001b[0m\u001b[0m\n",
      "\u001b[31m│\u001b[0m \u001b[0m\u001b[1m\u001b[31mError: \u001b[0m\u001b[0m\u001b[1mError creating OpenStack networking client: No suitable endpoint could be found in the service catalog.\u001b[0m\n",
      "\u001b[31m│\u001b[0m \u001b[0m\n",
      "\u001b[31m│\u001b[0m \u001b[0m\u001b[0m  with data.openstack_networking_secgroup_v2.allow_8081,\n",
      "\u001b[31m│\u001b[0m \u001b[0m  on data.tf line 25, in data \"openstack_networking_secgroup_v2\" \"allow_8081\":\n",
      "\u001b[31m│\u001b[0m \u001b[0m  25: data \"openstack_networking_secgroup_v2\" \"allow_8081\" \u001b[4m{\u001b[0m\u001b[0m\n",
      "\u001b[31m│\u001b[0m \u001b[0m\n",
      "\u001b[31m╵\u001b[0m\u001b[0m\n",
      "\u001b[31m╷\u001b[0m\u001b[0m\n",
      "\u001b[31m│\u001b[0m \u001b[0m\u001b[1m\u001b[31mError: \u001b[0m\u001b[0m\u001b[1mError creating OpenStack networking client: No suitable endpoint could be found in the service catalog.\u001b[0m\n",
      "\u001b[31m│\u001b[0m \u001b[0m\n",
      "\u001b[31m│\u001b[0m \u001b[0m\u001b[0m  with data.openstack_networking_secgroup_v2.allow_http_80,\n",
      "\u001b[31m│\u001b[0m \u001b[0m  on data.tf line 29, in data \"openstack_networking_secgroup_v2\" \"allow_http_80\":\n",
      "\u001b[31m│\u001b[0m \u001b[0m  29: data \"openstack_networking_secgroup_v2\" \"allow_http_80\" \u001b[4m{\u001b[0m\u001b[0m\n",
      "\u001b[31m│\u001b[0m \u001b[0m\n",
      "\u001b[31m╵\u001b[0m\u001b[0m\n",
      "\u001b[31m╷\u001b[0m\u001b[0m\n",
      "\u001b[31m│\u001b[0m \u001b[0m\u001b[1m\u001b[31mError: \u001b[0m\u001b[0m\u001b[1mError creating OpenStack networking client: No suitable endpoint could be found in the service catalog.\u001b[0m\n",
      "\u001b[31m│\u001b[0m \u001b[0m\n",
      "\u001b[31m│\u001b[0m \u001b[0m\u001b[0m  with data.openstack_networking_secgroup_v2.allow_9090,\n",
      "\u001b[31m│\u001b[0m \u001b[0m  on data.tf line 33, in data \"openstack_networking_secgroup_v2\" \"allow_9090\":\n",
      "\u001b[31m│\u001b[0m \u001b[0m  33: data \"openstack_networking_secgroup_v2\" \"allow_9090\" \u001b[4m{\u001b[0m\u001b[0m\n",
      "\u001b[31m│\u001b[0m \u001b[0m\n",
      "\u001b[31m╵\u001b[0m\u001b[0m\n",
      "\u001b[31m╷\u001b[0m\u001b[0m\n",
      "\u001b[31m│\u001b[0m \u001b[0m\u001b[1m\u001b[31mError: \u001b[0m\u001b[0m\u001b[1mError creating OpenStack networking client: No suitable endpoint could be found in the service catalog.\u001b[0m\n",
      "\u001b[31m│\u001b[0m \u001b[0m\n",
      "\u001b[31m│\u001b[0m \u001b[0m\u001b[0m  with data.openstack_networking_secgroup_v2.allow_3000,\n",
      "\u001b[31m│\u001b[0m \u001b[0m  on data.tf line 37, in data \"openstack_networking_secgroup_v2\" \"allow_3000\":\n",
      "\u001b[31m│\u001b[0m \u001b[0m  37: data \"openstack_networking_secgroup_v2\" \"allow_3000\" \u001b[4m{\u001b[0m\u001b[0m\n",
      "\u001b[31m│\u001b[0m \u001b[0m\n",
      "\u001b[31m╵\u001b[0m\u001b[0m\n",
      "\u001b[31m╷\u001b[0m\u001b[0m\n",
      "\u001b[31m│\u001b[0m \u001b[0m\u001b[1m\u001b[31mError: \u001b[0m\u001b[0m\u001b[1mError creating OpenStack networking client: No suitable endpoint could be found in the service catalog.\u001b[0m\n",
      "\u001b[31m│\u001b[0m \u001b[0m\n",
      "\u001b[31m│\u001b[0m \u001b[0m\u001b[0m  with data.openstack_networking_secgroup_v2.allow_9092,\n",
      "\u001b[31m│\u001b[0m \u001b[0m  on data.tf line 41, in data \"openstack_networking_secgroup_v2\" \"allow_9092\":\n",
      "\u001b[31m│\u001b[0m \u001b[0m  41: data \"openstack_networking_secgroup_v2\" \"allow_9092\" \u001b[4m{\u001b[0m\u001b[0m\n",
      "\u001b[31m│\u001b[0m \u001b[0m\n",
      "\u001b[31m╵\u001b[0m\u001b[0m\n",
      "\u001b[31m╷\u001b[0m\u001b[0m\n",
      "\u001b[31m│\u001b[0m \u001b[0m\u001b[1m\u001b[31mError: \u001b[0m\u001b[0m\u001b[1mError creating OpenStack networking client: No suitable endpoint could be found in the service catalog.\u001b[0m\n",
      "\u001b[31m│\u001b[0m \u001b[0m\n",
      "\u001b[31m│\u001b[0m \u001b[0m\u001b[0m  with data.openstack_networking_secgroup_v2.allow_19090,\n",
      "\u001b[31m│\u001b[0m \u001b[0m  on data.tf line 45, in data \"openstack_networking_secgroup_v2\" \"allow_19090\":\n",
      "\u001b[31m│\u001b[0m \u001b[0m  45: data \"openstack_networking_secgroup_v2\" \"allow_19090\" \u001b[4m{\u001b[0m\u001b[0m\n",
      "\u001b[31m│\u001b[0m \u001b[0m\n",
      "\u001b[31m╵\u001b[0m\u001b[0m\n"
     ]
    },
    {
     "ename": "",
     "evalue": "1",
     "output_type": "error",
     "traceback": []
    }
   ],
   "source": [
    "terraform plan"
   ]
  },
  {
   "cell_type": "code",
   "execution_count": null,
   "id": "14ca662a-4a49-4b0c-a060-b75c6119278e",
   "metadata": {},
   "outputs": [],
   "source": []
  },
  {
   "cell_type": "code",
   "execution_count": null,
   "id": "091d6829-3b63-4cb9-a38c-93bea99c360e",
   "metadata": {},
   "outputs": [],
   "source": []
  },
  {
   "cell_type": "code",
   "execution_count": null,
   "id": "c26ae2b7-8fcd-4382-8b57-6710c0819724",
   "metadata": {},
   "outputs": [],
   "source": []
  }
 ],
 "metadata": {
  "kernelspec": {
   "display_name": "Bash",
   "language": "bash",
   "name": "bash"
  },
  "language_info": {
   "codemirror_mode": "shell",
   "file_extension": ".sh",
   "mimetype": "text/x-sh",
   "name": "bash"
  }
 },
 "nbformat": 4,
 "nbformat_minor": 5
}
